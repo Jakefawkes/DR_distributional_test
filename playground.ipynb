{
 "cells": [
  {
   "cell_type": "code",
   "execution_count": 61,
   "metadata": {},
   "outputs": [],
   "source": [
    "import gpytorch.kernels as kernel\n",
    "import torch\n",
    "from src.test_statistics import *\n",
    "from src.data import *\n",
    "import random\n",
    "import numpy as np\n",
    "from src.test import *"
   ]
  },
  {
   "cell_type": "code",
   "execution_count": 62,
   "metadata": {},
   "outputs": [],
   "source": [
    "X_ker = kernel.RBFKernel()\n",
    "Y_ker = kernel.RBFKernel()"
   ]
  },
  {
   "cell_type": "code",
   "execution_count": 63,
   "metadata": {},
   "outputs": [],
   "source": [
    "n=100\n",
    "X = torch.randn((n,2))\n",
    "Y = torch.randn(n)\n",
    "T = (torch.randn((n))>0).float()"
   ]
  },
  {
   "cell_type": "code",
   "execution_count": 64,
   "metadata": {},
   "outputs": [],
   "source": [
    "data_train = Data_object(X,Y,T)\n",
    "data_train_flip = Data_object(X,Y,1-T)"
   ]
  },
  {
   "cell_type": "code",
   "execution_count": 65,
   "metadata": {},
   "outputs": [],
   "source": [
    "X = torch.randn((n,2))\n",
    "Y = torch.randn(n)\n",
    "T = (torch.randn((n))>0).float()"
   ]
  },
  {
   "cell_type": "code",
   "execution_count": 66,
   "metadata": {},
   "outputs": [],
   "source": [
    "Y1 = torch.randn((1))"
   ]
  },
  {
   "cell_type": "code",
   "execution_count": 67,
   "metadata": {},
   "outputs": [],
   "source": [
    "data_test = Data_object(X,Y,T)\n",
    "data_test_flip = Data_object(X,Y,1-T)"
   ]
  },
  {
   "cell_type": "code",
   "execution_count": 68,
   "metadata": {},
   "outputs": [],
   "source": [
    "W0 = get_W_matrix(X_ker(data_train.X0).evaluate(),1)\n",
    "W1 = get_W_matrix(Y_ker(data_train.X1).evaluate(),1)"
   ]
  },
  {
   "cell_type": "code",
   "execution_count": 69,
   "metadata": {},
   "outputs": [],
   "source": [
    "weights = 1/2*torch.ones(n)"
   ]
  },
  {
   "cell_type": "code",
   "execution_count": 70,
   "metadata": {},
   "outputs": [],
   "source": [
    "K = ker(X_ker)\n",
    "L = ker(Y_ker)"
   ]
  },
  {
   "cell_type": "code",
   "execution_count": 71,
   "metadata": {},
   "outputs": [
    {
     "data": {
      "text/plain": [
       "tensor([-2., -2.,  2., -2., -2.,  2., -2., -2., -2.,  2.,  2., -2., -2.,  2.,\n",
       "         2.,  2.,  2.,  2., -2.,  2., -2., -2.,  2.,  2., -2., -2.,  2., -2.,\n",
       "        -2.,  2.,  2., -2.,  2., -2.,  2., -2.,  2.,  2., -2., -2., -2.,  2.,\n",
       "        -2.,  2., -2., -2., -2., -2.,  2.,  2., -2., -2., -2.,  2.,  2.,  2.,\n",
       "         2., -2., -2., -2.,  2., -2., -2., -2., -2.,  2., -2., -2., -2.,  2.,\n",
       "        -2., -2., -2., -2.,  2., -2.,  2.,  2.,  2.,  2.,  2.,  2.,  2.,  2.,\n",
       "         2., -2.,  2.,  2.,  2.,  2., -2., -2., -2.,  2.,  2., -2., -2.,  2.,\n",
       "        -2.,  2.])"
      ]
     },
     "execution_count": 71,
     "metadata": {},
     "output_type": "execute_result"
    }
   ],
   "source": [
    "c = (data_test.T - weights)/(weights*(1-weights))\n",
    "c"
   ]
  },
  {
   "cell_type": "code",
   "execution_count": 72,
   "metadata": {},
   "outputs": [
    {
     "data": {
      "text/plain": [
       "torch.Size([100])"
      ]
     },
     "execution_count": 72,
     "metadata": {},
     "output_type": "execute_result"
    }
   ],
   "source": [
    "data_train.Y.shape"
   ]
  },
  {
   "cell_type": "code",
   "execution_count": 73,
   "metadata": {},
   "outputs": [
    {
     "data": {
      "text/plain": [
       "torch.Size([51, 100])"
      ]
     },
     "execution_count": 73,
     "metadata": {},
     "output_type": "execute_result"
    }
   ],
   "source": [
    "L(data_train.Y0,data_train.Y).shape"
   ]
  },
  {
   "cell_type": "code",
   "execution_count": 74,
   "metadata": {},
   "outputs": [
    {
     "data": {
      "text/plain": [
       "0.022170905023813248"
      ]
     },
     "execution_count": 74,
     "metadata": {},
     "output_type": "execute_result"
    }
   ],
   "source": [
    "DATE_test_stat(data_train,data_test,X_ker,Y_ker,weights,W0,W1)"
   ]
  },
  {
   "cell_type": "code",
   "execution_count": 75,
   "metadata": {},
   "outputs": [
    {
     "data": {
      "text/plain": [
       "0.02217782475054264"
      ]
     },
     "execution_count": 75,
     "metadata": {},
     "output_type": "execute_result"
    }
   ],
   "source": [
    "DETT_test_stat(data_train,data_test,X_ker,Y_ker,weights,W1)"
   ]
  },
  {
   "cell_type": "code",
   "execution_count": 76,
   "metadata": {},
   "outputs": [],
   "source": [
    "from sklearn.linear_model import LogisticRegression"
   ]
  },
  {
   "cell_type": "code",
   "execution_count": 77,
   "metadata": {},
   "outputs": [],
   "source": [
    "weights_model = LogisticRegression()"
   ]
  },
  {
   "cell_type": "code",
   "execution_count": 78,
   "metadata": {},
   "outputs": [],
   "source": [
    "weights_model.fit(data_train.X,data_train.T)\n",
    "weights_train = weights_model.predict_proba(data_train.X)[:,1]\n",
    "weights_test = weights_model.predict_proba(data_test.X)[:,1]"
   ]
  },
  {
   "cell_type": "code",
   "execution_count": 79,
   "metadata": {},
   "outputs": [],
   "source": [
    "result_dict = kernel_permutation_test(data_train,data_test,X_ker,Y_ker,weights_model,test_stat=\"DETT\",n_bins=10,n_permutations=100,reg=1)"
   ]
  }
 ],
 "metadata": {
  "kernelspec": {
   "display_name": "base",
   "language": "python",
   "name": "python3"
  },
  "language_info": {
   "codemirror_mode": {
    "name": "ipython",
    "version": 3
   },
   "file_extension": ".py",
   "mimetype": "text/x-python",
   "name": "python",
   "nbconvert_exporter": "python",
   "pygments_lexer": "ipython3",
   "version": "3.8.5"
  },
  "orig_nbformat": 4
 },
 "nbformat": 4,
 "nbformat_minor": 2
}
