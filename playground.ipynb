{
 "cells": [
  {
   "cell_type": "code",
   "execution_count": 1,
   "metadata": {},
   "outputs": [],
   "source": [
    "import gpytorch.kernels as kernel\n",
    "import torch\n",
    "import numpy as np\n",
    "from src.test_statistics import *\n",
    "from src.data import *\n",
    "import random\n",
    "import numpy as np\n",
    "from src.test import *"
   ]
  },
  {
   "cell_type": "code",
   "execution_count": 2,
   "metadata": {},
   "outputs": [],
   "source": [
    "X_ker = kernel.RBFKernel()\n",
    "Y_ker = kernel.RBFKernel()"
   ]
  },
  {
   "cell_type": "code",
   "execution_count": 3,
   "metadata": {},
   "outputs": [
    {
     "data": {
      "text/plain": [
       "RBFKernel(\n",
       "  (raw_lengthscale_constraint): Positive()\n",
       ")"
      ]
     },
     "execution_count": 3,
     "metadata": {},
     "output_type": "execute_result"
    }
   ],
   "source": [
    "X_ker"
   ]
  },
  {
   "cell_type": "code",
   "execution_count": 4,
   "metadata": {},
   "outputs": [],
   "source": [
    "n=100\n",
    "X = torch.randn((n,2))\n",
    "Y = torch.randn(n)\n",
    "T = (torch.randn((n))>0).float()"
   ]
  },
  {
   "cell_type": "code",
   "execution_count": 5,
   "metadata": {},
   "outputs": [],
   "source": [
    "a =torch.tensor([1,1],dtype=float) "
   ]
  },
  {
   "cell_type": "code",
   "execution_count": 6,
   "metadata": {},
   "outputs": [],
   "source": [
    "data_train = Data_object(X,Y,T)\n",
    "data_train_flip = Data_object(X,Y,1-T)"
   ]
  },
  {
   "cell_type": "code",
   "execution_count": 7,
   "metadata": {},
   "outputs": [],
   "source": [
    "m= 200\n",
    "X = torch.randn((m,2))\n",
    "Y = torch.randn(m)\n",
    "T = (torch.randn((m))>0).float()"
   ]
  },
  {
   "cell_type": "code",
   "execution_count": 8,
   "metadata": {},
   "outputs": [],
   "source": [
    "Y1 = torch.randn((1))"
   ]
  },
  {
   "cell_type": "code",
   "execution_count": 9,
   "metadata": {},
   "outputs": [],
   "source": [
    "data_test = Data_object(X,Y,T)\n",
    "data_test_flip = Data_object(X,Y,1-T)"
   ]
  },
  {
   "cell_type": "code",
   "execution_count": 10,
   "metadata": {},
   "outputs": [],
   "source": [
    "W0 = get_W_matrix(X_ker(data_train.X0).evaluate(),1,func=\"cme\")\n",
    "W1 = get_W_matrix(Y_ker(data_train.X1).evaluate(),1,func=\"cme\")"
   ]
  },
  {
   "cell_type": "code",
   "execution_count": 11,
   "metadata": {},
   "outputs": [],
   "source": [
    "weights = 1/2*torch.ones(m)"
   ]
  },
  {
   "cell_type": "code",
   "execution_count": 12,
   "metadata": {},
   "outputs": [],
   "source": [
    "K = ker(X_ker)\n",
    "L = ker(Y_ker)"
   ]
  },
  {
   "cell_type": "code",
   "execution_count": 13,
   "metadata": {},
   "outputs": [
    {
     "data": {
      "text/plain": [
       "tensor([-2.,  2., -2.,  2., -2., -2.,  2., -2.,  2.,  2., -2., -2.,  2., -2.,\n",
       "         2., -2., -2.,  2., -2., -2.,  2.,  2., -2.,  2.,  2.,  2.,  2.,  2.,\n",
       "        -2.,  2.,  2., -2.,  2.,  2., -2.,  2.,  2., -2.,  2., -2.,  2.,  2.,\n",
       "         2.,  2.,  2., -2.,  2.,  2.,  2., -2., -2., -2., -2.,  2., -2., -2.,\n",
       "         2.,  2., -2., -2., -2., -2.,  2.,  2., -2., -2., -2.,  2., -2., -2.,\n",
       "         2., -2., -2.,  2.,  2.,  2.,  2.,  2., -2.,  2., -2.,  2., -2.,  2.,\n",
       "         2.,  2.,  2., -2.,  2., -2.,  2., -2., -2., -2., -2., -2.,  2., -2.,\n",
       "         2., -2.,  2., -2.,  2.,  2.,  2.,  2.,  2.,  2., -2., -2.,  2., -2.,\n",
       "        -2.,  2.,  2.,  2.,  2.,  2., -2.,  2., -2., -2., -2.,  2., -2., -2.,\n",
       "        -2., -2.,  2.,  2., -2.,  2.,  2.,  2., -2.,  2., -2., -2., -2.,  2.,\n",
       "        -2.,  2., -2., -2.,  2.,  2.,  2.,  2., -2., -2.,  2., -2.,  2., -2.,\n",
       "         2., -2.,  2., -2., -2., -2.,  2.,  2., -2.,  2., -2.,  2., -2., -2.,\n",
       "         2., -2.,  2.,  2., -2.,  2., -2., -2., -2.,  2., -2.,  2., -2.,  2.,\n",
       "        -2.,  2.,  2., -2.,  2., -2.,  2.,  2.,  2.,  2.,  2., -2., -2., -2.,\n",
       "         2.,  2.,  2.,  2.])"
      ]
     },
     "execution_count": 13,
     "metadata": {},
     "output_type": "execute_result"
    }
   ],
   "source": [
    "c = (data_test.T - weights)/(weights*(1-weights))\n",
    "c"
   ]
  },
  {
   "cell_type": "code",
   "execution_count": 14,
   "metadata": {},
   "outputs": [
    {
     "data": {
      "text/plain": [
       "torch.Size([100])"
      ]
     },
     "execution_count": 14,
     "metadata": {},
     "output_type": "execute_result"
    }
   ],
   "source": [
    "data_train.Y.shape"
   ]
  },
  {
   "cell_type": "code",
   "execution_count": 15,
   "metadata": {},
   "outputs": [
    {
     "data": {
      "text/plain": [
       "torch.Size([52, 100])"
      ]
     },
     "execution_count": 15,
     "metadata": {},
     "output_type": "execute_result"
    }
   ],
   "source": [
    "L(data_train.Y0,data_train.Y).shape"
   ]
  },
  {
   "cell_type": "code",
   "execution_count": 16,
   "metadata": {},
   "outputs": [
    {
     "data": {
      "text/plain": [
       "0.03972241282463074"
      ]
     },
     "execution_count": 16,
     "metadata": {},
     "output_type": "execute_result"
    }
   ],
   "source": [
    "DATE_test_stat(data_train,data_test,X_ker,Y_ker,weights,W0,W1)"
   ]
  },
  {
   "cell_type": "code",
   "execution_count": 17,
   "metadata": {},
   "outputs": [
    {
     "data": {
      "text/plain": [
       "0.009867262095212936"
      ]
     },
     "execution_count": 17,
     "metadata": {},
     "output_type": "execute_result"
    }
   ],
   "source": [
    "DETT_test_stat(data_train,data_test,X_ker,Y_ker,weights,W1)"
   ]
  },
  {
   "cell_type": "code",
   "execution_count": 18,
   "metadata": {},
   "outputs": [
    {
     "data": {
      "text/plain": [
       "tensor([-2.,  2., -2.,  2., -2., -2.,  2., -2.,  2.,  2., -2., -2.,  2., -2.,\n",
       "         2., -2., -2.,  2., -2., -2.,  2.,  2., -2.,  2.,  2.,  2.,  2.,  2.,\n",
       "        -2.,  2.,  2., -2.,  2.,  2., -2.,  2.,  2., -2.,  2., -2.,  2.,  2.,\n",
       "         2.,  2.,  2., -2.,  2.,  2.,  2., -2., -2., -2., -2.,  2., -2., -2.,\n",
       "         2.,  2., -2., -2., -2., -2.,  2.,  2., -2., -2., -2.,  2., -2., -2.,\n",
       "         2., -2., -2.,  2.,  2.,  2.,  2.,  2., -2.,  2., -2.,  2., -2.,  2.,\n",
       "         2.,  2.,  2., -2.,  2., -2.,  2., -2., -2., -2., -2., -2.,  2., -2.,\n",
       "         2., -2.,  2., -2.,  2.,  2.,  2.,  2.,  2.,  2., -2., -2.,  2., -2.,\n",
       "        -2.,  2.,  2.,  2.,  2.,  2., -2.,  2., -2., -2., -2.,  2., -2., -2.,\n",
       "        -2., -2.,  2.,  2., -2.,  2.,  2.,  2., -2.,  2., -2., -2., -2.,  2.,\n",
       "        -2.,  2., -2., -2.,  2.,  2.,  2.,  2., -2., -2.,  2., -2.,  2., -2.,\n",
       "         2., -2.,  2., -2., -2., -2.,  2.,  2., -2.,  2., -2.,  2., -2., -2.,\n",
       "         2., -2.,  2.,  2., -2.,  2., -2., -2., -2.,  2., -2.,  2., -2.,  2.,\n",
       "        -2.,  2.,  2., -2.,  2., -2.,  2.,  2.,  2.,  2.,  2., -2., -2., -2.,\n",
       "         2.,  2.,  2.,  2.])"
      ]
     },
     "execution_count": 18,
     "metadata": {},
     "output_type": "execute_result"
    }
   ],
   "source": [
    "c"
   ]
  },
  {
   "cell_type": "code",
   "execution_count": 19,
   "metadata": {},
   "outputs": [
    {
     "data": {
      "text/plain": [
       "tensor([-6.4942e+00,  2.4967e+01,  3.1520e+01,  1.7445e+01,  2.5589e+01,\n",
       "         3.1444e+01,  1.2427e+01,  2.1717e+01,  3.0623e+01,  2.5514e+01,\n",
       "         2.0455e+01,  1.5609e+01,  5.3548e+00,  2.7129e+01,  1.8876e+01,\n",
       "         3.1180e+01,  2.3224e+01,  2.8401e+01,  2.6147e+01,  2.7570e+01,\n",
       "         2.8317e+01,  2.2589e+01,  2.7568e+01,  2.3879e+01, -4.5322e+00,\n",
       "         1.0272e+01,  9.6564e+00,  2.3845e+01,  2.6869e+01, -1.1544e+01,\n",
       "         2.1680e+01,  2.6329e+01, -6.1530e+00, -1.1517e+01,  3.0079e+01,\n",
       "        -1.7243e+00,  2.9982e+01,  2.3870e+00,  2.3609e+01,  4.4378e-02,\n",
       "         9.6995e+00,  2.4105e-02,  3.1142e+01,  2.9931e+01,  5.1564e+00,\n",
       "         2.3242e+01,  2.1758e+01,  2.6813e+01,  2.9601e+01,  4.1917e-01,\n",
       "        -3.9448e+00, -1.4687e+01], grad_fn=<MvBackward0>)"
      ]
     },
     "execution_count": 19,
     "metadata": {},
     "output_type": "execute_result"
    }
   ],
   "source": [
    "L(data_train.Y0,data_test.Y)@ c"
   ]
  },
  {
   "cell_type": "code",
   "execution_count": 20,
   "metadata": {},
   "outputs": [],
   "source": [
    "from sklearn.linear_model import LogisticRegression"
   ]
  },
  {
   "cell_type": "code",
   "execution_count": 21,
   "metadata": {},
   "outputs": [],
   "source": [
    "weights_model = LogisticRegression()"
   ]
  },
  {
   "cell_type": "code",
   "execution_count": 22,
   "metadata": {},
   "outputs": [],
   "source": [
    "weights_model.fit(data_train.X,data_train.T)\n",
    "weights_train = weights_model.predict_proba(data_train.X)[:,1]\n",
    "weights_test = weights_model.predict_proba(data_test.X)[:,1]"
   ]
  },
  {
   "cell_type": "code",
   "execution_count": 23,
   "metadata": {},
   "outputs": [],
   "source": [
    "result_dict = kernel_permutation_test(data_train,data_test,X_ker,Y_ker,weights_model,test_stat=\"DETT\",n_bins=10,n_permutations=100,reg=1)"
   ]
  },
  {
   "cell_type": "code",
   "execution_count": 24,
   "metadata": {},
   "outputs": [],
   "source": [
    "g = lambda X: X[:,0]**2 + X[:,1] \n",
    "\n",
    "mu = torch.tensor([0,0.5])\n",
    "sigma = [\"ID\"]\n",
    "g_0 = g\n",
    "g_1 = g\n",
    "noise = 0.1\n",
    "n_sample =100"
   ]
  },
  {
   "cell_type": "code",
   "execution_count": 25,
   "metadata": {},
   "outputs": [
    {
     "name": "stderr",
     "output_type": "stream",
     "text": [
      "/Users/jakefawkes/Python/DR_distributional_test/src/data.py:38: UserWarning: To copy construct from a tensor, it is recommended to use sourceTensor.clone().detach() or sourceTensor.clone().detach().requires_grad_(True), rather than torch.tensor(sourceTensor).\n",
      "  mu = torch.tensor(mu)\n"
     ]
    }
   ],
   "source": [
    "a = shift_data_simulation(mu,sigma,g_0,g_1,noise,n_sample)"
   ]
  },
  {
   "cell_type": "code",
   "execution_count": 26,
   "metadata": {},
   "outputs": [],
   "source": [
    "import yaml\n",
    "import src.data as data"
   ]
  },
  {
   "cell_type": "code",
   "execution_count": 27,
   "metadata": {},
   "outputs": [],
   "source": [
    "f = getattr(data,\"shift_data_simulation\")"
   ]
  },
  {
   "cell_type": "code",
   "execution_count": 28,
   "metadata": {},
   "outputs": [],
   "source": [
    "with open(\"/Users/jakefawkes/Python/DR_distributional_test/config/run_simulated_shift_experiment.yaml\", \"r\") as f:\n",
    "    cfg = yaml.safe_load(f)"
   ]
  },
  {
   "cell_type": "code",
   "execution_count": 29,
   "metadata": {},
   "outputs": [
    {
     "data": {
      "text/plain": [
       "{'experiment': {'n_iter': 30,\n",
       "  'test_stat': ['DATE', 'DETT'],\n",
       "  'ker_regress': ['cme', 'zero'],\n",
       "  'weights_model': 'Logistic_Regression',\n",
       "  'X_ker': 'RBF',\n",
       "  'Y_ker': 'RBF',\n",
       "  'significance_level': 0.05,\n",
       "  'n_bins': 20,\n",
       "  'cme_reg': 0.01,\n",
       "  'permute_weights': True,\n",
       "  'KMM_weights': True},\n",
       " 'data': {'generator': 'shift_data_simulation',\n",
       "  'n_train_sample': 200,\n",
       "  'n_test_sample': 200,\n",
       "  'arguments': {'mu': [0.1, 0.1, 0.1, 0, 0, 0],\n",
       "   'sigma': ['C_ID', 1.5],\n",
       "   'noise': 0.2},\n",
       "  'functions': {'g_0': 'f_3', 'g_1': 'f_4'}}}"
      ]
     },
     "execution_count": 29,
     "metadata": {},
     "output_type": "execute_result"
    }
   ],
   "source": [
    "cfg"
   ]
  },
  {
   "cell_type": "code",
   "execution_count": 30,
   "metadata": {},
   "outputs": [],
   "source": [
    "def make_data(cfg):\n",
    "    if cfg[\"data\"][\"generator\"] == \"shift_data_simulation\":\n",
    "        function_dict = {}\n",
    "        for key in cfg[\"data\"][\"functions\"]:\n",
    "            function_dict[key] = getattr(data,cfg[\"data\"][\"functions\"][key])\n",
    "    data_train = shift_data_simulation(n_sample=cfg[\"data\"][\"n_train_sample\"],**function_dict,**cfg[\"data\"][\"arguments\"])\n",
    "    data_test = shift_data_simulation(n_sample=cfg[\"data\"][\"n_test_sample\"],**function_dict,**cfg[\"data\"][\"arguments\"])\n",
    "    return data_train,data_test"
   ]
  },
  {
   "cell_type": "code",
   "execution_count": 31,
   "metadata": {},
   "outputs": [
    {
     "data": {
      "text/plain": [
       "(<src.data.Data_object at 0x7fcd4c477fa0>,\n",
       " <src.data.Data_object at 0x7fcd536d66a0>)"
      ]
     },
     "execution_count": 31,
     "metadata": {},
     "output_type": "execute_result"
    }
   ],
   "source": [
    "make_data(cfg)"
   ]
  },
  {
   "cell_type": "code",
   "execution_count": 32,
   "metadata": {},
   "outputs": [],
   "source": [
    "function_dict = {}\n",
    "for key in cfg[\"data\"][\"functions\"]:\n",
    "    function_dict[key] = getattr(data,cfg[\"data\"][\"functions\"][key])"
   ]
  },
  {
   "cell_type": "code",
   "execution_count": 33,
   "metadata": {},
   "outputs": [],
   "source": [
    "a = shift_data_simulation(mu,sigma,g_0,g_1,noise,n_sample)"
   ]
  },
  {
   "cell_type": "code",
   "execution_count": 34,
   "metadata": {},
   "outputs": [
    {
     "data": {
      "text/plain": [
       "<src.data.Data_object at 0x7fcd4c4f4400>"
      ]
     },
     "execution_count": 34,
     "metadata": {},
     "output_type": "execute_result"
    }
   ],
   "source": [
    "shift_data_simulation(n_sample=cfg[\"data\"][\"n_train_sample\"],**function_dict,**cfg[\"data\"][\"arguments\"])"
   ]
  },
  {
   "cell_type": "code",
   "execution_count": 35,
   "metadata": {},
   "outputs": [
    {
     "data": {
      "text/plain": [
       "1.0"
      ]
     },
     "execution_count": 35,
     "metadata": {},
     "output_type": "execute_result"
    }
   ],
   "source": [
    "float(True)"
   ]
  },
  {
   "cell_type": "code",
   "execution_count": 36,
   "metadata": {},
   "outputs": [],
   "source": [
    "import pandas as pd"
   ]
  },
  {
   "cell_type": "code",
   "execution_count": 37,
   "metadata": {},
   "outputs": [],
   "source": [
    "df_dict = {\"Y\":a.Y,\"T\":a.T}\n",
    "df = pd.DataFrame(np.array(a.X))\n",
    "df.columns = [\"X\"+str(i) for i in df.columns]"
   ]
  },
  {
   "cell_type": "code",
   "execution_count": 38,
   "metadata": {},
   "outputs": [],
   "source": [
    "df[\"Y\"] = a.Y\n",
    "df[\"T\"] = a.T"
   ]
  },
  {
   "cell_type": "code",
   "execution_count": 39,
   "metadata": {},
   "outputs": [
    {
     "data": {
      "text/html": [
       "<div>\n",
       "<style scoped>\n",
       "    .dataframe tbody tr th:only-of-type {\n",
       "        vertical-align: middle;\n",
       "    }\n",
       "\n",
       "    .dataframe tbody tr th {\n",
       "        vertical-align: top;\n",
       "    }\n",
       "\n",
       "    .dataframe thead th {\n",
       "        text-align: right;\n",
       "    }\n",
       "</style>\n",
       "<table border=\"1\" class=\"dataframe\">\n",
       "  <thead>\n",
       "    <tr style=\"text-align: right;\">\n",
       "      <th></th>\n",
       "      <th>X0</th>\n",
       "      <th>X1</th>\n",
       "      <th>Y</th>\n",
       "      <th>T</th>\n",
       "    </tr>\n",
       "  </thead>\n",
       "  <tbody>\n",
       "    <tr>\n",
       "      <th>0</th>\n",
       "      <td>0.199106</td>\n",
       "      <td>-0.614065</td>\n",
       "      <td>-0.618429</td>\n",
       "      <td>0.0</td>\n",
       "    </tr>\n",
       "    <tr>\n",
       "      <th>1</th>\n",
       "      <td>0.988549</td>\n",
       "      <td>-0.661040</td>\n",
       "      <td>0.412550</td>\n",
       "      <td>0.0</td>\n",
       "    </tr>\n",
       "    <tr>\n",
       "      <th>2</th>\n",
       "      <td>0.440200</td>\n",
       "      <td>-1.753912</td>\n",
       "      <td>-1.511445</td>\n",
       "      <td>0.0</td>\n",
       "    </tr>\n",
       "    <tr>\n",
       "      <th>3</th>\n",
       "      <td>-0.573397</td>\n",
       "      <td>1.531934</td>\n",
       "      <td>1.899727</td>\n",
       "      <td>0.0</td>\n",
       "    </tr>\n",
       "    <tr>\n",
       "      <th>4</th>\n",
       "      <td>-1.299571</td>\n",
       "      <td>-0.374834</td>\n",
       "      <td>1.248494</td>\n",
       "      <td>0.0</td>\n",
       "    </tr>\n",
       "    <tr>\n",
       "      <th>...</th>\n",
       "      <td>...</td>\n",
       "      <td>...</td>\n",
       "      <td>...</td>\n",
       "      <td>...</td>\n",
       "    </tr>\n",
       "    <tr>\n",
       "      <th>95</th>\n",
       "      <td>1.267469</td>\n",
       "      <td>0.462067</td>\n",
       "      <td>2.071645</td>\n",
       "      <td>1.0</td>\n",
       "    </tr>\n",
       "    <tr>\n",
       "      <th>96</th>\n",
       "      <td>0.316135</td>\n",
       "      <td>0.025337</td>\n",
       "      <td>0.106099</td>\n",
       "      <td>1.0</td>\n",
       "    </tr>\n",
       "    <tr>\n",
       "      <th>97</th>\n",
       "      <td>0.426399</td>\n",
       "      <td>0.924406</td>\n",
       "      <td>0.978596</td>\n",
       "      <td>1.0</td>\n",
       "    </tr>\n",
       "    <tr>\n",
       "      <th>98</th>\n",
       "      <td>-1.923299</td>\n",
       "      <td>-1.116824</td>\n",
       "      <td>2.493613</td>\n",
       "      <td>1.0</td>\n",
       "    </tr>\n",
       "    <tr>\n",
       "      <th>99</th>\n",
       "      <td>0.268308</td>\n",
       "      <td>-1.061994</td>\n",
       "      <td>-0.910784</td>\n",
       "      <td>1.0</td>\n",
       "    </tr>\n",
       "  </tbody>\n",
       "</table>\n",
       "<p>100 rows × 4 columns</p>\n",
       "</div>"
      ],
      "text/plain": [
       "          X0        X1         Y    T\n",
       "0   0.199106 -0.614065 -0.618429  0.0\n",
       "1   0.988549 -0.661040  0.412550  0.0\n",
       "2   0.440200 -1.753912 -1.511445  0.0\n",
       "3  -0.573397  1.531934  1.899727  0.0\n",
       "4  -1.299571 -0.374834  1.248494  0.0\n",
       "..       ...       ...       ...  ...\n",
       "95  1.267469  0.462067  2.071645  1.0\n",
       "96  0.316135  0.025337  0.106099  1.0\n",
       "97  0.426399  0.924406  0.978596  1.0\n",
       "98 -1.923299 -1.116824  2.493613  1.0\n",
       "99  0.268308 -1.061994 -0.910784  1.0\n",
       "\n",
       "[100 rows x 4 columns]"
      ]
     },
     "execution_count": 39,
     "metadata": {},
     "output_type": "execute_result"
    }
   ],
   "source": [
    "df"
   ]
  },
  {
   "cell_type": "code",
   "execution_count": 40,
   "metadata": {},
   "outputs": [],
   "source": [
    "import seaborn as sns"
   ]
  },
  {
   "cell_type": "code",
   "execution_count": 41,
   "metadata": {},
   "outputs": [
    {
     "data": {
      "image/png": "[encoded data removed]",
      "text/plain": [
       "<Figure size 591.875x540 with 12 Axes>"
      ]
     },
     "metadata": {
      "needs_background": "light"
     },
     "output_type": "display_data"
    }
   ],
   "source": [
    "b = sns.pairplot(df, hue =\"T\")"
   ]
  },
  {
   "cell_type": "code",
   "execution_count": 42,
   "metadata": {},
   "outputs": [],
   "source": [
    "from datetime import datetime\n"
   ]
  },
  {
   "cell_type": "code",
   "execution_count": 43,
   "metadata": {},
   "outputs": [],
   "source": [
    "now = datetime.now()"
   ]
  },
  {
   "cell_type": "code",
   "execution_count": 44,
   "metadata": {},
   "outputs": [
    {
     "data": {
      "text/plain": [
       "'07-07 14:33:14'"
      ]
     },
     "execution_count": 44,
     "metadata": {},
     "output_type": "execute_result"
    }
   ],
   "source": [
    "now.strftime(\"%m-%d %H:%M:%S\")"
   ]
  },
  {
   "cell_type": "code",
   "execution_count": 45,
   "metadata": {},
   "outputs": [],
   "source": [
    "df_dict = {\"weights\" : weights_model.predict_proba(data_test.X)[:,1], \"T\" : data_test.T}"
   ]
  },
  {
   "cell_type": "code",
   "execution_count": 46,
   "metadata": {},
   "outputs": [],
   "source": [
    "df = pd.DataFrame(df_dict)"
   ]
  },
  {
   "cell_type": "code",
   "execution_count": 47,
   "metadata": {},
   "outputs": [
    {
     "data": {
      "image/png": "[encoded data removed]",
      "text/plain": [
       "<Figure size 432x288 with 1 Axes>"
      ]
     },
     "metadata": {
      "needs_background": "light"
     },
     "output_type": "display_data"
    }
   ],
   "source": [
    "a = sns.kdeplot(data = df, x=\"weights\", hue =\"T\",fill=True, alpha = 0.4)"
   ]
  },
  {
   "cell_type": "code",
   "execution_count": 48,
   "metadata": {},
   "outputs": [
    {
     "data": {
      "image/png": "[encoded data removed]",
      "text/plain": [
       "<Figure size 591.875x540 with 12 Axes>"
      ]
     },
     "metadata": {
      "needs_background": "light"
     },
     "output_type": "display_data"
    }
   ],
   "source": [
    "a = data_train.plot_data()"
   ]
  },
  {
   "cell_type": "code",
   "execution_count": 49,
   "metadata": {},
   "outputs": [
    {
     "name": "stdout",
     "output_type": "stream",
     "text": [
      "y\n"
     ]
    }
   ],
   "source": [
    "if \"str\":\n",
    "    print(\"y\")"
   ]
  },
  {
   "cell_type": "code",
   "execution_count": 50,
   "metadata": {},
   "outputs": [],
   "source": [
    "a =[1,1]"
   ]
  },
  {
   "cell_type": "code",
   "execution_count": 51,
   "metadata": {},
   "outputs": [
    {
     "name": "stdout",
     "output_type": "stream",
     "text": [
      "y\n"
     ]
    }
   ],
   "source": [
    "if type(a) == list:\n",
    "    print(\"y\")"
   ]
  },
  {
   "cell_type": "code",
   "execution_count": 52,
   "metadata": {},
   "outputs": [],
   "source": [
    "def linear_data_simulation(alpha_vec,beta_vec,beta_scalar,effect_var,noise_Y,n_sample):\n",
    "\n",
    "    alpha_vec = torch.tensor(alpha_vec).float()\n",
    "    beta_vec = torch.tensor(beta_vec).float()\n",
    "\n",
    "    d = len(alpha_vec)\n",
    "\n",
    "    X = torch.randn((n_sample,d)).float()\n",
    "    T = torch.bernoulli(torch.sigmoid( X @ alpha_vec ))\n",
    "    \n",
    "    if effect_var == \"const\":\n",
    "        effect_vec = torch.ones(n_sample)\n",
    "\n",
    "    if effect_var == \"Ber\":\n",
    "        effect_vec = 2*torch.bernoulli(1/2*torch.ones(n_sample))-1\n",
    "\n",
    "    if effect_var == \"Unif\":\n",
    "        effect_vec = 2*torch.rand(n_sample)-1\n",
    "\n",
    "    Y =  X @ alpha_vec + beta_scalar * effect_vec + noise_Y * torch.randn((n_sample))\n",
    "\n",
    "    return Data_object(X,Y,T)"
   ]
  },
  {
   "cell_type": "code",
   "execution_count": 53,
   "metadata": {},
   "outputs": [],
   "source": [
    "alpha_vec = [1,1]\n",
    "beta_vec = [1,1]\n",
    "beta_scalar = 1\n",
    "effect_var = \"Ber\"\n",
    "noise_Y = 1\n",
    "n_sample = 100\n",
    "a= linear_data_simulation(alpha_vec,beta_vec,beta_scalar,effect_var,noise_Y,n_sample)"
   ]
  },
  {
   "cell_type": "code",
   "execution_count": 54,
   "metadata": {},
   "outputs": [
    {
     "data": {
      "text/plain": [
       "tensor([-0.4343,  0.2893, -0.7355,  1.5133,  0.9389,  1.2299, -0.4204, -0.0380,\n",
       "         0.8157,  2.0201,  1.3140,  2.6601, -2.9700, -0.7208, -0.0727, -0.9528,\n",
       "         0.6007, -0.9228,  1.8775, -1.2609,  0.7341,  0.7265, -1.0510, -1.2039,\n",
       "         1.4872, -0.5900, -0.4877,  1.9645,  2.8912, -0.1488, -2.4601,  0.4284,\n",
       "        -1.0703,  2.6429,  2.8773, -0.7710,  0.3941, -1.1525,  0.2962, -0.1807,\n",
       "         0.1126, -0.1416, -1.5247,  1.5937, -0.6796,  0.4730, -0.3850,  1.9284,\n",
       "        -2.6280,  2.0458, -1.8956, -0.7299, -3.0764, -1.5654,  3.0758, -0.6339,\n",
       "        -2.5949, -3.0718,  2.7074, -0.8204, -2.2464,  1.2127,  0.8630, -0.2380,\n",
       "        -3.2798, -1.4807, -1.5595,  3.3522, -1.4742, -0.4480,  1.5936, -1.0098,\n",
       "        -0.7398,  1.6423,  3.4334, -0.2426,  2.9268, -3.0653, -2.2179,  0.4014,\n",
       "         0.6517, -0.8473,  1.9675,  1.6561,  4.7595,  2.4316,  1.0506,  0.8955,\n",
       "        -1.6897,  2.5469,  3.2140,  0.0270,  1.7181, -4.2885, -1.5543,  5.1295,\n",
       "         1.8625,  1.2244,  0.7015,  4.5342])"
      ]
     },
     "execution_count": 54,
     "metadata": {},
     "output_type": "execute_result"
    }
   ],
   "source": [
    "a.Y"
   ]
  },
  {
   "cell_type": "code",
   "execution_count": 55,
   "metadata": {},
   "outputs": [],
   "source": [
    "alpha_vec = torch.tensor(alpha_vec).float()\n",
    "beta_vec = torch.tensor(beta_vec).float()\n",
    "\n",
    "d = len(alpha_vec)\n",
    "\n",
    "X = torch.randn((n_sample,d)).float()\n",
    "T = torch.bernoulli(torch.sigmoid( X @ alpha_vec ))\n",
    "\n",
    "if effect_var == \"const\":\n",
    "    effect_vec = torch.ones(d)\n",
    "\n",
    "if effect_var == \"Ber\":\n",
    "    effect_vec = 2*torch.bernoulli(1/2*torch.ones(n_sample))-1\n",
    "\n",
    "if effect_var == \"Unif\":\n",
    "    effect_vec = 2*torch.rand(d)-1\n",
    "\n",
    "Y =  X @ alpha_vec + beta_scalar * effect_vec + noise_Y * torch.randn((n_sample))\n"
   ]
  },
  {
   "cell_type": "code",
   "execution_count": 56,
   "metadata": {},
   "outputs": [],
   "source": [
    "def cme_cross_validate_target(data_train,data_val,X_ker,Y_ker,reg_param):\n",
    "        \n",
    "        K = ker(X_ker)\n",
    "        L = ker(Y_ker)\n",
    "\n",
    "        W0 = get_W_matrix(X_ker(data_train.X0).evaluate(),reg_param,\"cme\")\n",
    "        W1 = get_W_matrix(X_ker(data_train.X1).evaluate(),reg_param,\"cme\")\n",
    "\n",
    "        val_stat_0 = torch.trace(L(data_val.Y0,data_val.Y0) -2 * K(data_train.X0,data_val.X0).T @ (W0 @ (L(data_train.Y0,data_val.Y0)))+ (K(data_train.X0,data_val.X0).T @ (W0 @ (L(data_train.Y0,data_train.Y0)@ (W0 @ (K(data_train.X0,data_val.X0)))))))\n",
    "        val_stat_1 = torch.trace(L(data_val.Y1,data_val.Y1) -2 * K(data_train.X1,data_val.X1).T @ (W1 @ (L(data_train.Y1,data_val.Y1)))+ (K(data_train.X1,data_val.X1).T @ (W0 @ (L(data_train.Y1,data_train.Y1)@ (W0 @ (K(data_train.X1,data_val.X1)))))))\n",
    "        val_stat = val_stat_0+val_stat_1\n",
    "        return val_stat"
   ]
  },
  {
   "cell_type": "code",
   "execution_count": 57,
   "metadata": {},
   "outputs": [],
   "source": [
    "def cme_cross_validate_target(data_train,data_val,X_ker,Y_ker,reg_param):\n",
    "        \n",
    "        K = ker(X_ker)\n",
    "        L = ker(Y_ker)\n",
    "\n",
    "        W0 = get_W_matrix(X_ker(data_train.X0).evaluate(),reg_param,\"cme\")\n",
    "        W1 = get_W_matrix(X_ker(data_train.X1).evaluate(),reg_param,\"cme\")\n",
    "\n",
    "        val_stat_0 = torch.trace(L(data_val.Y0,data_val.Y0) -2 * K(data_train.X0,data_val.X0).T @ (W0 @ (L(data_train.Y0,data_val.Y0))) + (K(data_train.X0,data_val.X0).T @ (W0 @ (L(data_train.Y0,data_train.Y0)@ (W0 @ (K(data_train.X0,data_val.X0)))))))\n",
    "        val_stat_1 = torch.trace(L(data_val.Y1,data_val.Y1) -2 * K(data_train.X1,data_val.X1).T @ (W1 @ (L(data_train.Y1,data_val.Y1))) + (K(data_train.X1,data_val.X1).T @ (W1 @ (L(data_train.Y1,data_train.Y1)@ (W1 @ (K(data_train.X1,data_val.X1)))))))\n",
    "        val_stat = val_stat_0+val_stat_1\n",
    "        return val_stat"
   ]
  },
  {
   "cell_type": "code",
   "execution_count": 58,
   "metadata": {},
   "outputs": [
    {
     "name": "stderr",
     "output_type": "stream",
     "text": [
      "/var/folders/3k/2lkktjyj2r74wt_611v45qs00000gn/T/ipykernel_950/3842994627.py:3: UserWarning: To copy construct from a tensor, it is recommended to use sourceTensor.clone().detach() or sourceTensor.clone().detach().requires_grad_(True), rather than torch.tensor(sourceTensor).\n",
      "  alpha_vec = torch.tensor(alpha_vec).float()\n",
      "/var/folders/3k/2lkktjyj2r74wt_611v45qs00000gn/T/ipykernel_950/3842994627.py:4: UserWarning: To copy construct from a tensor, it is recommended to use sourceTensor.clone().detach() or sourceTensor.clone().detach().requires_grad_(True), rather than torch.tensor(sourceTensor).\n",
      "  beta_vec = torch.tensor(beta_vec).float()\n"
     ]
    },
    {
     "data": {
      "text/plain": [
       "tensor(99.7905, grad_fn=<AddBackward0>)"
      ]
     },
     "execution_count": 58,
     "metadata": {},
     "output_type": "execute_result"
    }
   ],
   "source": [
    "data_train = linear_data_simulation(alpha_vec,beta_vec,beta_scalar,effect_var,noise_Y,n_sample)\n",
    "data_val = linear_data_simulation(alpha_vec,beta_vec,beta_scalar,effect_var,noise_Y,n_sample)\n",
    "cme_cross_validate_target(data_train,data_val,X_ker,Y_ker,reg_param=1)"
   ]
  },
  {
   "cell_type": "code",
   "execution_count": 59,
   "metadata": {},
   "outputs": [],
   "source": [
    "K = ker(X_ker)\n",
    "L = ker(Y_ker)\n",
    "W0 = get_W_matrix(X_ker(data_train.X0).evaluate(),1,\"cme\")\n",
    "W1 = get_W_matrix(X_ker(data_train.X1).evaluate(),1,\"cme\")"
   ]
  },
  {
   "cell_type": "code",
   "execution_count": 60,
   "metadata": {},
   "outputs": [
    {
     "data": {
      "text/plain": [
       "tensor([[ 9.9803e-01,  2.6324e-01,  1.2111e-01,  ...,  3.5280e-01,\n",
       "          3.8372e-02,  9.8512e-01],\n",
       "        [ 2.6418e-01,  9.9710e-01, -8.6550e-04,  ...,  6.9270e-03,\n",
       "          6.6134e-01,  2.0002e-01],\n",
       "        [ 1.1872e-01, -3.3376e-03,  9.9696e-01,  ...,  8.2846e-01,\n",
       "         -2.8123e-03,  1.6493e-01],\n",
       "        ...,\n",
       "        [ 3.5301e-01,  6.3492e-03,  8.2978e-01,  ...,  9.9801e-01,\n",
       "         -1.5304e-03,  4.4016e-01],\n",
       "        [ 3.7264e-02,  6.6115e-01, -3.4204e-03,  ..., -3.1731e-03,\n",
       "          9.9841e-01,  2.3253e-02],\n",
       "        [ 9.8546e-01,  2.0054e-01,  1.6627e-01,  ...,  4.3922e-01,\n",
       "          2.5553e-02,  9.9837e-01]], grad_fn=<AddBackward0>)"
      ]
     },
     "execution_count": 60,
     "metadata": {},
     "output_type": "execute_result"
    }
   ],
   "source": [
    "L(data_val.Y0,data_val.Y0) -2 * K(data_train.X0,data_val.X0).T @ (W0 @ (L(data_train.Y0,data_val.Y0)))+ (K(data_train.X0,data_val.X0).T @ (W0 @ (L(data_train.Y0,data_train.Y0)@ (W0 @ (K(data_train.X0,data_val.X0))))))"
   ]
  },
  {
   "cell_type": "code",
   "execution_count": 61,
   "metadata": {},
   "outputs": [],
   "source": [
    "from torch.autograd import Variable\n",
    "from qpth.qp import QPFunction\n",
    "\n",
    "def kernel_mean_matching(kernel_X, X0, X1 , eps=1, B=10 ):\n",
    "    '''\n",
    "    An implementation of Kernel Mean Matching, note that this implementation uses its own kernel parameter\n",
    "    References:\n",
    "    1. Gretton, Arthur, et al. \"Covariate shift by kernel mean matching.\" \n",
    "    2. Huang, Jiayuan, et al. \"Correcting sample selection bias by unlabeled data.\"\n",
    "    \n",
    "    :param X1: two dimensional sample from population 1\n",
    "    :param X2: two dimensional sample from population 2\n",
    "    :param kern: kernel to be used, an instance of class Kernel in kernel_utils\n",
    "    :param B: upperbound on the solution search space \n",
    "    :param eps: normalization error\n",
    "    :return: weight coefficients for instances x1 such that the distribution of weighted x1 matches x2\n",
    "    '''\n",
    "    n0 = X0.shape[0]\n",
    "    n = X1.shape[0]\n",
    "    G = torch.concat([torch.ones(1,n0),-torch.ones(1,n0),torch.eye(n0),-torch.eye(n0)])\n",
    "    h = torch.concat([torch.tensor([n0 * (1 + eps),n0 * (eps - 1)]), B * torch.ones((n0,)),torch.zeros(n0) ])\n",
    "    e = Variable(torch.Tensor())\n",
    "    K_mat = kernel_X(X0, X0)\n",
    "    kappa = torch.sum(kernel_X(X0, X1), axis=1) * float(n0) / float(n-n0)      \n",
    "    \n",
    "    coef = QPFunction(verbose=-1)(K_mat, -kappa, G, h, e, e)\n",
    "        \n",
    "    return coef"
   ]
  },
  {
   "cell_type": "code",
   "execution_count": 62,
   "metadata": {},
   "outputs": [
    {
     "name": "stderr",
     "output_type": "stream",
     "text": [
      "/opt/miniconda3/lib/python3.8/site-packages/qpth/qp.py:83: UserWarning: torch.eig is deprecated in favor of torch.linalg.eig and will be removed in a future PyTorch release.\n",
      "torch.linalg.eig returns complex tensors of dtype cfloat or cdouble rather than real tensors mimicking complex tensors.\n",
      "L, _ = torch.eig(A)\n",
      "should be replaced with\n",
      "L_complex = torch.linalg.eigvals(A)\n",
      "and\n",
      "L, V = torch.eig(A, eigenvectors=True)\n",
      "should be replaced with\n",
      "L_complex, V_complex = torch.linalg.eig(A) (Triggered internally at  /Users/runner/work/pytorch/pytorch/pytorch/aten/src/ATen/native/BatchLinearAlgebra.cpp:3427.)\n",
      "  e, _ = torch.eig(Q[i])\n"
     ]
    }
   ],
   "source": [
    "X0 = data_train.X0\n",
    "X1 = data_train.X\n",
    "eps = 0.01\n",
    "B=10\n",
    "n0 = X0.shape[0]\n",
    "n = X1.shape[0]\n",
    "G = torch.concat([torch.ones(1,n0),-torch.ones(1,n0),torch.eye(n0),-torch.eye(n0)])\n",
    "h = torch.concat([torch.tensor([n0 * (1 + eps),n0 * (eps - 1)]), B * torch.ones((n0,)),torch.zeros(n0) ])\n",
    "e = Variable(torch.Tensor())\n",
    "\n",
    "K_mat = K(X0, X0)\n",
    "\n",
    "kappa = torch.sum(K(X0, X1), axis=1) * float(n0) / float(n-n0)      \n",
    "\n",
    "coef = QPFunction(verbose=-1)(K_mat, -kappa, G, h, e, e)"
   ]
  },
  {
   "cell_type": "code",
   "execution_count": 63,
   "metadata": {},
   "outputs": [
    {
     "data": {
      "text/plain": [
       "tensor([[ 2.4431e-01,  1.8810e+00, -4.5366e-01,  5.2411e-01, -1.4490e+00,\n",
       "          3.0984e+00,  6.6376e-01,  2.1136e+00, -1.9699e-02,  5.0613e+00,\n",
       "          4.7402e+00,  1.7028e+00,  2.6004e+00,  2.4244e+00,  1.3142e-01,\n",
       "          2.9805e-01,  1.7380e-01,  8.3011e-01, -5.1343e-02,  1.7895e-01,\n",
       "          6.1537e+00, -3.1674e+00,  1.9233e-01,  8.0387e+00,  4.5733e-02,\n",
       "         -2.9145e+00, -4.8303e-01,  1.2398e+00,  1.8809e-01,  5.3946e-01,\n",
       "          1.8504e-01, -5.1246e-02, -4.1418e-01,  4.8595e-02, -2.8758e-02,\n",
       "          2.7491e-02,  5.0639e-03,  1.0007e+00,  1.0322e-02,  4.1244e+00,\n",
       "          4.6931e-02,  7.9027e-02,  5.9754e+00,  1.4955e+00,  5.0461e-02,\n",
       "          2.7279e-01, -3.7417e-04,  1.6200e+00]],\n",
       "       grad_fn=<QPFunctionFnBackward>)"
      ]
     },
     "execution_count": 63,
     "metadata": {},
     "output_type": "execute_result"
    }
   ],
   "source": [
    "coef"
   ]
  },
  {
   "cell_type": "code",
   "execution_count": 64,
   "metadata": {},
   "outputs": [],
   "source": [
    "n0 = X0.shape[0]\n",
    "n = X1.shape[0]\n",
    "kernel_X = K\n",
    "G = torch.concat([torch.ones(1,n0),-torch.ones(1,n0),torch.eye(n0),-torch.eye(n0)])\n",
    "h = torch.concat([torch.tensor([n0 * (1 + eps),n0 * (eps - 1)]), B * torch.ones((n0,)),torch.zeros(n0) ])\n",
    "e = Variable(torch.Tensor())\n",
    "K_mat = kernel_X(X0, X0)\n",
    "kappa = torch.sum(kernel_X(X0, X1), axis=1) * float(n0) / float(n-n0)      \n",
    "\n",
    "coef = QPFunction(verbose=-1)(K_mat, -kappa, G, h, e, e)"
   ]
  },
  {
   "cell_type": "code",
   "execution_count": 65,
   "metadata": {},
   "outputs": [],
   "source": [
    "def kernel_mean_matching(kernel_X, X0, X1 , eps=1, B=10 ):\n",
    "    '''\n",
    "    An implementation of Kernel Mean Matching, note that this implementation uses its own kernel parameter\n",
    "    References:\n",
    "    1. Gretton, Arthur, et al. \"Covariate shift by kernel mean matching.\" \n",
    "    2. Huang, Jiayuan, et al. \"Correcting sample selection bias by unlabeled data.\"\n",
    "    \n",
    "    :param X1: two dimensional sample from population 1\n",
    "    :param X2: two dimensional sample from population 2\n",
    "    :param kern: kernel to be used, an instance of class Kernel in kernel_utils\n",
    "    :param B: upperbound on the solution search space \n",
    "    :param eps: normalization error\n",
    "    :return: weight coefficients for instances x1 such that the distribution of weighted x1 matches x2\n",
    "    '''\n",
    "    n0 = X0.shape[0]\n",
    "    n = X1.shape[0]\n",
    "    G = torch.concat([torch.ones(1,n0),-torch.ones(1,n0),torch.eye(n0),-torch.eye(n0)])\n",
    "    h = torch.concat([torch.tensor([n0 * (1 + eps),n0 * (eps - 1)]), B * torch.ones((n0,)),torch.zeros(n0) ])\n",
    "    e = Variable(torch.Tensor())\n",
    "    K_mat = kernel_X(X0, X0)\n",
    "    kappa = torch.sum(kernel_X(X0, X1), axis=1) * float(n0) / float(n-n0)      \n",
    "    \n",
    "    coef = QPFunction(verbose=-1)(K_mat, -kappa, G, h, e, e)\n",
    "        \n",
    "    return coef"
   ]
  },
  {
   "cell_type": "code",
   "execution_count": 67,
   "metadata": {},
   "outputs": [
    {
     "data": {
      "text/plain": [
       "tensor([[-3.2282e+03,  2.8078e+03, -3.2739e+03,  3.6856e+03,  1.2948e+04,\n",
       "         -1.1970e+04,  4.1326e+03,  7.0407e+02, -8.1373e+01, -8.4694e+02,\n",
       "          7.4557e+01,  3.9439e+02, -5.7285e+03,  1.5198e+02, -2.5820e+02,\n",
       "         -5.9549e+01, -4.5766e+03, -2.1023e+02,  3.9248e+02, -1.2165e+02,\n",
       "         -1.1948e+03,  9.0566e+02,  1.5500e+03, -1.3759e+04,  2.1821e+01,\n",
       "         -4.3058e+02, -2.9546e+02,  2.0070e+04,  3.2357e+02, -5.7650e+02,\n",
       "         -3.8334e+02, -2.5820e+03,  2.8863e+03,  5.7598e+02,  7.7808e+02,\n",
       "          3.5633e+01,  1.5031e+01, -5.7837e+01,  1.6845e+01, -1.2436e+01,\n",
       "          6.8435e+01,  2.6624e+03,  1.2078e+01, -8.4182e+00, -1.0108e+01,\n",
       "          8.9642e+02,  1.7250e+03,  2.4641e+01]],\n",
       "       grad_fn=<QPFunctionFnBackward>)"
      ]
     },
     "execution_count": 67,
     "metadata": {},
     "output_type": "execute_result"
    }
   ],
   "source": [
    "kernel_mean_matching(K, X0, X1 , eps=100, B=10000)"
   ]
  },
  {
   "cell_type": "code",
   "execution_count": null,
   "metadata": {},
   "outputs": [
    {
     "ename": "TypeError",
     "evalue": "'Tensor' object is not callable",
     "output_type": "error",
     "traceback": [
      "\u001b[0;31m---------------------------------------------------------------------------\u001b[0m",
      "\u001b[0;31mTypeError\u001b[0m                                 Traceback (most recent call last)",
      "\u001b[0;32m/var/folders/3k/2lkktjyj2r74wt_611v45qs00000gn/T/ipykernel_99497/1434440898.py\u001b[0m in \u001b[0;36m<module>\u001b[0;34m\u001b[0m\n\u001b[0;32m----> 1\u001b[0;31m \u001b[0mKMM_weights_for_W_matrix\u001b[0m\u001b[0;34m(\u001b[0m\u001b[0mK\u001b[0m\u001b[0;34m,\u001b[0m\u001b[0mX0\u001b[0m\u001b[0;34m,\u001b[0m\u001b[0mX1\u001b[0m\u001b[0;34m,\u001b[0m\u001b[0mKMM_weights\u001b[0m \u001b[0;34m=\u001b[0m \u001b[0;32mTrue\u001b[0m\u001b[0;34m)\u001b[0m\u001b[0;34m\u001b[0m\u001b[0;34m\u001b[0m\u001b[0m\n\u001b[0m",
      "\u001b[0;32m~/Python/DR_distributional_test/src/utils.py\u001b[0m in \u001b[0;36mKMM_weights_for_W_matrix\u001b[0;34m(X_ker, X0, X, KMM_weights)\u001b[0m\n\u001b[1;32m    101\u001b[0m \u001b[0;32mdef\u001b[0m \u001b[0mKMM_weights_for_W_matrix\u001b[0m\u001b[0;34m(\u001b[0m\u001b[0mX_ker\u001b[0m\u001b[0;34m,\u001b[0m\u001b[0mX0\u001b[0m\u001b[0;34m,\u001b[0m\u001b[0mX\u001b[0m\u001b[0;34m,\u001b[0m\u001b[0mKMM_weights\u001b[0m \u001b[0;34m=\u001b[0m \u001b[0;32mFalse\u001b[0m\u001b[0;34m)\u001b[0m\u001b[0;34m:\u001b[0m\u001b[0;34m\u001b[0m\u001b[0;34m\u001b[0m\u001b[0m\n\u001b[1;32m    102\u001b[0m     \u001b[0;32mif\u001b[0m \u001b[0mKMM_weights\u001b[0m\u001b[0;34m:\u001b[0m\u001b[0;34m\u001b[0m\u001b[0;34m\u001b[0m\u001b[0m\n\u001b[0;32m--> 103\u001b[0;31m         \u001b[0mreturn_weights\u001b[0m \u001b[0;34m=\u001b[0m \u001b[0mkernel_mean_matching\u001b[0m\u001b[0;34m(\u001b[0m\u001b[0mX_ker\u001b[0m\u001b[0;34m,\u001b[0m \u001b[0mX0\u001b[0m\u001b[0;34m,\u001b[0m \u001b[0mX\u001b[0m\u001b[0;34m)\u001b[0m\u001b[0;34m\u001b[0m\u001b[0;34m\u001b[0m\u001b[0m\n\u001b[0m\u001b[1;32m    104\u001b[0m     \u001b[0;32melse\u001b[0m\u001b[0;34m:\u001b[0m\u001b[0;34m\u001b[0m\u001b[0;34m\u001b[0m\u001b[0m\n\u001b[1;32m    105\u001b[0m         \u001b[0mreturn_weights\u001b[0m \u001b[0;34m=\u001b[0m \u001b[0mtorch\u001b[0m\u001b[0;34m.\u001b[0m\u001b[0mones\u001b[0m\u001b[0;34m(\u001b[0m\u001b[0mX0\u001b[0m\u001b[0;34m.\u001b[0m\u001b[0mshape\u001b[0m\u001b[0;34m[\u001b[0m\u001b[0;36m0\u001b[0m\u001b[0;34m]\u001b[0m\u001b[0;34m)\u001b[0m\u001b[0;34m\u001b[0m\u001b[0;34m\u001b[0m\u001b[0m\n",
      "\u001b[0;32m~/Python/DR_distributional_test/src/utils.py\u001b[0m in \u001b[0;36mkernel_mean_matching\u001b[0;34m(kernel_X, X0, X1, eps, B)\u001b[0m\n\u001b[1;32m     92\u001b[0m     \u001b[0mh\u001b[0m \u001b[0;34m=\u001b[0m \u001b[0mtorch\u001b[0m\u001b[0;34m.\u001b[0m\u001b[0mconcat\u001b[0m\u001b[0;34m(\u001b[0m\u001b[0;34m[\u001b[0m\u001b[0mtorch\u001b[0m\u001b[0;34m.\u001b[0m\u001b[0mtensor\u001b[0m\u001b[0;34m(\u001b[0m\u001b[0;34m[\u001b[0m\u001b[0mn0\u001b[0m \u001b[0;34m*\u001b[0m \u001b[0;34m(\u001b[0m\u001b[0;36m1\u001b[0m \u001b[0;34m+\u001b[0m \u001b[0meps\u001b[0m\u001b[0;34m)\u001b[0m\u001b[0;34m,\u001b[0m\u001b[0mn0\u001b[0m \u001b[0;34m*\u001b[0m \u001b[0;34m(\u001b[0m\u001b[0meps\u001b[0m \u001b[0;34m-\u001b[0m \u001b[0;36m1\u001b[0m\u001b[0;34m)\u001b[0m\u001b[0;34m]\u001b[0m\u001b[0;34m)\u001b[0m\u001b[0;34m,\u001b[0m \u001b[0mB\u001b[0m \u001b[0;34m*\u001b[0m \u001b[0mtorch\u001b[0m\u001b[0;34m.\u001b[0m\u001b[0mones\u001b[0m\u001b[0;34m(\u001b[0m\u001b[0;34m(\u001b[0m\u001b[0mn0\u001b[0m\u001b[0;34m,\u001b[0m\u001b[0;34m)\u001b[0m\u001b[0;34m)\u001b[0m\u001b[0;34m,\u001b[0m\u001b[0mtorch\u001b[0m\u001b[0;34m.\u001b[0m\u001b[0mzeros\u001b[0m\u001b[0;34m(\u001b[0m\u001b[0mn0\u001b[0m\u001b[0;34m)\u001b[0m \u001b[0;34m]\u001b[0m\u001b[0;34m)\u001b[0m\u001b[0;34m\u001b[0m\u001b[0;34m\u001b[0m\u001b[0m\n\u001b[1;32m     93\u001b[0m     \u001b[0me\u001b[0m \u001b[0;34m=\u001b[0m \u001b[0mVariable\u001b[0m\u001b[0;34m(\u001b[0m\u001b[0mtorch\u001b[0m\u001b[0;34m.\u001b[0m\u001b[0mTensor\u001b[0m\u001b[0;34m(\u001b[0m\u001b[0;34m)\u001b[0m\u001b[0;34m)\u001b[0m\u001b[0;34m\u001b[0m\u001b[0;34m\u001b[0m\u001b[0m\n\u001b[0;32m---> 94\u001b[0;31m     \u001b[0mK_mat\u001b[0m \u001b[0;34m=\u001b[0m \u001b[0mkernel_X\u001b[0m\u001b[0;34m(\u001b[0m\u001b[0mX0\u001b[0m\u001b[0;34m,\u001b[0m \u001b[0mX0\u001b[0m\u001b[0;34m)\u001b[0m\u001b[0;34m\u001b[0m\u001b[0;34m\u001b[0m\u001b[0m\n\u001b[0m\u001b[1;32m     95\u001b[0m     \u001b[0mkappa\u001b[0m \u001b[0;34m=\u001b[0m \u001b[0mtorch\u001b[0m\u001b[0;34m.\u001b[0m\u001b[0msum\u001b[0m\u001b[0;34m(\u001b[0m\u001b[0mkernel_X\u001b[0m\u001b[0;34m(\u001b[0m\u001b[0mX0\u001b[0m\u001b[0;34m,\u001b[0m \u001b[0mX1\u001b[0m\u001b[0;34m)\u001b[0m\u001b[0;34m,\u001b[0m \u001b[0maxis\u001b[0m\u001b[0;34m=\u001b[0m\u001b[0;36m1\u001b[0m\u001b[0;34m)\u001b[0m \u001b[0;34m*\u001b[0m \u001b[0mfloat\u001b[0m\u001b[0;34m(\u001b[0m\u001b[0mn0\u001b[0m\u001b[0;34m)\u001b[0m \u001b[0;34m/\u001b[0m \u001b[0mfloat\u001b[0m\u001b[0;34m(\u001b[0m\u001b[0mn\u001b[0m\u001b[0;34m-\u001b[0m\u001b[0mn0\u001b[0m\u001b[0;34m)\u001b[0m\u001b[0;34m\u001b[0m\u001b[0;34m\u001b[0m\u001b[0m\n\u001b[1;32m     96\u001b[0m \u001b[0;34m\u001b[0m\u001b[0m\n",
      "\u001b[0;31mTypeError\u001b[0m: 'Tensor' object is not callable"
     ]
    }
   ],
   "source": [
    "KMM_weights_for_W_matrix(X_ker,X0,X1,KMM_weights = True)"
   ]
  },
  {
   "cell_type": "code",
   "execution_count": 68,
   "metadata": {},
   "outputs": [],
   "source": [
    "# Load config file\n",
    "with open(\"config/wrapped_simulaton_cfg.yaml\", \"r\") as f:\n",
    "    cfg = yaml.safe_load(f)"
   ]
  },
  {
   "cell_type": "code",
   "execution_count": 79,
   "metadata": {},
   "outputs": [
    {
     "data": {
      "text/plain": [
       "{'moving_param': {'param': ['n_test_sample', 'n_test_sample'], 'values': 1},\n",
       " 'experiment': {'n_iter': 30,\n",
       "  'test_stat': ['DATE', 'DETT'],\n",
       "  'ker_regress': ['cme', 'zero'],\n",
       "  'weights_model': 'Logistic_Regression',\n",
       "  'X_ker': 'RBF',\n",
       "  'Y_ker': 'RBF',\n",
       "  'significance_level': 0.05,\n",
       "  'n_bins': 20,\n",
       "  'cme_reg': 0.01,\n",
       "  'permute_weights': True,\n",
       "  'KMM_weights': True},\n",
       " 'data': {'generator': 'linear_data_simulation',\n",
       "  'n_train_sample': 1000,\n",
       "  'n_test_sample': 1000,\n",
       "  'arguments': {'alpha_vec': [0.1, 0.2, 0.3, 0.4, 0.5],\n",
       "   'beta_vec': [0.1, 0.2, 0.3, 0.4, 0.5],\n",
       "   'beta_scalar': 0.2,\n",
       "   'effect_var': 'Unif',\n",
       "   'noise_Y': 0.2}}}"
      ]
     },
     "execution_count": 79,
     "metadata": {},
     "output_type": "execute_result"
    }
   ],
   "source": [
    "cfg"
   ]
  },
  {
   "cell_type": "code",
   "execution_count": 83,
   "metadata": {},
   "outputs": [],
   "source": [
    "a = cfg[\"moving_param\"][\"param\"]"
   ]
  },
  {
   "cell_type": "code",
   "execution_count": 84,
   "metadata": {},
   "outputs": [
    {
     "data": {
      "text/plain": [
       "['n_test_sample', 'n_test_sample']"
      ]
     },
     "execution_count": 84,
     "metadata": {},
     "output_type": "execute_result"
    }
   ],
   "source": [
    "a"
   ]
  },
  {
   "cell_type": "code",
   "execution_count": 76,
   "metadata": {},
   "outputs": [],
   "source": [
    "a[\"values\"] = 1"
   ]
  },
  {
   "cell_type": "code",
   "execution_count": 81,
   "metadata": {},
   "outputs": [
    {
     "data": {
      "text/plain": [
       "dict"
      ]
     },
     "execution_count": 81,
     "metadata": {},
     "output_type": "execute_result"
    }
   ],
   "source": [
    "type(a)"
   ]
  }
 ],
 "metadata": {
  "kernelspec": {
   "display_name": "base",
   "language": "python",
   "name": "python3"
  },
  "language_info": {
   "codemirror_mode": {
    "name": "ipython",
    "version": 3
   },
   "file_extension": ".py",
   "mimetype": "text/x-python",
   "name": "python",
   "nbconvert_exporter": "python",
   "pygments_lexer": "ipython3",
   "version": "3.8.5"
  },
  "orig_nbformat": 4
 },
 "nbformat": 4,
 "nbformat_minor": 2
}
