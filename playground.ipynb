{
 "cells": [
  {
   "cell_type": "code",
   "execution_count": 71,
   "metadata": {},
   "outputs": [],
   "source": [
    "import gpytorch.kernels as kernel\n",
    "import torch\n",
    "import numpy as np\n",
    "from src.test_statistics import *\n",
    "from src.data import *\n",
    "import random\n",
    "import numpy as np\n",
    "from src.test import *\n",
    "import pandas as pd"
   ]
  },
  {
   "cell_type": "code",
   "execution_count": 2,
   "metadata": {},
   "outputs": [],
   "source": [
    "X_ker = kernel.RBFKernel(ard_num_dims=3)\n",
    "Y_ker = kernel.RBFKernel(ard_num_dims=1)"
   ]
  },
  {
   "cell_type": "code",
   "execution_count": 3,
   "metadata": {},
   "outputs": [],
   "source": [
    "kernel_X =ker(X_ker)"
   ]
  },
  {
   "cell_type": "code",
   "execution_count": 4,
   "metadata": {},
   "outputs": [],
   "source": [
    "X_ker.lengthscale = 10"
   ]
  },
  {
   "cell_type": "code",
   "execution_count": 5,
   "metadata": {},
   "outputs": [],
   "source": [
    "n=200\n",
    "d=3\n",
    "X = torch.randn((n,d))\n",
    "Y = torch.randn(n)\n",
    "T = (torch.randn((n))>0).float()"
   ]
  },
  {
   "cell_type": "code",
   "execution_count": 6,
   "metadata": {},
   "outputs": [],
   "source": [
    "from src.utils import compute_median_heuristic\n",
    "from sklearn.metrics import pairwise_distances"
   ]
  },
  {
   "cell_type": "code",
   "execution_count": 7,
   "metadata": {},
   "outputs": [],
   "source": [
    "X_ker.lengthscale = compute_median_heuristic(X)\n",
    "Y_ker.lengthscale = compute_median_heuristic(Y)"
   ]
  },
  {
   "cell_type": "code",
   "execution_count": 8,
   "metadata": {},
   "outputs": [
    {
     "data": {
      "text/plain": [
       "tensor([[0.9719]], grad_fn=<SoftplusBackward0>)"
      ]
     },
     "execution_count": 8,
     "metadata": {},
     "output_type": "execute_result"
    }
   ],
   "source": [
    "Y_ker.lengthscale"
   ]
  },
  {
   "cell_type": "code",
   "execution_count": 9,
   "metadata": {},
   "outputs": [
    {
     "data": {
      "text/plain": [
       "0.9718648"
      ]
     },
     "execution_count": 9,
     "metadata": {},
     "output_type": "execute_result"
    }
   ],
   "source": [
    "np.median(pairwise_distances(Y.reshape(-1,1)))"
   ]
  },
  {
   "cell_type": "code",
   "execution_count": 10,
   "metadata": {},
   "outputs": [],
   "source": [
    "compute_median_heuristic(X)\n",
    "Y = Y.unsqueeze(0)\n",
    "median_heuristic = [np.median(pairwise_distances(Y[:, [i]].reshape(-1,1))) for i in range(Y.shape[1])]\n",
    "median_heuristic = median_heuristic[0]\n",
    "Y =Y.squeeze(0)"
   ]
  },
  {
   "cell_type": "code",
   "execution_count": 11,
   "metadata": {},
   "outputs": [
    {
     "data": {
      "text/plain": [
       "200"
      ]
     },
     "execution_count": 11,
     "metadata": {},
     "output_type": "execute_result"
    }
   ],
   "source": [
    "X.shape[0]"
   ]
  },
  {
   "cell_type": "code",
   "execution_count": 12,
   "metadata": {},
   "outputs": [],
   "source": [
    "a =torch.tensor([1,1],dtype=float) "
   ]
  },
  {
   "cell_type": "code",
   "execution_count": 13,
   "metadata": {},
   "outputs": [],
   "source": [
    "data_train = Data_object(X,Y,T)\n",
    "data_train_flip = Data_object(X,Y,1-T)"
   ]
  },
  {
   "cell_type": "code",
   "execution_count": 14,
   "metadata": {},
   "outputs": [],
   "source": [
    "m=200\n",
    "X = torch.randn((m,d))\n",
    "Y = torch.randn(m)\n",
    "T = (torch.randn((m))>0).float()"
   ]
  },
  {
   "cell_type": "code",
   "execution_count": 15,
   "metadata": {},
   "outputs": [],
   "source": [
    "Y1 = torch.randn((1))"
   ]
  },
  {
   "cell_type": "code",
   "execution_count": 16,
   "metadata": {},
   "outputs": [],
   "source": [
    "data_test = Data_object(X,Y,T)\n",
    "data_test_flip = Data_object(X,Y,1-T)"
   ]
  },
  {
   "cell_type": "code",
   "execution_count": 17,
   "metadata": {},
   "outputs": [],
   "source": [
    "W0 = get_W_matrix(X_ker(data_train.X0).evaluate(),1,func=\"cme\")\n",
    "W1 = get_W_matrix(X_ker(data_train.X1).evaluate(),1,func=\"cme\")"
   ]
  },
  {
   "cell_type": "code",
   "execution_count": 18,
   "metadata": {},
   "outputs": [
    {
     "data": {
      "text/plain": [
       "tensor([[ 1.5970e+00, -1.2989e-02, -4.5052e-02,  ..., -3.3693e-02,\n",
       "          2.0625e-02,  4.0120e-02],\n",
       "        [-1.2989e-02,  1.6724e+00, -2.8556e-02,  ..., -7.9427e-04,\n",
       "         -1.0089e-02, -1.3342e-02],\n",
       "        [-4.5052e-02, -2.8556e-02,  1.8073e+00,  ..., -4.5172e-02,\n",
       "         -1.2455e-02, -1.9361e-02],\n",
       "        ...,\n",
       "        [-3.3693e-02, -7.9427e-04, -4.5172e-02,  ...,  1.1206e+00,\n",
       "         -3.7153e-01,  1.4366e-02],\n",
       "        [ 2.0625e-02, -1.0089e-02, -1.2455e-02,  ..., -3.7153e-01,\n",
       "          9.8667e-01, -7.7879e-02],\n",
       "        [ 4.0120e-02, -1.3342e-02, -1.9361e-02,  ...,  1.4366e-02,\n",
       "         -7.7879e-02,  9.8049e-01]], grad_fn=<CholeskyInverseBackward0>)"
      ]
     },
     "execution_count": 18,
     "metadata": {},
     "output_type": "execute_result"
    }
   ],
   "source": [
    "W0"
   ]
  },
  {
   "cell_type": "code",
   "execution_count": 19,
   "metadata": {},
   "outputs": [],
   "source": [
    "weights = 1/2*torch.ones(m)"
   ]
  },
  {
   "cell_type": "code",
   "execution_count": 20,
   "metadata": {},
   "outputs": [],
   "source": [
    "K = ker(X_ker)\n",
    "L = ker(Y_ker)"
   ]
  },
  {
   "cell_type": "code",
   "execution_count": 21,
   "metadata": {},
   "outputs": [],
   "source": [
    "a = X_ker(X,X)"
   ]
  },
  {
   "cell_type": "code",
   "execution_count": 22,
   "metadata": {},
   "outputs": [
    {
     "data": {
      "text/plain": [
       "tensor([[0.9719]], grad_fn=<SoftplusBackward0>)"
      ]
     },
     "execution_count": 22,
     "metadata": {},
     "output_type": "execute_result"
    }
   ],
   "source": [
    "Y_ker.lengthscale"
   ]
  },
  {
   "cell_type": "code",
   "execution_count": 23,
   "metadata": {},
   "outputs": [
    {
     "data": {
      "text/plain": [
       "tensor([ 2., -2.,  2., -2.,  2.,  2., -2.,  2.,  2.,  2., -2., -2.,  2., -2.,\n",
       "         2.,  2., -2.,  2.,  2., -2.,  2., -2., -2.,  2.,  2., -2.,  2., -2.,\n",
       "         2.,  2., -2.,  2., -2.,  2., -2.,  2., -2.,  2.,  2.,  2., -2., -2.,\n",
       "        -2., -2.,  2.,  2., -2.,  2., -2., -2., -2., -2., -2.,  2.,  2.,  2.,\n",
       "         2., -2., -2., -2., -2., -2., -2., -2.,  2.,  2., -2.,  2., -2.,  2.,\n",
       "        -2., -2.,  2.,  2., -2., -2.,  2.,  2.,  2.,  2., -2., -2., -2.,  2.,\n",
       "        -2., -2., -2., -2.,  2., -2.,  2., -2., -2., -2., -2.,  2.,  2.,  2.,\n",
       "         2., -2., -2.,  2.,  2.,  2.,  2., -2.,  2.,  2., -2., -2.,  2., -2.,\n",
       "         2., -2., -2., -2., -2., -2.,  2.,  2.,  2.,  2., -2., -2., -2., -2.,\n",
       "         2.,  2.,  2., -2., -2.,  2., -2., -2.,  2.,  2.,  2.,  2.,  2., -2.,\n",
       "        -2.,  2.,  2.,  2., -2.,  2.,  2.,  2., -2.,  2., -2., -2., -2., -2.,\n",
       "        -2.,  2.,  2., -2.,  2., -2., -2.,  2., -2., -2., -2.,  2.,  2.,  2.,\n",
       "         2., -2., -2.,  2.,  2.,  2.,  2.,  2.,  2., -2., -2., -2.,  2., -2.,\n",
       "        -2., -2.,  2., -2.,  2., -2.,  2., -2.,  2.,  2., -2., -2.,  2., -2.,\n",
       "        -2.,  2.,  2.,  2.])"
      ]
     },
     "execution_count": 23,
     "metadata": {},
     "output_type": "execute_result"
    }
   ],
   "source": [
    "c = (data_test.T - weights)/(weights*(1-weights))\n",
    "c"
   ]
  },
  {
   "cell_type": "code",
   "execution_count": 24,
   "metadata": {},
   "outputs": [
    {
     "data": {
      "text/plain": [
       "torch.Size([200])"
      ]
     },
     "execution_count": 24,
     "metadata": {},
     "output_type": "execute_result"
    }
   ],
   "source": [
    "data_train.Y.shape"
   ]
  },
  {
   "cell_type": "code",
   "execution_count": 25,
   "metadata": {},
   "outputs": [
    {
     "data": {
      "text/plain": [
       "torch.Size([101, 200])"
      ]
     },
     "execution_count": 25,
     "metadata": {},
     "output_type": "execute_result"
    }
   ],
   "source": [
    "L(data_train.Y0,data_train.Y).shape"
   ]
  },
  {
   "cell_type": "code",
   "execution_count": 26,
   "metadata": {},
   "outputs": [
    {
     "data": {
      "text/plain": [
       "0.013968516141176224"
      ]
     },
     "execution_count": 26,
     "metadata": {},
     "output_type": "execute_result"
    }
   ],
   "source": [
    "DATE_test_stat(data_train,data_test,X_ker,Y_ker,weights,W0,W1)"
   ]
  },
  {
   "cell_type": "code",
   "execution_count": 27,
   "metadata": {},
   "outputs": [
    {
     "data": {
      "text/plain": [
       "0.0035415056627243757"
      ]
     },
     "execution_count": 27,
     "metadata": {},
     "output_type": "execute_result"
    }
   ],
   "source": [
    "DETT_test_stat(data_train,data_test,X_ker,Y_ker,weights,W1)"
   ]
  },
  {
   "cell_type": "code",
   "execution_count": 28,
   "metadata": {},
   "outputs": [
    {
     "data": {
      "text/plain": [
       "tensor([ -3.7448, -11.1710,  -7.5483,  10.0541,  10.8119, -13.3192,  -8.8508,\n",
       "        -16.0858,  15.1418,   6.4991,  -7.8953,   5.2132, -16.4408,  -3.7641,\n",
       "         11.7122,  -4.1217, -16.3331, -16.0516,  13.6845,  14.9457, -13.2288,\n",
       "        -16.1492,  -0.1522,  10.8618,   9.2428,   7.8097,  14.5556,   7.3841,\n",
       "        -10.4389,  12.1569,  -0.6448,   5.2814,   2.8279,  15.4367,  11.4813,\n",
       "          6.7974,   3.3252,  -4.8552, -11.2262,  12.4203,  14.7818, -10.5362,\n",
       "         14.3140,   8.8270,   2.6538,  -6.0073, -14.7475,  -5.0779,  -2.5122,\n",
       "          2.6543,  15.1849,  10.5653,  -4.9355,  -9.3487, -11.7924,   1.6635,\n",
       "         14.2538,  -2.0911,   8.9107, -12.6163, -13.7546,  -5.8813,   9.9019,\n",
       "          4.7069,  13.4515,  -7.0814, -14.8007, -15.2987,   0.1341,   2.6904,\n",
       "        -15.9109, -16.0275,  15.3182, -16.4318,  -0.8110,  14.5260, -16.4420,\n",
       "         10.5987,   9.3020,   6.1776,  -1.3762,  14.5772,  -7.0189,  -5.7657,\n",
       "         -6.4578,  15.4589, -16.3802,  -5.2758,  -8.4946,  -9.6217, -10.5520,\n",
       "          1.4530,  -1.7350,  -3.0714, -11.4874, -14.9351,   9.2824,  -3.7691,\n",
       "         15.5222,  -5.3598,  -8.4496], grad_fn=<MvBackward0>)"
      ]
     },
     "execution_count": 28,
     "metadata": {},
     "output_type": "execute_result"
    }
   ],
   "source": [
    "L(data_train.Y0,data_test.Y)@ c"
   ]
  },
  {
   "cell_type": "code",
   "execution_count": 29,
   "metadata": {},
   "outputs": [],
   "source": [
    "from sklearn.linear_model import LogisticRegression"
   ]
  },
  {
   "cell_type": "code",
   "execution_count": 30,
   "metadata": {},
   "outputs": [],
   "source": [
    "weights_model = LogisticRegression()"
   ]
  },
  {
   "cell_type": "code",
   "execution_count": 31,
   "metadata": {},
   "outputs": [],
   "source": [
    "weights_model.fit(data_train.X,data_train.T)\n",
    "weights_train = weights_model.predict_proba(data_train.X)[:,1]\n",
    "weights_test = weights_model.predict_proba(data_test.X)[:,1]"
   ]
  },
  {
   "cell_type": "code",
   "execution_count": 32,
   "metadata": {},
   "outputs": [],
   "source": [
    "def DATE_goodness_of_fit(fit_samples,data_train,data_test,X_ker,Y_ker,weights,Wt,t=1):\n",
    "        \n",
    "        n = len(fit_samples)\n",
    "        m = len(data_test.Y)\n",
    "\n",
    "        K = ker(X_ker)\n",
    "        L = ker(Y_ker)\n",
    "\n",
    "        t_vec = (data_test.T == t).long()\n",
    "        w = (t_vec)*1/(weights)\n",
    "\n",
    "        fit_stat = 1/(n**2)*L(fit_samples,fit_samples).sum()\n",
    "        fit_stat += -2/(n*m)*(w @ L(data_test.Y,fit_samples)).sum()\n",
    "        fit_stat += -2/(n*m)*((L(fit_samples,data_train.Y1) @ (Wt @ (K(data_train.X1,data_test.X) @ (1-w))))).sum()\n",
    "        fit_stat += 1/(m**2) * (w @ (L(data_test.Y,data_test.Y)@ w))\n",
    "        fit_stat += 1/(m**2)*2 * (w @ (L(data_test.Y,data_train.Y1) @ (Wt @ (K(data_train.X1,data_test.X)@ (1-w)))))\n",
    "        fit_stat += 1/(m**2)*(1-w @ (K(data_test.X,data_train.X1) @ (Wt @ ( L(data_train.Y1,data_train.Y1) @ (Wt @ (K(data_train.X1,data_test.X)@ (1-w)) ) ))))\n",
    "        return fit_stat.item()\n"
   ]
  },
  {
   "cell_type": "code",
   "execution_count": 33,
   "metadata": {},
   "outputs": [],
   "source": [
    "from src.data import f_0,f_1\n",
    "n_sample = 500\n",
    "\n",
    "mu = [0,0,0,0,0,0,0,0,0,0]\n",
    "sigma = [\"C_ID\",1.5]\n",
    "noise = 0.2\n",
    "g_0 = f_0\n",
    "g_1 = f_1"
   ]
  },
  {
   "cell_type": "code",
   "execution_count": 34,
   "metadata": {},
   "outputs": [],
   "source": [
    "data_train = shift_data_simulation(mu,sigma,g_0,g_1,noise,1000)\n",
    "data_test = shift_data_simulation(mu,sigma,g_0,g_1,noise,1000)\n",
    "weights_model.fit(data_train.X,data_train.T)\n",
    "weights_train = weights_model.predict_proba(data_train.X)[:,1]\n",
    "weights_test = weights_model.predict_proba(data_test.X)[:,1]"
   ]
  },
  {
   "cell_type": "code",
   "execution_count": 35,
   "metadata": {},
   "outputs": [],
   "source": [
    "from src.utils import KMM_weights_for_W_matrix,kernel_mean_matching"
   ]
  },
  {
   "cell_type": "code",
   "execution_count": 36,
   "metadata": {},
   "outputs": [],
   "source": [
    "X_ker = kernel.RBFKernel(ard_num_dims=10)"
   ]
  },
  {
   "cell_type": "code",
   "execution_count": 37,
   "metadata": {},
   "outputs": [],
   "source": [
    "X_ker.lengthscale = 1"
   ]
  },
  {
   "cell_type": "code",
   "execution_count": 38,
   "metadata": {},
   "outputs": [
    {
     "data": {
      "text/plain": [
       "tensor([[1., 1., 1., 1., 1., 1., 1., 1., 1., 1.]], grad_fn=<SoftplusBackward0>)"
      ]
     },
     "execution_count": 38,
     "metadata": {},
     "output_type": "execute_result"
    }
   ],
   "source": [
    "X_ker.lengthscale"
   ]
  },
  {
   "cell_type": "code",
   "execution_count": 39,
   "metadata": {},
   "outputs": [
    {
     "data": {
      "text/plain": [
       "tensor([ 2.3427, -0.2785,  2.1795, -0.3675, -2.3813, -0.5511, -0.1140, -0.9373,\n",
       "         1.6519,  1.7597])"
      ]
     },
     "execution_count": 39,
     "metadata": {},
     "output_type": "execute_result"
    }
   ],
   "source": [
    "data_train.X1[0]"
   ]
  },
  {
   "cell_type": "code",
   "execution_count": 40,
   "metadata": {},
   "outputs": [
    {
     "name": "stdout",
     "output_type": "stream",
     "text": [
      "     pcost       dcost       gap    pres   dres\n",
      " 0:  1.9073e+02 -1.0960e+08  1e+08  8e-17  1e-12\n",
      " 1:  1.9027e+02 -1.1071e+06  1e+06  1e-16  9e-13\n",
      " 2:  1.5267e+02 -2.2762e+04  2e+04  2e-16  2e-14\n",
      " 3:  6.7339e+00 -3.8026e+02  4e+02  1e-16  2e-15\n",
      " 4: -3.9734e+01 -6.3599e+01  2e+01  1e-16  1e-15\n",
      " 5: -4.5688e+01 -4.8278e+01  3e+00  1e-16  1e-15\n",
      " 6: -4.6391e+01 -4.6675e+01  3e-01  1e-16  8e-16\n",
      " 7: -4.6463e+01 -4.6493e+01  3e-02  1e-16  1e-15\n",
      " 8: -4.6471e+01 -4.6474e+01  3e-03  2e-16  1e-15\n",
      " 9: -4.6471e+01 -4.6472e+01  3e-04  3e-16  1e-15\n",
      "10: -4.6471e+01 -4.6471e+01  2e-05  1e-16  9e-16\n",
      "Optimal solution found.\n"
     ]
    }
   ],
   "source": [
    "a = KMM_weights_for_W_matrix(X_ker,data_train.X1,data_test.X,True)"
   ]
  },
  {
   "cell_type": "code",
   "execution_count": 41,
   "metadata": {},
   "outputs": [],
   "source": [
    "from src.utils import get_W_matrix"
   ]
  },
  {
   "cell_type": "code",
   "execution_count": 42,
   "metadata": {},
   "outputs": [],
   "source": [
    "Wt = get_W_matrix(X_ker(data_train.X1).evaluate(),c=1,func=\"zero\",weights=a)"
   ]
  },
  {
   "cell_type": "code",
   "execution_count": 43,
   "metadata": {},
   "outputs": [
    {
     "data": {
      "text/plain": [
       "tensor(0.)"
      ]
     },
     "execution_count": 43,
     "metadata": {},
     "output_type": "execute_result"
    }
   ],
   "source": [
    "Wt.sum()"
   ]
  },
  {
   "cell_type": "code",
   "execution_count": 44,
   "metadata": {},
   "outputs": [],
   "source": [
    "from src.test_statistics import DATE_goodness_of_fit"
   ]
  },
  {
   "cell_type": "code",
   "execution_count": 45,
   "metadata": {},
   "outputs": [
    {
     "data": {
      "text/plain": [
       "torch.float32"
      ]
     },
     "execution_count": 45,
     "metadata": {},
     "output_type": "execute_result"
    }
   ],
   "source": [
    "Wt = Wt.type(torch.float)\n",
    "Wt.dtype"
   ]
  },
  {
   "cell_type": "code",
   "execution_count": 46,
   "metadata": {},
   "outputs": [
    {
     "data": {
      "text/plain": [
       "0.3814334273338318"
      ]
     },
     "execution_count": 46,
     "metadata": {},
     "output_type": "execute_result"
    }
   ],
   "source": [
    "DETT_goodness_of_fit(data_train.Y,data_train,data_test,X_ker,Y_ker,weights=torch.ones(data_train.X.shape[0]),t=1,Wt=Wt)"
   ]
  },
  {
   "cell_type": "code",
   "execution_count": 47,
   "metadata": {},
   "outputs": [],
   "source": [
    "from src.test import goodness_of_fit_test"
   ]
  },
  {
   "cell_type": "code",
   "execution_count": 48,
   "metadata": {},
   "outputs": [
    {
     "data": {
      "text/plain": [
       "0.008147329092025757"
      ]
     },
     "execution_count": 48,
     "metadata": {},
     "output_type": "execute_result"
    }
   ],
   "source": [
    "goodness_of_fit_test(data_train.Y,data_train,data_test,X_ker,Y_ker,weights_model,t=0,test_stat=\"DATE\",reg=[1,1],func=\"zero\", KMM_weights = False)"
   ]
  },
  {
   "cell_type": "code",
   "execution_count": 49,
   "metadata": {},
   "outputs": [
    {
     "name": "stdout",
     "output_type": "stream",
     "text": [
      "     pcost       dcost       gap    pres   dres\n",
      " 0: -8.6013e+01 -1.0959e+08  1e+08  9e-17  3e-13\n",
      " 1: -8.6762e+01 -1.1102e+06  1e+06  1e-16  2e-13\n",
      " 2: -1.3713e+02 -2.1280e+04  2e+04  2e-16  5e-15\n",
      " 3: -2.3313e+02 -1.3286e+03  1e+03  2e-16  7e-16\n",
      " 4: -2.4004e+02 -3.0591e+02  7e+01  2e-16  7e-16\n",
      " 5: -2.4121e+02 -2.4370e+02  2e+00  2e-16  7e-16\n",
      " 6: -2.4121e+02 -2.4124e+02  3e-02  1e-16  8e-16\n",
      " 7: -2.4121e+02 -2.4121e+02  3e-04  1e-16  8e-16\n",
      " 8: -2.4121e+02 -2.4121e+02  3e-06  1e-16  7e-16\n",
      "Optimal solution found.\n"
     ]
    },
    {
     "data": {
      "text/plain": [
       "0.008147329092025757"
      ]
     },
     "execution_count": 49,
     "metadata": {},
     "output_type": "execute_result"
    }
   ],
   "source": [
    "goodness_of_fit_test(data_train.Y,data_train,data_test,X_ker,Y_ker,weights_model,t=0,test_stat=\"DATE\",reg=[1,1],func=\"zero\", KMM_weights = True)"
   ]
  },
  {
   "cell_type": "code",
   "execution_count": 50,
   "metadata": {},
   "outputs": [],
   "source": [
    "KMM_weights = True\n",
    "reg =[1,1]\n",
    "func =\"zero\"\n",
    "fit_samples = data_train.Y1\n",
    "weights = torch.tensor(weights_model.predict_proba(data_test.X)[:,1]).float()"
   ]
  },
  {
   "cell_type": "code",
   "execution_count": 51,
   "metadata": {},
   "outputs": [
    {
     "name": "stdout",
     "output_type": "stream",
     "text": [
      "     pcost       dcost       gap    pres   dres\n",
      " 0: -8.6013e+01 -1.0959e+08  1e+08  9e-17  3e-13\n",
      " 1: -8.6762e+01 -1.1102e+06  1e+06  1e-16  2e-13\n",
      " 2: -1.3713e+02 -2.1280e+04  2e+04  2e-16  5e-15\n",
      " 3: -2.3313e+02 -1.3286e+03  1e+03  2e-16  7e-16\n",
      " 4: -2.4004e+02 -3.0591e+02  7e+01  2e-16  7e-16\n"
     ]
    },
    {
     "name": "stdout",
     "output_type": "stream",
     "text": [
      " 5: -2.4121e+02 -2.4370e+02  2e+00  2e-16  7e-16\n",
      " 6: -2.4121e+02 -2.4124e+02  3e-02  1e-16  8e-16\n",
      " 7: -2.4121e+02 -2.4121e+02  3e-04  1e-16  8e-16\n",
      " 8: -2.4121e+02 -2.4121e+02  3e-06  1e-16  7e-16\n",
      "Optimal solution found.\n"
     ]
    },
    {
     "data": {
      "text/plain": [
       "0.001979619264602661"
      ]
     },
     "execution_count": 51,
     "metadata": {},
     "output_type": "execute_result"
    }
   ],
   "source": [
    "W0_weights_T = 1/KMM_weights_for_W_matrix(X_ker,data_train.X0,data_train.X,KMM_weights)            \n",
    "W0_T = get_W_matrix(X_ker(data_train.X0).evaluate(),reg[0],func,weights=W0_weights_T)\n",
    "DATE_goodness_of_fit(fit_samples,data_train,data_test,X_ker,Y_ker,1-weights,W0_T,t=1)"
   ]
  },
  {
   "cell_type": "code",
   "execution_count": 52,
   "metadata": {},
   "outputs": [],
   "source": [
    "KMM_weights = False"
   ]
  },
  {
   "cell_type": "code",
   "execution_count": 53,
   "metadata": {},
   "outputs": [],
   "source": [
    "fit_samples = data_train.Y0"
   ]
  },
  {
   "cell_type": "code",
   "execution_count": 54,
   "metadata": {},
   "outputs": [],
   "source": [
    "W0_weights = 1/KMM_weights_for_W_matrix(X_ker,data_train.X0,data_train.X,KMM_weights)     \n",
    "W0 = get_W_matrix(X_ker(data_train.X0).evaluate(),reg[0],func,weights=W0_weights)"
   ]
  },
  {
   "cell_type": "code",
   "execution_count": 55,
   "metadata": {},
   "outputs": [
    {
     "data": {
      "text/plain": [
       "0.01481732726097107"
      ]
     },
     "execution_count": 55,
     "metadata": {},
     "output_type": "execute_result"
    }
   ],
   "source": [
    "kernel_X = ker(X_ker)\n",
    "DATE_goodness_of_fit(fit_samples,data_train,data_test,X_ker,Y_ker,1-weights,W0,t=1)"
   ]
  },
  {
   "cell_type": "code",
   "execution_count": 56,
   "metadata": {},
   "outputs": [],
   "source": [
    "a,b,c = data_train.T,data_train.Y1,data_train.Y0"
   ]
  },
  {
   "cell_type": "code",
   "execution_count": 57,
   "metadata": {},
   "outputs": [],
   "source": [
    "data_train.flip_T()"
   ]
  },
  {
   "cell_type": "code",
   "execution_count": 58,
   "metadata": {},
   "outputs": [],
   "source": [
    "d,e,f = data_train.T,data_train.Y1,data_train.Y0"
   ]
  },
  {
   "cell_type": "code",
   "execution_count": 59,
   "metadata": {},
   "outputs": [],
   "source": [
    "data_train.flip_T()"
   ]
  },
  {
   "cell_type": "code",
   "execution_count": 60,
   "metadata": {},
   "outputs": [],
   "source": [
    "b = data_train.X1"
   ]
  },
  {
   "cell_type": "code",
   "execution_count": 61,
   "metadata": {},
   "outputs": [
    {
     "data": {
      "text/plain": [
       "tensor([[ 2.3427, -0.2785,  2.1795,  ..., -0.9373,  1.6519,  1.7597],\n",
       "        [ 0.9745, -0.1785, -1.0947,  ..., -0.1749,  2.2632, -0.3206],\n",
       "        [ 0.7694,  2.5361,  1.6850,  ..., -1.4470,  0.3946, -0.6785],\n",
       "        ...,\n",
       "        [-2.1216,  3.2268,  2.3483,  ..., -0.7136,  1.0923, -0.9426],\n",
       "        [ 2.4299,  0.0501, -2.7514,  ...,  0.5549,  0.4863,  0.7422],\n",
       "        [ 0.4407, -0.8472, -3.4213,  ...,  0.2158, -3.1063, -0.2842]])"
      ]
     },
     "execution_count": 61,
     "metadata": {},
     "output_type": "execute_result"
    }
   ],
   "source": [
    "b"
   ]
  },
  {
   "cell_type": "code",
   "execution_count": 69,
   "metadata": {},
   "outputs": [
    {
     "data": {
      "text/plain": [
       "0.008147329092025757"
      ]
     },
     "execution_count": 69,
     "metadata": {},
     "output_type": "execute_result"
    }
   ],
   "source": [
    "# kernel_X = ker(X_ker)\n",
    "DATE_goodness_of_fit(data_train.Y,data_train,data_test,X_ker,Y_ker,1-weights,W0,t=0)"
   ]
  },
  {
   "cell_type": "code",
   "execution_count": 63,
   "metadata": {},
   "outputs": [
    {
     "data": {
      "text/plain": [
       "tensor([0.5076, 0.4922, 0.5091, 0.4269, 0.5481, 0.5439, 0.4948, 0.5319, 0.4818,\n",
       "        0.4417, 0.4827, 0.5064, 0.5008, 0.4735, 0.4671, 0.4575, 0.4447, 0.4907,\n",
       "        0.5256, 0.4791, 0.5455, 0.4608, 0.4651, 0.4456, 0.5249, 0.5404, 0.4657,\n",
       "        0.5359, 0.5353, 0.5420, 0.4485, 0.4745, 0.5535, 0.4965, 0.5519, 0.4820,\n",
       "        0.5227, 0.4606, 0.5192, 0.4444, 0.4672, 0.4877, 0.5751, 0.4848, 0.4574,\n",
       "        0.5468, 0.5080, 0.4894, 0.4659, 0.5728, 0.5458, 0.4721, 0.4610, 0.4695,\n",
       "        0.4828, 0.4827, 0.5129, 0.5428, 0.5346, 0.4776, 0.5073, 0.5139, 0.4859,\n",
       "        0.4923, 0.4891, 0.4430, 0.6029, 0.5096, 0.4873, 0.5223, 0.6000, 0.4525,\n",
       "        0.5207, 0.4961, 0.4775, 0.5764, 0.4390, 0.5161, 0.5152, 0.5028, 0.5303,\n",
       "        0.5520, 0.5657, 0.4795, 0.5965, 0.5240, 0.5384, 0.4977, 0.5488, 0.4073,\n",
       "        0.4302, 0.5396, 0.4963, 0.4696, 0.4558, 0.4695, 0.5003, 0.5566, 0.5139,\n",
       "        0.5300, 0.4680, 0.5273, 0.5103, 0.6018, 0.4771, 0.5666, 0.5634, 0.5280,\n",
       "        0.5183, 0.4510, 0.5284, 0.5074, 0.5028, 0.4435, 0.5570, 0.4560, 0.4561,\n",
       "        0.4103, 0.4604, 0.4627, 0.4906, 0.5167, 0.5112, 0.4569, 0.5579, 0.4796,\n",
       "        0.4767, 0.4677, 0.4870, 0.4868, 0.4575, 0.4579, 0.5842, 0.5938, 0.5724,\n",
       "        0.4835, 0.4609, 0.4709, 0.4512, 0.4498, 0.5029, 0.5755, 0.5631, 0.4767,\n",
       "        0.4346, 0.4758, 0.4519, 0.4698, 0.4771, 0.3767, 0.4819, 0.5639, 0.4894,\n",
       "        0.4834, 0.4417, 0.5493, 0.5103, 0.5068, 0.4802, 0.5485, 0.4477, 0.4544,\n",
       "        0.4824, 0.4379, 0.4172, 0.4669, 0.5169, 0.4849, 0.4526, 0.5673, 0.5135,\n",
       "        0.4322, 0.4688, 0.4883, 0.5092, 0.5286, 0.5449, 0.5124, 0.5287, 0.4490,\n",
       "        0.4707, 0.4707, 0.3825, 0.4451, 0.5252, 0.4178, 0.4267, 0.4493, 0.4838,\n",
       "        0.4299, 0.4281, 0.5565, 0.5953, 0.4623, 0.5332, 0.5268, 0.4954, 0.5611,\n",
       "        0.4691, 0.5399, 0.5831, 0.5393, 0.4431, 0.5246, 0.4871, 0.5651, 0.6075,\n",
       "        0.4675, 0.4506, 0.4773, 0.5156, 0.4898, 0.5309, 0.4770, 0.5286, 0.5746,\n",
       "        0.4558, 0.5051, 0.5073, 0.4993, 0.5733, 0.4567, 0.5250, 0.5205, 0.5937,\n",
       "        0.5288, 0.5178, 0.5634, 0.4532, 0.4752, 0.5212, 0.4065, 0.6188, 0.4801,\n",
       "        0.5054, 0.4442, 0.4537, 0.4438, 0.5202, 0.5230, 0.5240, 0.4990, 0.5580,\n",
       "        0.5575, 0.4374, 0.4234, 0.5319, 0.4875, 0.5663, 0.6073, 0.5420, 0.4960,\n",
       "        0.5072, 0.4878, 0.5797, 0.5332, 0.4894, 0.4714, 0.5386, 0.4876, 0.4902,\n",
       "        0.4824, 0.5165, 0.4485, 0.5228, 0.5206, 0.4908, 0.5060, 0.5279, 0.5105,\n",
       "        0.4826, 0.5298, 0.5533, 0.4983, 0.5114, 0.5137, 0.5509, 0.4872, 0.5489,\n",
       "        0.4621, 0.4986, 0.5021, 0.5013, 0.4911, 0.4371, 0.5037, 0.4751, 0.4871,\n",
       "        0.4590, 0.5022, 0.5675, 0.4708, 0.5035, 0.4299, 0.5255, 0.4955, 0.4766,\n",
       "        0.5192, 0.4953, 0.4996, 0.5136, 0.4675, 0.5688, 0.5047, 0.4538, 0.4731,\n",
       "        0.4763, 0.4459, 0.5448, 0.4572, 0.4984, 0.5035, 0.5041, 0.4766, 0.4576,\n",
       "        0.4766, 0.4970, 0.5478, 0.4880, 0.4815, 0.4571, 0.4565, 0.5008, 0.4940,\n",
       "        0.4657, 0.4856, 0.4029, 0.5168, 0.4693, 0.5216, 0.4987, 0.5028, 0.5012,\n",
       "        0.4979, 0.4714, 0.5149, 0.4702, 0.5289, 0.5281, 0.4289, 0.3858, 0.4529,\n",
       "        0.5183, 0.4891, 0.5215, 0.4873, 0.5314, 0.5111, 0.5463, 0.5140, 0.5361,\n",
       "        0.5602, 0.5031, 0.4528, 0.4963, 0.4696, 0.4809, 0.4750, 0.5193, 0.4991,\n",
       "        0.5181, 0.4888, 0.5091, 0.5322, 0.5207, 0.4974, 0.4381, 0.4375, 0.4855,\n",
       "        0.4329, 0.3738, 0.5057, 0.4457, 0.4858, 0.5163, 0.4614, 0.5395, 0.4840,\n",
       "        0.4716, 0.4290, 0.5534, 0.4486, 0.5364, 0.4777, 0.5034, 0.4802, 0.5390,\n",
       "        0.4898, 0.4915, 0.5015, 0.5019, 0.4456, 0.5166, 0.5544, 0.4578, 0.5209,\n",
       "        0.4783, 0.4978, 0.5848, 0.5085, 0.5413, 0.5109, 0.4618, 0.5095, 0.4755,\n",
       "        0.5402, 0.5212, 0.4869, 0.4205, 0.4880, 0.4645, 0.4944, 0.5435, 0.5075,\n",
       "        0.5145, 0.4530, 0.4328, 0.5179, 0.5322, 0.4771, 0.5455, 0.5149, 0.5089,\n",
       "        0.5527, 0.5243, 0.4969, 0.4668, 0.4581, 0.5313, 0.4418, 0.5294, 0.4429,\n",
       "        0.4794, 0.5419, 0.5386, 0.5076, 0.5416, 0.4349, 0.5270, 0.5024, 0.4953,\n",
       "        0.5122, 0.5148, 0.5011, 0.5281, 0.4638, 0.5365, 0.5187, 0.5065, 0.5029,\n",
       "        0.5647, 0.5236, 0.4485, 0.5370, 0.5073, 0.5251, 0.5127, 0.5893, 0.4322,\n",
       "        0.4499, 0.4752, 0.4186, 0.5566, 0.5403, 0.4686, 0.5458, 0.4748, 0.4822,\n",
       "        0.5738, 0.5224, 0.4826, 0.4970, 0.5465, 0.5688, 0.5575, 0.4870, 0.5678,\n",
       "        0.4875, 0.5477, 0.4497, 0.5039, 0.5233, 0.5298, 0.4255, 0.4505, 0.5245,\n",
       "        0.5412, 0.5420, 0.4836, 0.5877, 0.4903, 0.4864, 0.4781, 0.4583, 0.4506,\n",
       "        0.4939, 0.4050, 0.5405, 0.5342, 0.5314, 0.5319, 0.5652, 0.5845, 0.5213,\n",
       "        0.5175, 0.4511, 0.4368, 0.3285, 0.4758, 0.4449, 0.5410, 0.5797, 0.4278,\n",
       "        0.4125, 0.5212, 0.4751, 0.4848, 0.3199, 0.5162, 0.5411, 0.4773, 0.4835,\n",
       "        0.4185, 0.4593, 0.4377, 0.4321, 0.5310, 0.5150, 0.4836, 0.6464, 0.6293,\n",
       "        0.4797, 0.4482, 0.5177, 0.4001, 0.4944, 0.5204, 0.5148, 0.4327, 0.4905,\n",
       "        0.4488, 0.4472, 0.4751, 0.6243, 0.5155, 0.4358, 0.5408, 0.5663, 0.4351,\n",
       "        0.5951, 0.4693, 0.5060, 0.6232, 0.5237, 0.5321, 0.4418, 0.5525, 0.5331,\n",
       "        0.4709, 0.4579, 0.4808, 0.4747, 0.5758, 0.5075, 0.7174, 0.4818, 0.4527,\n",
       "        0.4503, 0.3911, 0.4603, 0.5219, 0.5315, 0.5961, 0.5481, 0.5892, 0.4722,\n",
       "        0.5948, 0.5504, 0.3538, 0.6974, 0.5227, 0.5525, 0.4690, 0.5214, 0.6619,\n",
       "        0.6516, 0.4960, 0.5108, 0.3519, 0.4958, 0.4241, 0.4825, 0.4883, 0.5224,\n",
       "        0.5145, 0.6694, 0.4397, 0.4864, 0.5483, 0.4651, 0.4602, 0.4890, 0.4959,\n",
       "        0.5787, 0.4182, 0.4606, 0.5941, 0.4190, 0.4678, 0.5408, 0.5036, 0.5392,\n",
       "        0.4882, 0.4867, 0.4835, 0.4829, 0.4318, 0.4872, 0.4034, 0.4787, 0.5059,\n",
       "        0.5368, 0.5760, 0.4706, 0.5699, 0.4868, 0.5061, 0.4719, 0.5987, 0.4597,\n",
       "        0.5292, 0.5020, 0.4977, 0.4545, 0.4414, 0.6201, 0.5458, 0.5101, 0.5528,\n",
       "        0.3583, 0.5284, 0.4372, 0.6498, 0.5368, 0.4923, 0.5030, 0.4236, 0.5291,\n",
       "        0.4900, 0.6025, 0.4780, 0.5544, 0.4843, 0.4788, 0.6223, 0.4733, 0.5997,\n",
       "        0.3800, 0.5619, 0.5073, 0.5012, 0.4587, 0.4742, 0.4785, 0.4895, 0.5981,\n",
       "        0.4502, 0.5574, 0.5553, 0.6085, 0.5408, 0.4069, 0.5336, 0.5921, 0.5886,\n",
       "        0.4484, 0.5321, 0.4701, 0.4474, 0.4584, 0.4441, 0.5752, 0.4609, 0.5193,\n",
       "        0.4420, 0.5027, 0.4270, 0.5417, 0.4832, 0.5013, 0.5692, 0.4811, 0.5366,\n",
       "        0.4910, 0.4863, 0.5162, 0.4291, 0.5396, 0.3829, 0.5082, 0.6524, 0.4723,\n",
       "        0.5008, 0.4998, 0.5784, 0.4705, 0.4990, 0.6373, 0.5046, 0.4642, 0.5333,\n",
       "        0.4829, 0.6130, 0.5621, 0.6589, 0.6124, 0.5388, 0.5990, 0.5612, 0.5899,\n",
       "        0.4907, 0.4078, 0.3690, 0.4760, 0.5206, 0.4505, 0.5404, 0.5548, 0.5862,\n",
       "        0.5491, 0.3992, 0.4959, 0.4402, 0.5405, 0.5192, 0.5786, 0.4583, 0.4921,\n",
       "        0.3869, 0.4747, 0.4148, 0.4273, 0.4494, 0.3854, 0.4582, 0.4239, 0.5576,\n",
       "        0.4666, 0.4335, 0.5362, 0.5852, 0.4609, 0.4567, 0.4284, 0.4975, 0.6122,\n",
       "        0.5390, 0.4993, 0.4114, 0.4325, 0.6474, 0.4791, 0.4617, 0.3729, 0.4926,\n",
       "        0.4537, 0.4867, 0.5003, 0.5858, 0.5570, 0.5456, 0.5483, 0.4818, 0.4865,\n",
       "        0.4569, 0.6743, 0.5954, 0.5157, 0.5564, 0.4066, 0.5254, 0.5821, 0.4558,\n",
       "        0.5400, 0.5329, 0.5552, 0.4630, 0.4289, 0.5461, 0.5025, 0.5193, 0.6414,\n",
       "        0.5112, 0.5573, 0.5907, 0.5694, 0.5235, 0.4456, 0.5692, 0.4475, 0.5508,\n",
       "        0.4769, 0.5253, 0.5118, 0.5116, 0.4025, 0.4884, 0.4805, 0.5178, 0.5049,\n",
       "        0.5852, 0.5361, 0.4072, 0.3967, 0.4990, 0.6140, 0.5128, 0.5781, 0.4634,\n",
       "        0.4302, 0.4834, 0.4852, 0.4546, 0.4570, 0.4873, 0.5242, 0.4251, 0.4629,\n",
       "        0.5381, 0.5363, 0.4254, 0.4804, 0.4581, 0.5511, 0.5641, 0.5035, 0.4667,\n",
       "        0.4838, 0.6184, 0.5680, 0.4954, 0.4805, 0.6796, 0.4522, 0.5165, 0.6049,\n",
       "        0.4353, 0.4242, 0.4077, 0.5697, 0.4973, 0.4402, 0.4031, 0.5672, 0.5097,\n",
       "        0.4844, 0.4631, 0.4315, 0.4680, 0.6217, 0.4733, 0.4697, 0.6233, 0.5870,\n",
       "        0.3825, 0.5757, 0.6054, 0.4074, 0.5258, 0.5126, 0.4541, 0.4319, 0.4140,\n",
       "        0.4569, 0.5071, 0.4139, 0.4341, 0.4465, 0.4529, 0.4666, 0.4843, 0.4812,\n",
       "        0.5535, 0.5119, 0.4801, 0.3987, 0.4807, 0.4853, 0.4850, 0.4861, 0.6131,\n",
       "        0.4916, 0.4522, 0.4738, 0.5468, 0.4676, 0.4703, 0.4938, 0.4285, 0.6027,\n",
       "        0.4818, 0.5434, 0.4996, 0.4929, 0.5082, 0.5573, 0.3583, 0.5278, 0.5039,\n",
       "        0.4083, 0.3807, 0.3957, 0.5716, 0.5699, 0.4773, 0.4788, 0.5024, 0.4162,\n",
       "        0.5543, 0.4994, 0.5164, 0.5735, 0.5453, 0.5153, 0.5388, 0.4875, 0.6980,\n",
       "        0.5205, 0.5214, 0.4508, 0.3482, 0.4421, 0.5667, 0.5106, 0.4735, 0.5253,\n",
       "        0.4412, 0.5299, 0.4895, 0.6083, 0.4396, 0.5990, 0.4093, 0.5450, 0.4572,\n",
       "        0.5743, 0.5238, 0.5008, 0.5384, 0.4722, 0.4600, 0.4820, 0.4840, 0.4800,\n",
       "        0.4797, 0.5119, 0.5323, 0.4221, 0.3578, 0.4399, 0.4639, 0.5764, 0.4828,\n",
       "        0.6124, 0.5443, 0.5636, 0.4959, 0.5042, 0.4755, 0.4716, 0.6580, 0.5939,\n",
       "        0.4380, 0.5032, 0.3944, 0.4604, 0.4618, 0.5983, 0.5896, 0.5684, 0.4284,\n",
       "        0.5134, 0.5314, 0.5861, 0.5339, 0.6106, 0.5610, 0.5716, 0.5398, 0.6201,\n",
       "        0.5137, 0.5076, 0.4953, 0.4484, 0.5594, 0.4986, 0.4969, 0.6040, 0.5302,\n",
       "        0.5723])"
      ]
     },
     "execution_count": 63,
     "metadata": {},
     "output_type": "execute_result"
    }
   ],
   "source": [
    "1-weights"
   ]
  },
  {
   "cell_type": "code",
   "execution_count": 64,
   "metadata": {},
   "outputs": [],
   "source": [
    "import numpy as np"
   ]
  },
  {
   "cell_type": "code",
   "execution_count": 65,
   "metadata": {},
   "outputs": [
    {
     "name": "stderr",
     "output_type": "stream",
     "text": [
      "\n",
      "KeyboardInterrupt\n",
      "\n"
     ]
    }
   ],
   "source": [
    "c =kernel_mean_matching_3(X_ker,(data_train.X1), (data_test.X),B=100,eps=10000)"
   ]
  },
  {
   "cell_type": "code",
   "execution_count": null,
   "metadata": {},
   "outputs": [
    {
     "data": {
      "text/plain": [
       "(6.369902730505058e-09, 2.931789578722153, 0.15628347147136007, 500)"
      ]
     },
     "execution_count": 168,
     "metadata": {},
     "output_type": "execute_result"
    }
   ],
   "source": [
    "c.min(),c.max(),c.mean(),len(c)"
   ]
  },
  {
   "cell_type": "code",
   "execution_count": null,
   "metadata": {},
   "outputs": [],
   "source": [
    "n0 = 3"
   ]
  },
  {
   "cell_type": "code",
   "execution_count": null,
   "metadata": {},
   "outputs": [
    {
     "data": {
      "text/plain": [
       "tensor([[ 1.,  1.,  1.],\n",
       "        [-1., -1., -1.],\n",
       "        [ 1.,  0.,  0.],\n",
       "        [ 0.,  1.,  0.],\n",
       "        [ 0.,  0.,  1.],\n",
       "        [-1., -0., -0.],\n",
       "        [-0., -1., -0.],\n",
       "        [-0., -0., -1.]])"
      ]
     },
     "execution_count": 49,
     "metadata": {},
     "output_type": "execute_result"
    }
   ],
   "source": [
    "G = torch.concat([torch.ones(1,n0),-torch.ones(1,n0),torch.eye(n0),-torch.eye(n0)])\n",
    "G"
   ]
  },
  {
   "cell_type": "code",
   "execution_count": null,
   "metadata": {},
   "outputs": [
    {
     "data": {
      "text/plain": [
       "tensor([ 4.5000, -1.5000,  2.0000,  2.0000,  2.0000,  0.0000,  0.0000,  0.0000])"
      ]
     },
     "execution_count": 50,
     "metadata": {},
     "output_type": "execute_result"
    }
   ],
   "source": [
    "eps,B = 0.5,2\n",
    "h = torch.concat([torch.tensor([n0 * (1 + eps),n0 * (eps - 1)]), B * torch.ones((n0,)),torch.zeros(n0) ])\n",
    "h"
   ]
  },
  {
   "cell_type": "code",
   "execution_count": null,
   "metadata": {},
   "outputs": [],
   "source": [
    "import yaml\n",
    "import src.data as data"
   ]
  },
  {
   "cell_type": "code",
   "execution_count": null,
   "metadata": {},
   "outputs": [],
   "source": [
    "f = getattr(data,\"shift_data_simulation\")"
   ]
  },
  {
   "cell_type": "code",
   "execution_count": null,
   "metadata": {},
   "outputs": [],
   "source": [
    "with open(\"/Users/jakefawkes/Python/DR_distributional_test/config/run_simulated_shift_experiment.yaml\", \"r\") as f:\n",
    "    cfg = yaml.safe_load(f)"
   ]
  },
  {
   "cell_type": "code",
   "execution_count": null,
   "metadata": {},
   "outputs": [
    {
     "data": {
      "text/plain": [
       "{'experiment': {'n_iter': 30,\n",
       "  'test_stat': ['DATE', 'DETT'],\n",
       "  'ker_regress': ['cme', 'zero'],\n",
       "  'weights_model': 'Linear',\n",
       "  'X_ker': 'RBF',\n",
       "  'Y_ker': 'RBF',\n",
       "  'significance_level': 0.05,\n",
       "  'n_bins': 20,\n",
       "  'cme_reg': 0.01,\n",
       "  'permute_weights': True,\n",
       "  'KMM_weights': True},\n",
       " 'data': {'generator': 'Logistic_Regression',\n",
       "  'n_train_sample': 500,\n",
       "  'n_test_sample': 500,\n",
       "  'arguments': {'alpha_vec': [0.1, 0.2, 0.3, 0.4, 0.5],\n",
       "   'beta_vec': [0.1, 0.2, 0.3, 0.4, 0.5],\n",
       "   'beta_scalar': 0,\n",
       "   'effect_var': 'Unif',\n",
       "   'noise_Y': 0.2}}}"
      ]
     },
     "execution_count": 110,
     "metadata": {},
     "output_type": "execute_result"
    }
   ],
   "source": [
    "cfg"
   ]
  },
  {
   "cell_type": "code",
   "execution_count": null,
   "metadata": {},
   "outputs": [],
   "source": [
    "def make_data(cfg):\n",
    "    if cfg[\"data\"][\"generator\"] == \"shift_data_simulation\":\n",
    "        function_dict = {}\n",
    "        for key in cfg[\"data\"][\"functions\"]:\n",
    "            function_dict[key] = getattr(data,cfg[\"data\"][\"functions\"][key])\n",
    "    data_train = shift_data_simulation(n_sample=cfg[\"data\"][\"n_train_sample\"],**function_dict,**cfg[\"data\"][\"arguments\"])\n",
    "    data_test = shift_data_simulation(n_sample=cfg[\"data\"][\"n_test_sample\"],**function_dict,**cfg[\"data\"][\"arguments\"])\n",
    "    return data_train,data_test"
   ]
  },
  {
   "cell_type": "code",
   "execution_count": null,
   "metadata": {},
   "outputs": [],
   "source": [
    "a = shift_data_simulation(mu,sigma,g_0,g_1,noise,n_sample)"
   ]
  },
  {
   "cell_type": "code",
   "execution_count": null,
   "metadata": {},
   "outputs": [
    {
     "data": {
      "text/plain": [
       "1.0"
      ]
     },
     "execution_count": 113,
     "metadata": {},
     "output_type": "execute_result"
    }
   ],
   "source": [
    "float(True)"
   ]
  },
  {
   "cell_type": "code",
   "execution_count": null,
   "metadata": {},
   "outputs": [],
   "source": [
    "import pandas as pd"
   ]
  },
  {
   "cell_type": "code",
   "execution_count": null,
   "metadata": {},
   "outputs": [],
   "source": [
    "df_dict = {\"Y\":a.Y,\"T\":a.T}\n",
    "df = pd.DataFrame(np.array(a.X))\n",
    "df.columns = [\"X\"+str(i) for i in df.columns]"
   ]
  },
  {
   "cell_type": "code",
   "execution_count": null,
   "metadata": {},
   "outputs": [],
   "source": [
    "df[\"Y\"] = a.Y\n",
    "df[\"T\"] = a.T"
   ]
  },
  {
   "cell_type": "code",
   "execution_count": null,
   "metadata": {},
   "outputs": [
    {
     "data": {
      "text/html": [
       "<div>\n",
       "<style scoped>\n",
       "    .dataframe tbody tr th:only-of-type {\n",
       "        vertical-align: middle;\n",
       "    }\n",
       "\n",
       "    .dataframe tbody tr th {\n",
       "        vertical-align: top;\n",
       "    }\n",
       "\n",
       "    .dataframe thead th {\n",
       "        text-align: right;\n",
       "    }\n",
       "</style>\n",
       "<table border=\"1\" class=\"dataframe\">\n",
       "  <thead>\n",
       "    <tr style=\"text-align: right;\">\n",
       "      <th></th>\n",
       "      <th>X0</th>\n",
       "      <th>X1</th>\n",
       "      <th>Y</th>\n",
       "      <th>T</th>\n",
       "    </tr>\n",
       "  </thead>\n",
       "  <tbody>\n",
       "    <tr>\n",
       "      <th>0</th>\n",
       "      <td>0.506237</td>\n",
       "      <td>0.451246</td>\n",
       "      <td>0.826996</td>\n",
       "      <td>0.0</td>\n",
       "    </tr>\n",
       "    <tr>\n",
       "      <th>1</th>\n",
       "      <td>-1.229592</td>\n",
       "      <td>1.539003</td>\n",
       "      <td>3.100840</td>\n",
       "      <td>0.0</td>\n",
       "    </tr>\n",
       "    <tr>\n",
       "      <th>2</th>\n",
       "      <td>0.613343</td>\n",
       "      <td>-1.057146</td>\n",
       "      <td>-0.650670</td>\n",
       "      <td>0.0</td>\n",
       "    </tr>\n",
       "    <tr>\n",
       "      <th>3</th>\n",
       "      <td>1.497429</td>\n",
       "      <td>-0.366604</td>\n",
       "      <td>1.956600</td>\n",
       "      <td>0.0</td>\n",
       "    </tr>\n",
       "    <tr>\n",
       "      <th>4</th>\n",
       "      <td>2.038250</td>\n",
       "      <td>1.707132</td>\n",
       "      <td>5.833252</td>\n",
       "      <td>0.0</td>\n",
       "    </tr>\n",
       "    <tr>\n",
       "      <th>...</th>\n",
       "      <td>...</td>\n",
       "      <td>...</td>\n",
       "      <td>...</td>\n",
       "      <td>...</td>\n",
       "    </tr>\n",
       "    <tr>\n",
       "      <th>195</th>\n",
       "      <td>-0.338577</td>\n",
       "      <td>1.410334</td>\n",
       "      <td>1.551149</td>\n",
       "      <td>1.0</td>\n",
       "    </tr>\n",
       "    <tr>\n",
       "      <th>196</th>\n",
       "      <td>-1.204343</td>\n",
       "      <td>0.365031</td>\n",
       "      <td>1.766839</td>\n",
       "      <td>1.0</td>\n",
       "    </tr>\n",
       "    <tr>\n",
       "      <th>197</th>\n",
       "      <td>0.277565</td>\n",
       "      <td>-0.303279</td>\n",
       "      <td>-0.209090</td>\n",
       "      <td>1.0</td>\n",
       "    </tr>\n",
       "    <tr>\n",
       "      <th>198</th>\n",
       "      <td>0.859596</td>\n",
       "      <td>1.279037</td>\n",
       "      <td>2.037700</td>\n",
       "      <td>1.0</td>\n",
       "    </tr>\n",
       "    <tr>\n",
       "      <th>199</th>\n",
       "      <td>0.145397</td>\n",
       "      <td>0.162315</td>\n",
       "      <td>0.040686</td>\n",
       "      <td>1.0</td>\n",
       "    </tr>\n",
       "  </tbody>\n",
       "</table>\n",
       "<p>200 rows × 4 columns</p>\n",
       "</div>"
      ],
      "text/plain": [
       "           X0        X1         Y    T\n",
       "0    0.506237  0.451246  0.826996  0.0\n",
       "1   -1.229592  1.539003  3.100840  0.0\n",
       "2    0.613343 -1.057146 -0.650670  0.0\n",
       "3    1.497429 -0.366604  1.956600  0.0\n",
       "4    2.038250  1.707132  5.833252  0.0\n",
       "..        ...       ...       ...  ...\n",
       "195 -0.338577  1.410334  1.551149  1.0\n",
       "196 -1.204343  0.365031  1.766839  1.0\n",
       "197  0.277565 -0.303279 -0.209090  1.0\n",
       "198  0.859596  1.279037  2.037700  1.0\n",
       "199  0.145397  0.162315  0.040686  1.0\n",
       "\n",
       "[200 rows x 4 columns]"
      ]
     },
     "execution_count": 117,
     "metadata": {},
     "output_type": "execute_result"
    }
   ],
   "source": [
    "df"
   ]
  },
  {
   "cell_type": "code",
   "execution_count": null,
   "metadata": {},
   "outputs": [],
   "source": [
    "import seaborn as sns"
   ]
  },
  {
   "cell_type": "code",
   "execution_count": null,
   "metadata": {},
   "outputs": [
    {
     "data": {
      "image/png": "[encoded data removed]",
      "text/plain": [
       "<Figure size 591.875x540 with 12 Axes>"
      ]
     },
     "metadata": {
      "needs_background": "light"
     },
     "output_type": "display_data"
    }
   ],
   "source": [
    "b = sns.pairplot(df, hue =\"T\")"
   ]
  },
  {
   "cell_type": "code",
   "execution_count": null,
   "metadata": {},
   "outputs": [],
   "source": [
    "from datetime import datetime\n"
   ]
  },
  {
   "cell_type": "code",
   "execution_count": null,
   "metadata": {},
   "outputs": [],
   "source": [
    "now = datetime.now()"
   ]
  },
  {
   "cell_type": "code",
   "execution_count": null,
   "metadata": {},
   "outputs": [
    {
     "data": {
      "text/plain": [
       "'08-07 16:15:09'"
      ]
     },
     "execution_count": 122,
     "metadata": {},
     "output_type": "execute_result"
    }
   ],
   "source": [
    "now.strftime(\"%m-%d %H:%M:%S\")"
   ]
  },
  {
   "cell_type": "code",
   "execution_count": null,
   "metadata": {},
   "outputs": [],
   "source": [
    "from src.utils import cme_cross_validate_weighted,kernel_mean_matching"
   ]
  },
  {
   "cell_type": "code",
   "execution_count": null,
   "metadata": {},
   "outputs": [
    {
     "ename": "RuntimeError",
     "evalue": "The size of tensor a (42) must match the size of tensor b (48) at non-singleton dimension 1",
     "output_type": "error",
     "traceback": [
      "\u001b[0;31m---------------------------------------------------------------------------\u001b[0m",
      "\u001b[0;31mRuntimeError\u001b[0m                              Traceback (most recent call last)",
      "\u001b[0;32m/var/folders/3k/2lkktjyj2r74wt_611v45qs00000gn/T/ipykernel_53525/1305959561.py\u001b[0m in \u001b[0;36m<module>\u001b[0;34m\u001b[0m\n\u001b[0;32m----> 1\u001b[0;31m \u001b[0mcme_cross_validate_weighted\u001b[0m\u001b[0;34m(\u001b[0m\u001b[0mdata_train\u001b[0m\u001b[0;34m,\u001b[0m\u001b[0mdata_val\u001b[0m\u001b[0;34m,\u001b[0m\u001b[0mX_ker\u001b[0m\u001b[0;34m,\u001b[0m\u001b[0mY_ker\u001b[0m\u001b[0;34m,\u001b[0m\u001b[0mreg_param\u001b[0m\u001b[0;34m=\u001b[0m\u001b[0;36m1\u001b[0m\u001b[0;34m,\u001b[0m\u001b[0mT_val\u001b[0m\u001b[0;34m=\u001b[0m\u001b[0;36m0\u001b[0m\u001b[0;34m)\u001b[0m\u001b[0;34m\u001b[0m\u001b[0;34m\u001b[0m\u001b[0m\n\u001b[0m",
      "\u001b[0;32m~/Python/DR_distributional_test/src/utils.py\u001b[0m in \u001b[0;36mcme_cross_validate_weighted\u001b[0;34m(data_train, data_val, X_ker, Y_ker, reg_param, T_val)\u001b[0m\n\u001b[1;32m    146\u001b[0m         \u001b[0mreturn_weights_matrix\u001b[0m \u001b[0;34m=\u001b[0m \u001b[0mtorch\u001b[0m\u001b[0;34m.\u001b[0m\u001b[0mdiag\u001b[0m\u001b[0;34m(\u001b[0m\u001b[0mreturn_weights\u001b[0m\u001b[0;34m)\u001b[0m\u001b[0;34m\u001b[0m\u001b[0;34m\u001b[0m\u001b[0m\n\u001b[1;32m    147\u001b[0m \u001b[0;34m\u001b[0m\u001b[0m\n\u001b[0;32m--> 148\u001b[0;31m         \u001b[0mval_stat\u001b[0m \u001b[0;34m=\u001b[0m \u001b[0mtorch\u001b[0m\u001b[0;34m.\u001b[0m\u001b[0mtrace\u001b[0m\u001b[0;34m(\u001b[0m\u001b[0mreturn_weights_matrix\u001b[0m\u001b[0;34m@\u001b[0m\u001b[0;34m(\u001b[0m\u001b[0mL\u001b[0m\u001b[0;34m(\u001b[0m\u001b[0mY_val_data\u001b[0m\u001b[0;34m,\u001b[0m\u001b[0mY_val_data\u001b[0m\u001b[0;34m)\u001b[0m \u001b[0;34m-\u001b[0m\u001b[0;36m2\u001b[0m \u001b[0;34m*\u001b[0m \u001b[0mK\u001b[0m\u001b[0;34m(\u001b[0m\u001b[0mX_train_data\u001b[0m\u001b[0;34m,\u001b[0m\u001b[0mX_val_data\u001b[0m\u001b[0;34m)\u001b[0m\u001b[0;34m.\u001b[0m\u001b[0mT\u001b[0m \u001b[0;34m@\u001b[0m \u001b[0;34m(\u001b[0m\u001b[0mW\u001b[0m \u001b[0;34m@\u001b[0m \u001b[0;34m(\u001b[0m\u001b[0mL\u001b[0m\u001b[0;34m(\u001b[0m\u001b[0mY_train_data\u001b[0m\u001b[0;34m,\u001b[0m\u001b[0mY_train_data\u001b[0m\u001b[0;34m)\u001b[0m\u001b[0;34m)\u001b[0m\u001b[0;34m)\u001b[0m \u001b[0;34m+\u001b[0m \u001b[0;34m(\u001b[0m\u001b[0mK\u001b[0m\u001b[0;34m(\u001b[0m\u001b[0mX_train_data\u001b[0m\u001b[0;34m,\u001b[0m\u001b[0mX_val_data\u001b[0m\u001b[0;34m)\u001b[0m\u001b[0;34m.\u001b[0m\u001b[0mT\u001b[0m \u001b[0;34m@\u001b[0m \u001b[0;34m(\u001b[0m\u001b[0mW\u001b[0m \u001b[0;34m@\u001b[0m \u001b[0;34m(\u001b[0m\u001b[0mL\u001b[0m\u001b[0;34m(\u001b[0m\u001b[0mY_train_data\u001b[0m\u001b[0;34m,\u001b[0m\u001b[0mY_train_data\u001b[0m\u001b[0;34m)\u001b[0m\u001b[0;34m@\u001b[0m \u001b[0;34m(\u001b[0m\u001b[0mW\u001b[0m \u001b[0;34m@\u001b[0m \u001b[0;34m(\u001b[0m\u001b[0mK\u001b[0m\u001b[0;34m(\u001b[0m\u001b[0mX_train_data\u001b[0m\u001b[0;34m,\u001b[0m\u001b[0mX_val_data\u001b[0m\u001b[0;34m)\u001b[0m\u001b[0;34m)\u001b[0m\u001b[0;34m)\u001b[0m\u001b[0;34m)\u001b[0m\u001b[0;34m)\u001b[0m\u001b[0;34m)\u001b[0m\u001b[0;34m)\u001b[0m\u001b[0;34m)\u001b[0m\u001b[0;34m\u001b[0m\u001b[0;34m\u001b[0m\u001b[0m\n\u001b[0m\u001b[1;32m    149\u001b[0m         \u001b[0;32mreturn\u001b[0m \u001b[0mval_stat\u001b[0m\u001b[0;34m\u001b[0m\u001b[0;34m\u001b[0m\u001b[0m\n",
      "\u001b[0;31mRuntimeError\u001b[0m: The size of tensor a (42) must match the size of tensor b (48) at non-singleton dimension 1"
     ]
    }
   ],
   "source": [
    "cme_cross_validate_weighted(data_train,data_val,X_ker,Y_ker,reg_param=1,T_val=0)"
   ]
  },
  {
   "cell_type": "code",
   "execution_count": null,
   "metadata": {},
   "outputs": [],
   "source": [
    "def cme_cross_validate_weighted(data_train,data_val,X_ker,Y_ker,reg_param,T_val=0):\n",
    "        \n",
    "        K = ker(X_ker)\n",
    "        L = ker(Y_ker)\n",
    "\n",
    "        X_train_data = data_train.X[data_train.T == T_val]\n",
    "        Y_train_data = data_train.Y[data_train.T == T_val]\n",
    "\n",
    "        W = get_W_matrix(X_ker(X_train_data).evaluate(),reg_param,\"cme\")\n",
    "\n",
    "        X_val_data = data_val.X[data_val.T == T_val]\n",
    "        Y_val_data = data_val.Y[data_val.T == T_val]\n",
    "\n",
    "        return_weights = kernel_mean_matching(X_ker, X_val_data, data_val.X)\n",
    "        return_weights_matrix = torch.diag(return_weights)\n",
    "\n",
    "        val_stat = torch.trace(return_weights_matrix@(L(Y_val_data,Y_val_data) -2 * K(X_train_data,X_val_data).T @ (W @ (L(Y_train_data,Y_train_data))) + (K(X_train_data,X_val_data).T @ (W @ (L(Y_train_data,Y_train_data)@ (W @ (K(X_train_data,X_val_data))))))))\n",
    "        return val_stat"
   ]
  },
  {
   "cell_type": "code",
   "execution_count": null,
   "metadata": {},
   "outputs": [],
   "source": [
    "T_val = 0\n",
    "reg_param = 1\n",
    "X_train_data = data_train.X[data_train.T == T_val]\n",
    "Y_train_data = data_train.Y[data_train.T == T_val]\n",
    "\n",
    "W = get_W_matrix(X_ker(X_train_data).evaluate(),reg_param,\"cme\")\n",
    "\n",
    "X_val_data = data_val.X[data_val.T == T_val]\n",
    "Y_val_data = data_val.Y[data_val.T == T_val]\n",
    "\n",
    "return_weights = kernel_mean_matching(X_ker, X_val_data, data_val.X).squeeze(0)\n",
    "return_weights_matrix = torch.diag(return_weights)\n",
    "\n",
    "val_stat = torch.trace(return_weights_matrix@(L(Y_val_data,Y_val_data) -2 * K(X_train_data,X_val_data).T @ (W @ (L(Y_train_data,Y_val_data))) + (K(X_train_data,X_val_data).T @ (W @ (L(Y_train_data,Y_train_data)@ (W @ (K(X_train_data,X_val_data))))))))"
   ]
  },
  {
   "cell_type": "code",
   "execution_count": null,
   "metadata": {},
   "outputs": [
    {
     "data": {
      "text/plain": [
       "torch.Size([42, 42])"
      ]
     },
     "execution_count": 158,
     "metadata": {},
     "output_type": "execute_result"
    }
   ],
   "source": [
    "(K(X_train_data,X_val_data).T @ (W @ (L(Y_train_data,Y_train_data)@ (W @ (K(X_train_data,X_val_data)))))).shape"
   ]
  },
  {
   "cell_type": "code",
   "execution_count": null,
   "metadata": {},
   "outputs": [
    {
     "data": {
      "text/plain": [
       "torch.Size([42, 42])"
      ]
     },
     "execution_count": 164,
     "metadata": {},
     "output_type": "execute_result"
    }
   ],
   "source": [
    "(K(X_train_data,X_val_data).T @ (W @ (L(Y_train_data,Y_val_data)))).shape"
   ]
  },
  {
   "cell_type": "code",
   "execution_count": null,
   "metadata": {},
   "outputs": [
    {
     "data": {
      "text/plain": [
       "tensor([[ 6.5199e+01,  0.0000e+00,  0.0000e+00,  ...,  0.0000e+00,\n",
       "          0.0000e+00,  0.0000e+00],\n",
       "        [ 0.0000e+00,  5.9489e+02,  0.0000e+00,  ...,  0.0000e+00,\n",
       "          0.0000e+00,  0.0000e+00],\n",
       "        [ 0.0000e+00,  0.0000e+00, -3.1570e+00,  ...,  0.0000e+00,\n",
       "          0.0000e+00,  0.0000e+00],\n",
       "        ...,\n",
       "        [ 0.0000e+00,  0.0000e+00,  0.0000e+00,  ...,  7.4104e+00,\n",
       "          0.0000e+00,  0.0000e+00],\n",
       "        [ 0.0000e+00,  0.0000e+00,  0.0000e+00,  ...,  0.0000e+00,\n",
       "          6.4893e+01,  0.0000e+00],\n",
       "        [ 0.0000e+00,  0.0000e+00,  0.0000e+00,  ...,  0.0000e+00,\n",
       "          0.0000e+00, -1.8914e-01]], grad_fn=<DiagBackward0>)"
      ]
     },
     "execution_count": 77,
     "metadata": {},
     "output_type": "execute_result"
    }
   ],
   "source": [
    "torch.diag(return_weights.squeeze(0))"
   ]
  },
  {
   "cell_type": "code",
   "execution_count": null,
   "metadata": {},
   "outputs": [
    {
     "data": {
      "text/plain": [
       "tensor(46.)"
      ]
     },
     "execution_count": 60,
     "metadata": {},
     "output_type": "execute_result"
    }
   ],
   "source": [
    "data_val.T.sum()"
   ]
  },
  {
   "cell_type": "code",
   "execution_count": null,
   "metadata": {},
   "outputs": [
    {
     "ename": "RuntimeError",
     "evalue": "Q is not SPD.",
     "output_type": "error",
     "traceback": [
      "\u001b[0;31m---------------------------------------------------------------------------\u001b[0m",
      "\u001b[0;31mRuntimeError\u001b[0m                              Traceback (most recent call last)",
      "\u001b[0;32m/var/folders/3k/2lkktjyj2r74wt_611v45qs00000gn/T/ipykernel_74022/1637005067.py\u001b[0m in \u001b[0;36m<module>\u001b[0;34m\u001b[0m\n\u001b[0;32m----> 1\u001b[0;31m \u001b[0mresult_dict\u001b[0m \u001b[0;34m=\u001b[0m \u001b[0mkernel_permutation_test\u001b[0m\u001b[0;34m(\u001b[0m\u001b[0mdata_train\u001b[0m\u001b[0;34m,\u001b[0m\u001b[0mdata_test\u001b[0m\u001b[0;34m,\u001b[0m\u001b[0mX_ker\u001b[0m\u001b[0;34m,\u001b[0m\u001b[0mY_ker\u001b[0m\u001b[0;34m,\u001b[0m\u001b[0mweights_model\u001b[0m\u001b[0;34m,\u001b[0m\u001b[0mtest_stat\u001b[0m\u001b[0;34m=\u001b[0m\u001b[0;34m\"DATE\"\u001b[0m\u001b[0;34m,\u001b[0m\u001b[0mn_bins\u001b[0m\u001b[0;34m=\u001b[0m\u001b[0;36m10\u001b[0m\u001b[0;34m,\u001b[0m\u001b[0mn_permutations\u001b[0m\u001b[0;34m=\u001b[0m\u001b[0;36m100\u001b[0m\u001b[0;34m,\u001b[0m\u001b[0mreg\u001b[0m\u001b[0;34m=\u001b[0m\u001b[0;36m1\u001b[0m\u001b[0;34m,\u001b[0m\u001b[0mKMM_weights\u001b[0m\u001b[0;34m=\u001b[0m\u001b[0;32mTrue\u001b[0m\u001b[0;34m)\u001b[0m\u001b[0;34m\u001b[0m\u001b[0;34m\u001b[0m\u001b[0m\n\u001b[0m",
      "\u001b[0;32m~/Python/DR_distributional_test/src/test.py\u001b[0m in \u001b[0;36mkernel_permutation_test\u001b[0;34m(data_train, data_test, X_ker, Y_ker, weights_model, test_stat, n_bins, n_permutations, reg, permute_weights, func, KMM_weights)\u001b[0m\n\u001b[1;32m     25\u001b[0m     \u001b[0;32mif\u001b[0m \u001b[0mtest_stat\u001b[0m \u001b[0;34m==\u001b[0m \u001b[0;34m\"DATE\"\u001b[0m\u001b[0;34m:\u001b[0m\u001b[0;34m\u001b[0m\u001b[0;34m\u001b[0m\u001b[0m\n\u001b[1;32m     26\u001b[0m \u001b[0;34m\u001b[0m\u001b[0m\n\u001b[0;32m---> 27\u001b[0;31m         \u001b[0mW0_weights\u001b[0m \u001b[0;34m=\u001b[0m \u001b[0mKMM_weights_for_W_matrix\u001b[0m\u001b[0;34m(\u001b[0m\u001b[0mX_ker\u001b[0m\u001b[0;34m,\u001b[0m\u001b[0mdata_train\u001b[0m\u001b[0;34m.\u001b[0m\u001b[0mX0\u001b[0m\u001b[0;34m,\u001b[0m\u001b[0mdata_train\u001b[0m\u001b[0;34m.\u001b[0m\u001b[0mX\u001b[0m\u001b[0;34m,\u001b[0m\u001b[0mKMM_weights\u001b[0m\u001b[0;34m)\u001b[0m\u001b[0;34m\u001b[0m\u001b[0;34m\u001b[0m\u001b[0m\n\u001b[0m\u001b[1;32m     28\u001b[0m         \u001b[0mW1_weights\u001b[0m \u001b[0;34m=\u001b[0m \u001b[0mKMM_weights_for_W_matrix\u001b[0m\u001b[0;34m(\u001b[0m\u001b[0mX_ker\u001b[0m\u001b[0;34m,\u001b[0m\u001b[0mdata_train\u001b[0m\u001b[0;34m.\u001b[0m\u001b[0mX1\u001b[0m\u001b[0;34m,\u001b[0m\u001b[0mdata_train\u001b[0m\u001b[0;34m.\u001b[0m\u001b[0mX\u001b[0m\u001b[0;34m,\u001b[0m\u001b[0mKMM_weights\u001b[0m\u001b[0;34m)\u001b[0m\u001b[0;34m\u001b[0m\u001b[0;34m\u001b[0m\u001b[0m\n\u001b[1;32m     29\u001b[0m \u001b[0;34m\u001b[0m\u001b[0m\n",
      "\u001b[0;32m~/Python/DR_distributional_test/src/utils.py\u001b[0m in \u001b[0;36mKMM_weights_for_W_matrix\u001b[0;34m(X_ker, X0, X, KMM_weights)\u001b[0m\n\u001b[1;32m    102\u001b[0m \u001b[0;32mdef\u001b[0m \u001b[0mKMM_weights_for_W_matrix\u001b[0m\u001b[0;34m(\u001b[0m\u001b[0mX_ker\u001b[0m\u001b[0;34m,\u001b[0m\u001b[0mX0\u001b[0m\u001b[0;34m,\u001b[0m\u001b[0mX\u001b[0m\u001b[0;34m,\u001b[0m\u001b[0mKMM_weights\u001b[0m \u001b[0;34m=\u001b[0m \u001b[0;32mFalse\u001b[0m\u001b[0;34m)\u001b[0m\u001b[0;34m:\u001b[0m\u001b[0;34m\u001b[0m\u001b[0;34m\u001b[0m\u001b[0m\n\u001b[1;32m    103\u001b[0m     \u001b[0;32mif\u001b[0m \u001b[0mKMM_weights\u001b[0m\u001b[0;34m:\u001b[0m\u001b[0;34m\u001b[0m\u001b[0;34m\u001b[0m\u001b[0m\n\u001b[0;32m--> 104\u001b[0;31m         \u001b[0mreturn_weights\u001b[0m \u001b[0;34m=\u001b[0m \u001b[0mkernel_mean_matching\u001b[0m\u001b[0;34m(\u001b[0m\u001b[0mX_ker\u001b[0m\u001b[0;34m,\u001b[0m \u001b[0mX0\u001b[0m\u001b[0;34m,\u001b[0m \u001b[0mX\u001b[0m\u001b[0;34m)\u001b[0m\u001b[0;34m.\u001b[0m\u001b[0msqueeze\u001b[0m\u001b[0;34m(\u001b[0m\u001b[0;36m0\u001b[0m\u001b[0;34m)\u001b[0m\u001b[0;34m\u001b[0m\u001b[0;34m\u001b[0m\u001b[0m\n\u001b[0m\u001b[1;32m    105\u001b[0m     \u001b[0;32melse\u001b[0m\u001b[0;34m:\u001b[0m\u001b[0;34m\u001b[0m\u001b[0;34m\u001b[0m\u001b[0m\n\u001b[1;32m    106\u001b[0m         \u001b[0mreturn_weights\u001b[0m \u001b[0;34m=\u001b[0m \u001b[0mtorch\u001b[0m\u001b[0;34m.\u001b[0m\u001b[0mones\u001b[0m\u001b[0;34m(\u001b[0m\u001b[0mX0\u001b[0m\u001b[0;34m.\u001b[0m\u001b[0mshape\u001b[0m\u001b[0;34m[\u001b[0m\u001b[0;36m0\u001b[0m\u001b[0;34m]\u001b[0m\u001b[0;34m)\u001b[0m\u001b[0;34m\u001b[0m\u001b[0;34m\u001b[0m\u001b[0m\n",
      "\u001b[0;32m~/Python/DR_distributional_test/src/utils.py\u001b[0m in \u001b[0;36mkernel_mean_matching\u001b[0;34m(X_ker, X0, X1, eps, B)\u001b[0m\n\u001b[1;32m     96\u001b[0m     \u001b[0mkappa\u001b[0m \u001b[0;34m=\u001b[0m \u001b[0mtorch\u001b[0m\u001b[0;34m.\u001b[0m\u001b[0msum\u001b[0m\u001b[0;34m(\u001b[0m\u001b[0mkernel_X\u001b[0m\u001b[0;34m(\u001b[0m\u001b[0mX0\u001b[0m\u001b[0;34m,\u001b[0m \u001b[0mX1\u001b[0m\u001b[0;34m)\u001b[0m\u001b[0;34m,\u001b[0m \u001b[0maxis\u001b[0m\u001b[0;34m=\u001b[0m\u001b[0;36m1\u001b[0m\u001b[0;34m)\u001b[0m \u001b[0;34m*\u001b[0m \u001b[0mfloat\u001b[0m\u001b[0;34m(\u001b[0m\u001b[0mn0\u001b[0m\u001b[0;34m)\u001b[0m \u001b[0;34m/\u001b[0m \u001b[0mfloat\u001b[0m\u001b[0;34m(\u001b[0m\u001b[0mn\u001b[0m\u001b[0;34m-\u001b[0m\u001b[0mn0\u001b[0m\u001b[0;34m)\u001b[0m\u001b[0;34m\u001b[0m\u001b[0;34m\u001b[0m\u001b[0m\n\u001b[1;32m     97\u001b[0m \u001b[0;34m\u001b[0m\u001b[0m\n\u001b[0;32m---> 98\u001b[0;31m     \u001b[0mcoef\u001b[0m \u001b[0;34m=\u001b[0m \u001b[0mQPFunction\u001b[0m\u001b[0;34m(\u001b[0m\u001b[0mverbose\u001b[0m\u001b[0;34m=\u001b[0m\u001b[0;34m-\u001b[0m\u001b[0;36m1\u001b[0m\u001b[0;34m)\u001b[0m\u001b[0;34m(\u001b[0m\u001b[0mK_mat\u001b[0m\u001b[0;34m,\u001b[0m \u001b[0;34m-\u001b[0m\u001b[0mkappa\u001b[0m\u001b[0;34m,\u001b[0m \u001b[0mG\u001b[0m\u001b[0;34m,\u001b[0m \u001b[0mh\u001b[0m\u001b[0;34m,\u001b[0m \u001b[0me\u001b[0m\u001b[0;34m,\u001b[0m \u001b[0me\u001b[0m\u001b[0;34m)\u001b[0m\u001b[0;34m\u001b[0m\u001b[0;34m\u001b[0m\u001b[0m\n\u001b[0m\u001b[1;32m     99\u001b[0m \u001b[0;34m\u001b[0m\u001b[0m\n\u001b[1;32m    100\u001b[0m     \u001b[0;32mreturn\u001b[0m \u001b[0mcoef\u001b[0m\u001b[0;34m\u001b[0m\u001b[0;34m\u001b[0m\u001b[0m\n",
      "\u001b[0;32m/opt/miniconda3/lib/python3.8/site-packages/qpth/qp.py\u001b[0m in \u001b[0;36mforward\u001b[0;34m(ctx, Q_, p_, G_, h_, A_, b_)\u001b[0m\n\u001b[1;32m     83\u001b[0m                     \u001b[0me\u001b[0m\u001b[0;34m,\u001b[0m \u001b[0m_\u001b[0m \u001b[0;34m=\u001b[0m \u001b[0mtorch\u001b[0m\u001b[0;34m.\u001b[0m\u001b[0meig\u001b[0m\u001b[0;34m(\u001b[0m\u001b[0mQ\u001b[0m\u001b[0;34m[\u001b[0m\u001b[0mi\u001b[0m\u001b[0;34m]\u001b[0m\u001b[0;34m)\u001b[0m\u001b[0;34m\u001b[0m\u001b[0;34m\u001b[0m\u001b[0m\n\u001b[1;32m     84\u001b[0m                     \u001b[0;32mif\u001b[0m \u001b[0;32mnot\u001b[0m \u001b[0mtorch\u001b[0m\u001b[0;34m.\u001b[0m\u001b[0mall\u001b[0m\u001b[0;34m(\u001b[0m\u001b[0me\u001b[0m\u001b[0;34m[\u001b[0m\u001b[0;34m:\u001b[0m\u001b[0;34m,\u001b[0m\u001b[0;36m0\u001b[0m\u001b[0;34m]\u001b[0m \u001b[0;34m>\u001b[0m \u001b[0;36m0\u001b[0m\u001b[0;34m)\u001b[0m\u001b[0;34m:\u001b[0m\u001b[0;34m\u001b[0m\u001b[0;34m\u001b[0m\u001b[0m\n\u001b[0;32m---> 85\u001b[0;31m                         \u001b[0;32mraise\u001b[0m \u001b[0mRuntimeError\u001b[0m\u001b[0;34m(\u001b[0m\u001b[0;34m'Q is not SPD.'\u001b[0m\u001b[0;34m)\u001b[0m\u001b[0;34m\u001b[0m\u001b[0;34m\u001b[0m\u001b[0m\n\u001b[0m\u001b[1;32m     86\u001b[0m \u001b[0;34m\u001b[0m\u001b[0m\n\u001b[1;32m     87\u001b[0m             \u001b[0m_\u001b[0m\u001b[0;34m,\u001b[0m \u001b[0mnineq\u001b[0m\u001b[0;34m,\u001b[0m \u001b[0mnz\u001b[0m \u001b[0;34m=\u001b[0m \u001b[0mG\u001b[0m\u001b[0;34m.\u001b[0m\u001b[0msize\u001b[0m\u001b[0;34m(\u001b[0m\u001b[0;34m)\u001b[0m\u001b[0;34m\u001b[0m\u001b[0;34m\u001b[0m\u001b[0m\n",
      "\u001b[0;31mRuntimeError\u001b[0m: Q is not SPD."
     ]
    }
   ],
   "source": [
    "result_dict = kernel_permutation_test(data_train,data_test,X_ker,Y_ker,weights_model,test_stat=\"DATE\",n_bins=10,n_permutations=100,reg=1,KMM_weights=True)"
   ]
  },
  {
   "cell_type": "code",
   "execution_count": null,
   "metadata": {},
   "outputs": [
    {
     "data": {
      "text/plain": [
       "100"
      ]
     },
     "execution_count": 68,
     "metadata": {},
     "output_type": "execute_result"
    }
   ],
   "source": [
    "len(data_val.T)"
   ]
  },
  {
   "cell_type": "code",
   "execution_count": null,
   "metadata": {},
   "outputs": [],
   "source": [
    "X_val_data = data_val.X[data_val.T == 0]"
   ]
  },
  {
   "cell_type": "code",
   "execution_count": null,
   "metadata": {},
   "outputs": [
    {
     "ename": "RuntimeError",
     "evalue": "Q is not SPD.",
     "output_type": "error",
     "traceback": [
      "\u001b[0;31m---------------------------------------------------------------------------\u001b[0m",
      "\u001b[0;31mRuntimeError\u001b[0m                              Traceback (most recent call last)",
      "\u001b[0;32m/var/folders/3k/2lkktjyj2r74wt_611v45qs00000gn/T/ipykernel_34720/2889190008.py\u001b[0m in \u001b[0;36m<module>\u001b[0;34m\u001b[0m\n\u001b[0;32m----> 1\u001b[0;31m \u001b[0mkernel_mean_matching\u001b[0m\u001b[0;34m(\u001b[0m\u001b[0mX_ker\u001b[0m\u001b[0;34m,\u001b[0m\u001b[0mdata_test\u001b[0m\u001b[0;34m.\u001b[0m\u001b[0mX1\u001b[0m\u001b[0;34m,\u001b[0m\u001b[0mdata_test\u001b[0m\u001b[0;34m.\u001b[0m\u001b[0mX\u001b[0m\u001b[0;34m)\u001b[0m\u001b[0;34m\u001b[0m\u001b[0;34m\u001b[0m\u001b[0m\n\u001b[0m",
      "\u001b[0;32m~/Python/DR_distributional_test/src/utils.py\u001b[0m in \u001b[0;36mkernel_mean_matching\u001b[0;34m(X_ker, X0, X1, eps, B)\u001b[0m\n\u001b[1;32m     96\u001b[0m     \u001b[0mkappa\u001b[0m \u001b[0;34m=\u001b[0m \u001b[0mtorch\u001b[0m\u001b[0;34m.\u001b[0m\u001b[0msum\u001b[0m\u001b[0;34m(\u001b[0m\u001b[0mkernel_X\u001b[0m\u001b[0;34m(\u001b[0m\u001b[0mX0\u001b[0m\u001b[0;34m,\u001b[0m \u001b[0mX1\u001b[0m\u001b[0;34m)\u001b[0m\u001b[0;34m,\u001b[0m \u001b[0maxis\u001b[0m\u001b[0;34m=\u001b[0m\u001b[0;36m1\u001b[0m\u001b[0;34m)\u001b[0m \u001b[0;34m*\u001b[0m \u001b[0mfloat\u001b[0m\u001b[0;34m(\u001b[0m\u001b[0mn0\u001b[0m\u001b[0;34m)\u001b[0m \u001b[0;34m/\u001b[0m \u001b[0mfloat\u001b[0m\u001b[0;34m(\u001b[0m\u001b[0mn\u001b[0m\u001b[0;34m-\u001b[0m\u001b[0mn0\u001b[0m\u001b[0;34m)\u001b[0m\u001b[0;34m\u001b[0m\u001b[0;34m\u001b[0m\u001b[0m\n\u001b[1;32m     97\u001b[0m \u001b[0;34m\u001b[0m\u001b[0m\n\u001b[0;32m---> 98\u001b[0;31m     \u001b[0mcoef\u001b[0m \u001b[0;34m=\u001b[0m \u001b[0mQPFunction\u001b[0m\u001b[0;34m(\u001b[0m\u001b[0mverbose\u001b[0m\u001b[0;34m=\u001b[0m\u001b[0;34m-\u001b[0m\u001b[0;36m1\u001b[0m\u001b[0;34m)\u001b[0m\u001b[0;34m(\u001b[0m\u001b[0mK_mat\u001b[0m\u001b[0;34m,\u001b[0m \u001b[0;34m-\u001b[0m\u001b[0mkappa\u001b[0m\u001b[0;34m,\u001b[0m \u001b[0mG\u001b[0m\u001b[0;34m,\u001b[0m \u001b[0mh\u001b[0m\u001b[0;34m,\u001b[0m \u001b[0me\u001b[0m\u001b[0;34m,\u001b[0m \u001b[0me\u001b[0m\u001b[0;34m)\u001b[0m\u001b[0;34m\u001b[0m\u001b[0;34m\u001b[0m\u001b[0m\n\u001b[0m\u001b[1;32m     99\u001b[0m \u001b[0;34m\u001b[0m\u001b[0m\n\u001b[1;32m    100\u001b[0m     \u001b[0;32mreturn\u001b[0m \u001b[0mcoef\u001b[0m\u001b[0;34m\u001b[0m\u001b[0;34m\u001b[0m\u001b[0m\n",
      "\u001b[0;32m/opt/miniconda3/lib/python3.8/site-packages/qpth/qp.py\u001b[0m in \u001b[0;36mforward\u001b[0;34m(ctx, Q_, p_, G_, h_, A_, b_)\u001b[0m\n\u001b[1;32m     83\u001b[0m                     \u001b[0me\u001b[0m\u001b[0;34m,\u001b[0m \u001b[0m_\u001b[0m \u001b[0;34m=\u001b[0m \u001b[0mtorch\u001b[0m\u001b[0;34m.\u001b[0m\u001b[0meig\u001b[0m\u001b[0;34m(\u001b[0m\u001b[0mQ\u001b[0m\u001b[0;34m[\u001b[0m\u001b[0mi\u001b[0m\u001b[0;34m]\u001b[0m\u001b[0;34m)\u001b[0m\u001b[0;34m\u001b[0m\u001b[0;34m\u001b[0m\u001b[0m\n\u001b[1;32m     84\u001b[0m                     \u001b[0;32mif\u001b[0m \u001b[0;32mnot\u001b[0m \u001b[0mtorch\u001b[0m\u001b[0;34m.\u001b[0m\u001b[0mall\u001b[0m\u001b[0;34m(\u001b[0m\u001b[0me\u001b[0m\u001b[0;34m[\u001b[0m\u001b[0;34m:\u001b[0m\u001b[0;34m,\u001b[0m\u001b[0;36m0\u001b[0m\u001b[0;34m]\u001b[0m \u001b[0;34m>\u001b[0m \u001b[0;36m0\u001b[0m\u001b[0;34m)\u001b[0m\u001b[0;34m:\u001b[0m\u001b[0;34m\u001b[0m\u001b[0;34m\u001b[0m\u001b[0m\n\u001b[0;32m---> 85\u001b[0;31m                         \u001b[0;32mraise\u001b[0m \u001b[0mRuntimeError\u001b[0m\u001b[0;34m(\u001b[0m\u001b[0;34m'Q is not SPD.'\u001b[0m\u001b[0;34m)\u001b[0m\u001b[0;34m\u001b[0m\u001b[0;34m\u001b[0m\u001b[0m\n\u001b[0m\u001b[1;32m     86\u001b[0m \u001b[0;34m\u001b[0m\u001b[0m\n\u001b[1;32m     87\u001b[0m             \u001b[0m_\u001b[0m\u001b[0;34m,\u001b[0m \u001b[0mnineq\u001b[0m\u001b[0;34m,\u001b[0m \u001b[0mnz\u001b[0m \u001b[0;34m=\u001b[0m \u001b[0mG\u001b[0m\u001b[0;34m.\u001b[0m\u001b[0msize\u001b[0m\u001b[0;34m(\u001b[0m\u001b[0;34m)\u001b[0m\u001b[0;34m\u001b[0m\u001b[0;34m\u001b[0m\u001b[0m\n",
      "\u001b[0;31mRuntimeError\u001b[0m: Q is not SPD."
     ]
    }
   ],
   "source": [
    "kernel_mean_matching(X_ker,data_test.X1,data_test.X)"
   ]
  },
  {
   "cell_type": "code",
   "execution_count": null,
   "metadata": {},
   "outputs": [
    {
     "data": {
      "text/plain": [
       "tensor([[ 0.2245, -0.0372],\n",
       "        [ 0.2849,  1.3831],\n",
       "        [-2.4144, -1.4844],\n",
       "        [-1.0680,  0.5263],\n",
       "        [ 0.9512, -1.5847],\n",
       "        [ 0.4823, -0.4790],\n",
       "        [-0.5240, -0.6070],\n",
       "        [ 1.1552, -1.4885],\n",
       "        [ 1.7344, -0.4447],\n",
       "        [ 0.4220,  0.1468],\n",
       "        [ 1.1870,  0.6172],\n",
       "        [ 1.7036, -1.1028],\n",
       "        [-0.8989,  0.4781],\n",
       "        [-0.9170,  0.6102],\n",
       "        [-0.4991,  0.3793],\n",
       "        [ 0.3417, -0.9079],\n",
       "        [ 0.9360, -0.6211],\n",
       "        [ 1.1611,  1.1436],\n",
       "        [ 0.6017,  0.3321],\n",
       "        [-0.4207, -1.0678],\n",
       "        [ 2.7563, -0.4940],\n",
       "        [-1.5078,  0.6656],\n",
       "        [-0.9820, -1.6307],\n",
       "        [-1.7870,  0.8285],\n",
       "        [ 0.2601,  0.8393],\n",
       "        [ 0.6833,  0.6449],\n",
       "        [-0.2842, -0.1314],\n",
       "        [ 1.7600, -0.2359],\n",
       "        [ 1.1459,  0.5760],\n",
       "        [ 0.5180, -0.8124],\n",
       "        [ 0.3778, -1.2391],\n",
       "        [ 0.4066,  0.0221],\n",
       "        [-1.2392,  0.2994],\n",
       "        [-0.5706,  0.1944],\n",
       "        [ 0.3937, -2.0141],\n",
       "        [-0.2365, -1.1569],\n",
       "        [ 1.5521,  1.2096],\n",
       "        [ 0.7331, -0.8390],\n",
       "        [ 0.0073,  0.2577],\n",
       "        [-0.0130,  0.1871],\n",
       "        [-1.0718,  0.0793],\n",
       "        [ 0.1859, -1.1394],\n",
       "        [-0.8120,  0.6786],\n",
       "        [-1.0233,  0.6961],\n",
       "        [ 0.3494, -0.1297],\n",
       "        [ 0.4765,  0.9511],\n",
       "        [ 0.1454,  1.2011],\n",
       "        [-0.1179,  1.0397],\n",
       "        [ 0.2593, -0.0894],\n",
       "        [-0.4349, -0.2918],\n",
       "        [ 0.0451,  0.2997],\n",
       "        [ 0.8365, -1.0309],\n",
       "        [ 0.6697, -0.0364],\n",
       "        [ 0.1645,  0.1041],\n",
       "        [-1.1993,  0.1188],\n",
       "        [ 0.2725,  1.4584],\n",
       "        [-0.5917,  1.4481],\n",
       "        [-0.5033, -0.4892],\n",
       "        [-1.3154,  0.1085],\n",
       "        [ 0.3558, -1.0641],\n",
       "        [-0.5979,  0.4939],\n",
       "        [ 0.0049,  0.8441],\n",
       "        [ 1.6475, -0.9858],\n",
       "        [-0.1324,  0.1450],\n",
       "        [-2.4226,  0.2753],\n",
       "        [ 0.8808, -0.1080],\n",
       "        [ 1.7647,  0.8484],\n",
       "        [-1.2787, -0.1035],\n",
       "        [-0.1122,  0.9113],\n",
       "        [ 0.6091,  0.8829],\n",
       "        [-0.3337, -1.6282],\n",
       "        [-0.4406,  0.6396],\n",
       "        [-1.7111,  0.1502],\n",
       "        [ 1.2632,  0.7251],\n",
       "        [-0.4064, -0.2505],\n",
       "        [ 0.1572, -0.1939],\n",
       "        [ 0.0217,  1.1420],\n",
       "        [ 0.9595, -0.4204],\n",
       "        [ 0.8774,  0.8640],\n",
       "        [ 0.8402,  0.6344],\n",
       "        [ 0.0091, -0.2177],\n",
       "        [ 1.8900, -0.6756],\n",
       "        [ 0.4648, -0.0478],\n",
       "        [ 0.0454, -1.1785],\n",
       "        [-0.3254, -0.1471],\n",
       "        [-0.5266,  0.7389],\n",
       "        [ 1.1735, -0.9234],\n",
       "        [ 0.1859,  1.2539],\n",
       "        [-0.8500,  0.0987],\n",
       "        [-1.6667,  0.0761],\n",
       "        [-0.1365, -2.0223],\n",
       "        [-0.2061,  0.9353],\n",
       "        [-0.7813, -0.9350],\n",
       "        [ 0.3906, -0.4747],\n",
       "        [-1.4096, -2.6466],\n",
       "        [ 0.5422,  0.7929],\n",
       "        [-0.8743,  1.1616],\n",
       "        [-0.7855, -0.4998],\n",
       "        [-1.2823, -1.0466],\n",
       "        [-1.4801,  1.5604]])"
      ]
     },
     "execution_count": 71,
     "metadata": {},
     "output_type": "execute_result"
    }
   ],
   "source": [
    "data_train.X"
   ]
  },
  {
   "cell_type": "code",
   "execution_count": null,
   "metadata": {},
   "outputs": [],
   "source": [
    "K = ker(X_ker)\n",
    "L = ker(Y_ker)\n",
    "W0 = get_W_matrix(X_ker(data_train.X0).evaluate(),1,\"cme\")\n",
    "W1 = get_W_matrix(X_ker(data_train.X1).evaluate(),1,\"cme\")"
   ]
  },
  {
   "cell_type": "code",
   "execution_count": null,
   "metadata": {},
   "outputs": [
    {
     "data": {
      "text/plain": [
       "tensor([[ 9.9650e-01,  9.2141e-01,  4.0444e-02,  ...,  1.4607e-03,\n",
       "          4.4177e-03,  4.3555e-01],\n",
       "        [ 9.2173e-01,  9.9683e-01,  1.1443e-02,  ...,  6.1118e-03,\n",
       "         -3.8566e-04,  6.7134e-01],\n",
       "        [ 3.8187e-02,  1.0576e-02,  9.9769e-01,  ..., -6.4834e-04,\n",
       "          7.7048e-01, -2.7286e-03],\n",
       "        ...,\n",
       "        [-2.0275e-04,  5.5464e-03, -2.8002e-03,  ...,  9.9733e-01,\n",
       "         -1.8889e-03,  8.1355e-02],\n",
       "        [ 5.1566e-03,  1.2083e-03,  7.7167e-01,  ..., -2.3636e-05,\n",
       "          9.9996e-01, -1.0561e-04],\n",
       "        [ 4.3827e-01,  6.7275e-01,  2.3699e-04,  ...,  8.0030e-02,\n",
       "         -3.4985e-04,  9.9782e-01]], grad_fn=<AddBackward0>)"
      ]
     },
     "execution_count": 58,
     "metadata": {},
     "output_type": "execute_result"
    }
   ],
   "source": [
    "L(data_val.Y0,data_val.Y0) -2 * K(data_train.X0,data_val.X0).T @ (W0 @ (L(data_train.Y0,data_val.Y0)))+ (K(data_train.X0,data_val.X0).T @ (W0 @ (L(data_train.Y0,data_train.Y0)@ (W0 @ (K(data_train.X0,data_val.X0))))))"
   ]
  },
  {
   "cell_type": "code",
   "execution_count": null,
   "metadata": {},
   "outputs": [],
   "source": [
    "# Load config file\n",
    "with open(\"config/wrapped_simulaton_cfg.yaml\", \"r\") as f:\n",
    "    cfg = yaml.safe_load(f)"
   ]
  },
  {
   "cell_type": "code",
   "execution_count": null,
   "metadata": {},
   "outputs": [
    {
     "data": {
      "text/plain": [
       "{'moving_param': {'beta_scalar': True,\n",
       "  'n_train_sample': False,\n",
       "  'n_test_sample': False,\n",
       "  'values': [0, 0.05]},\n",
       " 'experiment': {'n_iter': 2,\n",
       "  'test_stat': ['DATE', 'DETT'],\n",
       "  'comparison_model': ['TMLE', 'DML'],\n",
       "  'ker_regress': ['cme', 'zero'],\n",
       "  'weights_model': 'MLP',\n",
       "  'X_ker': 'RBF',\n",
       "  'Y_ker': 'RBF',\n",
       "  'significance_level': 0.05,\n",
       "  'n_bins': 20,\n",
       "  'cme_reg': 0.01,\n",
       "  'permute_weights': True,\n",
       "  'KMM_weights': True},\n",
       " 'data': {'generator': 'linear_data_simulation',\n",
       "  'n_train_sample': 50,\n",
       "  'n_test_sample': 50,\n",
       "  'arguments': {'alpha_vec': [0.1, 0.2, 0.3, 0.4, 0.5],\n",
       "   'beta_vec': [0.1, 0.2, 0.3, 0.4, 0.5],\n",
       "   'beta_scalar': 0.2,\n",
       "   'effect_var': 'Unif',\n",
       "   'noise_Y': 0.2}}}"
      ]
     },
     "execution_count": 62,
     "metadata": {},
     "output_type": "execute_result"
    }
   ],
   "source": [
    "cfg"
   ]
  },
  {
   "cell_type": "code",
   "execution_count": null,
   "metadata": {},
   "outputs": [],
   "source": [
    "import doubleml as dml"
   ]
  },
  {
   "cell_type": "code",
   "execution_count": null,
   "metadata": {},
   "outputs": [],
   "source": [
    "df = data_train.pd_df()"
   ]
  },
  {
   "cell_type": "code",
   "execution_count": null,
   "metadata": {},
   "outputs": [],
   "source": [
    "X_cols = [col for col in df.columns if col.startswith(\"X\")]"
   ]
  },
  {
   "cell_type": "code",
   "execution_count": null,
   "metadata": {},
   "outputs": [],
   "source": [
    "dml_data = dml.DoubleMLData(df,y_col=\"Y\",d_cols=\"T\",x_cols = X_cols)"
   ]
  },
  {
   "cell_type": "code",
   "execution_count": null,
   "metadata": {},
   "outputs": [],
   "source": [
    "from sklearn.base import clone\n",
    "\n",
    "from sklearn.ensemble import RandomForestRegressor\n",
    "from sklearn.linear_model import LassoCV\n",
    "\n",
    "learner = RandomForestRegressor(n_estimators = 500, max_features = 'sqrt', max_depth= 5)\n",
    "\n",
    "ml_l_bonus = clone(learner)\n",
    "\n",
    "ml_m_bonus = clone(learner)\n",
    "\n",
    "learner = LassoCV()\n",
    "\n",
    "ml_l_sim = clone(learner)\n",
    "\n",
    "ml_m_sim = clone(learner)\n",
    "obj_dml_plr_bonus = dml.DoubleMLPLR(dml_data, ml_l_bonus, ml_m_bonus)"
   ]
  },
  {
   "cell_type": "code",
   "execution_count": null,
   "metadata": {},
   "outputs": [
    {
     "ename": "KeyboardInterrupt",
     "evalue": "",
     "output_type": "error",
     "traceback": [
      "\u001b[0;31m---------------------------------------------------------------------------\u001b[0m",
      "\u001b[0;31mKeyboardInterrupt\u001b[0m                         Traceback (most recent call last)",
      "\u001b[0;32m/var/folders/3k/2lkktjyj2r74wt_611v45qs00000gn/T/ipykernel_10503/3452423557.py\u001b[0m in \u001b[0;36m<module>\u001b[0;34m\u001b[0m\n\u001b[0;32m----> 1\u001b[0;31m \u001b[0mobj_dml_plr_bonus\u001b[0m\u001b[0;34m.\u001b[0m\u001b[0mfit\u001b[0m\u001b[0;34m(\u001b[0m\u001b[0;34m)\u001b[0m\u001b[0;34m\u001b[0m\u001b[0;34m\u001b[0m\u001b[0m\n\u001b[0m",
      "\u001b[0;32m/opt/miniconda3/lib/python3.8/site-packages/doubleml/double_ml.py\u001b[0m in \u001b[0;36mfit\u001b[0;34m(self, n_jobs_cv, store_predictions, store_models)\u001b[0m\n\u001b[1;32m    547\u001b[0m \u001b[0;34m\u001b[0m\u001b[0m\n\u001b[1;32m    548\u001b[0m                 \u001b[0;31m# ml estimation of nuisance models and computation of score elements\u001b[0m\u001b[0;34m\u001b[0m\u001b[0;34m\u001b[0m\u001b[0;34m\u001b[0m\u001b[0m\n\u001b[0;32m--> 549\u001b[0;31m                 \u001b[0mscore_elements\u001b[0m\u001b[0;34m,\u001b[0m \u001b[0mpreds\u001b[0m \u001b[0;34m=\u001b[0m \u001b[0mself\u001b[0m\u001b[0;34m.\u001b[0m\u001b[0m_nuisance_est\u001b[0m\u001b[0;34m(\u001b[0m\u001b[0mself\u001b[0m\u001b[0;34m.\u001b[0m\u001b[0m__smpls\u001b[0m\u001b[0;34m,\u001b[0m \u001b[0mn_jobs_cv\u001b[0m\u001b[0;34m,\u001b[0m \u001b[0mreturn_models\u001b[0m\u001b[0;34m=\u001b[0m\u001b[0mstore_models\u001b[0m\u001b[0;34m)\u001b[0m\u001b[0;34m\u001b[0m\u001b[0;34m\u001b[0m\u001b[0m\n\u001b[0m\u001b[1;32m    550\u001b[0m                 \u001b[0mself\u001b[0m\u001b[0;34m.\u001b[0m\u001b[0m_set_score_elements\u001b[0m\u001b[0;34m(\u001b[0m\u001b[0mscore_elements\u001b[0m\u001b[0;34m,\u001b[0m \u001b[0mself\u001b[0m\u001b[0;34m.\u001b[0m\u001b[0m_i_rep\u001b[0m\u001b[0;34m,\u001b[0m \u001b[0mself\u001b[0m\u001b[0;34m.\u001b[0m\u001b[0m_i_treat\u001b[0m\u001b[0;34m)\u001b[0m\u001b[0;34m\u001b[0m\u001b[0;34m\u001b[0m\u001b[0m\n\u001b[1;32m    551\u001b[0m \u001b[0;34m\u001b[0m\u001b[0m\n",
      "\u001b[0;32m/opt/miniconda3/lib/python3.8/site-packages/doubleml/double_ml_plr.py\u001b[0m in \u001b[0;36m_nuisance_est\u001b[0;34m(self, smpls, n_jobs_cv, return_models)\u001b[0m\n\u001b[1;32m    174\u001b[0m \u001b[0;34m\u001b[0m\u001b[0m\n\u001b[1;32m    175\u001b[0m         \u001b[0;31m# nuisance l\u001b[0m\u001b[0;34m\u001b[0m\u001b[0;34m\u001b[0m\u001b[0;34m\u001b[0m\u001b[0m\n\u001b[0;32m--> 176\u001b[0;31m         l_hat = _dml_cv_predict(self._learner['ml_l'], x, y, smpls=smpls, n_jobs=n_jobs_cv,\n\u001b[0m\u001b[1;32m    177\u001b[0m                                 \u001b[0mest_params\u001b[0m\u001b[0;34m=\u001b[0m\u001b[0mself\u001b[0m\u001b[0;34m.\u001b[0m\u001b[0m_get_params\u001b[0m\u001b[0;34m(\u001b[0m\u001b[0;34m'ml_l'\u001b[0m\u001b[0;34m)\u001b[0m\u001b[0;34m,\u001b[0m \u001b[0mmethod\u001b[0m\u001b[0;34m=\u001b[0m\u001b[0mself\u001b[0m\u001b[0;34m.\u001b[0m\u001b[0m_predict_method\u001b[0m\u001b[0;34m[\u001b[0m\u001b[0;34m'ml_l'\u001b[0m\u001b[0;34m]\u001b[0m\u001b[0;34m,\u001b[0m\u001b[0;34m\u001b[0m\u001b[0;34m\u001b[0m\u001b[0m\n\u001b[1;32m    178\u001b[0m                                 return_models=return_models)\n",
      "\u001b[0;32m/opt/miniconda3/lib/python3.8/site-packages/doubleml/_utils.py\u001b[0m in \u001b[0;36m_dml_cv_predict\u001b[0;34m(estimator, x, y, smpls, n_jobs, est_params, method, return_train_preds, return_models)\u001b[0m\n\u001b[1;32m     61\u001b[0m         \u001b[0;32mif\u001b[0m \u001b[0mest_params\u001b[0m \u001b[0;32mis\u001b[0m \u001b[0;32mNone\u001b[0m\u001b[0;34m:\u001b[0m\u001b[0;34m\u001b[0m\u001b[0;34m\u001b[0m\u001b[0m\n\u001b[1;32m     62\u001b[0m             \u001b[0;31m# if there are no parameters set we redirect to the standard method\u001b[0m\u001b[0;34m\u001b[0m\u001b[0;34m\u001b[0m\u001b[0;34m\u001b[0m\u001b[0m\n\u001b[0;32m---> 63\u001b[0;31m             \u001b[0mpreds\u001b[0m \u001b[0;34m=\u001b[0m \u001b[0mcross_val_predict\u001b[0m\u001b[0;34m(\u001b[0m\u001b[0mclone\u001b[0m\u001b[0;34m(\u001b[0m\u001b[0mestimator\u001b[0m\u001b[0;34m)\u001b[0m\u001b[0;34m,\u001b[0m \u001b[0mx\u001b[0m\u001b[0;34m,\u001b[0m \u001b[0my\u001b[0m\u001b[0;34m,\u001b[0m \u001b[0mcv\u001b[0m\u001b[0;34m=\u001b[0m\u001b[0msmpls\u001b[0m\u001b[0;34m,\u001b[0m \u001b[0mn_jobs\u001b[0m\u001b[0;34m=\u001b[0m\u001b[0mn_jobs\u001b[0m\u001b[0;34m,\u001b[0m \u001b[0mmethod\u001b[0m\u001b[0;34m=\u001b[0m\u001b[0mmethod\u001b[0m\u001b[0;34m)\u001b[0m\u001b[0;34m\u001b[0m\u001b[0;34m\u001b[0m\u001b[0m\n\u001b[0m\u001b[1;32m     64\u001b[0m         \u001b[0;32melse\u001b[0m\u001b[0;34m:\u001b[0m\u001b[0;34m\u001b[0m\u001b[0;34m\u001b[0m\u001b[0m\n\u001b[1;32m     65\u001b[0m             \u001b[0;32massert\u001b[0m \u001b[0misinstance\u001b[0m\u001b[0;34m(\u001b[0m\u001b[0mest_params\u001b[0m\u001b[0;34m,\u001b[0m \u001b[0mdict\u001b[0m\u001b[0;34m)\u001b[0m\u001b[0;34m\u001b[0m\u001b[0;34m\u001b[0m\u001b[0m\n",
      "\u001b[0;32m/opt/miniconda3/lib/python3.8/site-packages/sklearn/model_selection/_validation.py\u001b[0m in \u001b[0;36mcross_val_predict\u001b[0;34m(estimator, X, y, groups, cv, n_jobs, verbose, fit_params, pre_dispatch, method)\u001b[0m\n\u001b[1;32m    960\u001b[0m     \u001b[0;31m# independent, and that it is pickle-able.\u001b[0m\u001b[0;34m\u001b[0m\u001b[0;34m\u001b[0m\u001b[0;34m\u001b[0m\u001b[0m\n\u001b[1;32m    961\u001b[0m     \u001b[0mparallel\u001b[0m \u001b[0;34m=\u001b[0m \u001b[0mParallel\u001b[0m\u001b[0;34m(\u001b[0m\u001b[0mn_jobs\u001b[0m\u001b[0;34m=\u001b[0m\u001b[0mn_jobs\u001b[0m\u001b[0;34m,\u001b[0m \u001b[0mverbose\u001b[0m\u001b[0;34m=\u001b[0m\u001b[0mverbose\u001b[0m\u001b[0;34m,\u001b[0m \u001b[0mpre_dispatch\u001b[0m\u001b[0;34m=\u001b[0m\u001b[0mpre_dispatch\u001b[0m\u001b[0;34m)\u001b[0m\u001b[0;34m\u001b[0m\u001b[0;34m\u001b[0m\u001b[0m\n\u001b[0;32m--> 962\u001b[0;31m     predictions = parallel(\n\u001b[0m\u001b[1;32m    963\u001b[0m         delayed(_fit_and_predict)(\n\u001b[1;32m    964\u001b[0m             \u001b[0mclone\u001b[0m\u001b[0;34m(\u001b[0m\u001b[0mestimator\u001b[0m\u001b[0;34m)\u001b[0m\u001b[0;34m,\u001b[0m \u001b[0mX\u001b[0m\u001b[0;34m,\u001b[0m \u001b[0my\u001b[0m\u001b[0;34m,\u001b[0m \u001b[0mtrain\u001b[0m\u001b[0;34m,\u001b[0m \u001b[0mtest\u001b[0m\u001b[0;34m,\u001b[0m \u001b[0mverbose\u001b[0m\u001b[0;34m,\u001b[0m \u001b[0mfit_params\u001b[0m\u001b[0;34m,\u001b[0m \u001b[0mmethod\u001b[0m\u001b[0;34m\u001b[0m\u001b[0;34m\u001b[0m\u001b[0m\n",
      "\u001b[0;32m/opt/miniconda3/lib/python3.8/site-packages/joblib/parallel.py\u001b[0m in \u001b[0;36m__call__\u001b[0;34m(self, iterable)\u001b[0m\n\u001b[1;32m   1044\u001b[0m                 \u001b[0mself\u001b[0m\u001b[0;34m.\u001b[0m\u001b[0m_iterating\u001b[0m \u001b[0;34m=\u001b[0m \u001b[0mself\u001b[0m\u001b[0;34m.\u001b[0m\u001b[0m_original_iterator\u001b[0m \u001b[0;32mis\u001b[0m \u001b[0;32mnot\u001b[0m \u001b[0;32mNone\u001b[0m\u001b[0;34m\u001b[0m\u001b[0;34m\u001b[0m\u001b[0m\n\u001b[1;32m   1045\u001b[0m \u001b[0;34m\u001b[0m\u001b[0m\n\u001b[0;32m-> 1046\u001b[0;31m             \u001b[0;32mwhile\u001b[0m \u001b[0mself\u001b[0m\u001b[0;34m.\u001b[0m\u001b[0mdispatch_one_batch\u001b[0m\u001b[0;34m(\u001b[0m\u001b[0miterator\u001b[0m\u001b[0;34m)\u001b[0m\u001b[0;34m:\u001b[0m\u001b[0;34m\u001b[0m\u001b[0;34m\u001b[0m\u001b[0m\n\u001b[0m\u001b[1;32m   1047\u001b[0m                 \u001b[0;32mpass\u001b[0m\u001b[0;34m\u001b[0m\u001b[0;34m\u001b[0m\u001b[0m\n\u001b[1;32m   1048\u001b[0m \u001b[0;34m\u001b[0m\u001b[0m\n",
      "\u001b[0;32m/opt/miniconda3/lib/python3.8/site-packages/joblib/parallel.py\u001b[0m in \u001b[0;36mdispatch_one_batch\u001b[0;34m(self, iterator)\u001b[0m\n\u001b[1;32m    859\u001b[0m                 \u001b[0;32mreturn\u001b[0m \u001b[0;32mFalse\u001b[0m\u001b[0;34m\u001b[0m\u001b[0;34m\u001b[0m\u001b[0m\n\u001b[1;32m    860\u001b[0m             \u001b[0;32melse\u001b[0m\u001b[0;34m:\u001b[0m\u001b[0;34m\u001b[0m\u001b[0;34m\u001b[0m\u001b[0m\n\u001b[0;32m--> 861\u001b[0;31m                 \u001b[0mself\u001b[0m\u001b[0;34m.\u001b[0m\u001b[0m_dispatch\u001b[0m\u001b[0;34m(\u001b[0m\u001b[0mtasks\u001b[0m\u001b[0;34m)\u001b[0m\u001b[0;34m\u001b[0m\u001b[0;34m\u001b[0m\u001b[0m\n\u001b[0m\u001b[1;32m    862\u001b[0m                 \u001b[0;32mreturn\u001b[0m \u001b[0;32mTrue\u001b[0m\u001b[0;34m\u001b[0m\u001b[0;34m\u001b[0m\u001b[0m\n\u001b[1;32m    863\u001b[0m \u001b[0;34m\u001b[0m\u001b[0m\n",
      "\u001b[0;32m/opt/miniconda3/lib/python3.8/site-packages/joblib/parallel.py\u001b[0m in \u001b[0;36m_dispatch\u001b[0;34m(self, batch)\u001b[0m\n\u001b[1;32m    777\u001b[0m         \u001b[0;32mwith\u001b[0m \u001b[0mself\u001b[0m\u001b[0;34m.\u001b[0m\u001b[0m_lock\u001b[0m\u001b[0;34m:\u001b[0m\u001b[0;34m\u001b[0m\u001b[0;34m\u001b[0m\u001b[0m\n\u001b[1;32m    778\u001b[0m             \u001b[0mjob_idx\u001b[0m \u001b[0;34m=\u001b[0m \u001b[0mlen\u001b[0m\u001b[0;34m(\u001b[0m\u001b[0mself\u001b[0m\u001b[0;34m.\u001b[0m\u001b[0m_jobs\u001b[0m\u001b[0;34m)\u001b[0m\u001b[0;34m\u001b[0m\u001b[0;34m\u001b[0m\u001b[0m\n\u001b[0;32m--> 779\u001b[0;31m             \u001b[0mjob\u001b[0m \u001b[0;34m=\u001b[0m \u001b[0mself\u001b[0m\u001b[0;34m.\u001b[0m\u001b[0m_backend\u001b[0m\u001b[0;34m.\u001b[0m\u001b[0mapply_async\u001b[0m\u001b[0;34m(\u001b[0m\u001b[0mbatch\u001b[0m\u001b[0;34m,\u001b[0m \u001b[0mcallback\u001b[0m\u001b[0;34m=\u001b[0m\u001b[0mcb\u001b[0m\u001b[0;34m)\u001b[0m\u001b[0;34m\u001b[0m\u001b[0;34m\u001b[0m\u001b[0m\n\u001b[0m\u001b[1;32m    780\u001b[0m             \u001b[0;31m# A job can complete so quickly than its callback is\u001b[0m\u001b[0;34m\u001b[0m\u001b[0;34m\u001b[0m\u001b[0;34m\u001b[0m\u001b[0m\n\u001b[1;32m    781\u001b[0m             \u001b[0;31m# called before we get here, causing self._jobs to\u001b[0m\u001b[0;34m\u001b[0m\u001b[0;34m\u001b[0m\u001b[0;34m\u001b[0m\u001b[0m\n",
      "\u001b[0;32m/opt/miniconda3/lib/python3.8/site-packages/joblib/_parallel_backends.py\u001b[0m in \u001b[0;36mapply_async\u001b[0;34m(self, func, callback)\u001b[0m\n\u001b[1;32m    206\u001b[0m     \u001b[0;32mdef\u001b[0m \u001b[0mapply_async\u001b[0m\u001b[0;34m(\u001b[0m\u001b[0mself\u001b[0m\u001b[0;34m,\u001b[0m \u001b[0mfunc\u001b[0m\u001b[0;34m,\u001b[0m \u001b[0mcallback\u001b[0m\u001b[0;34m=\u001b[0m\u001b[0;32mNone\u001b[0m\u001b[0;34m)\u001b[0m\u001b[0;34m:\u001b[0m\u001b[0;34m\u001b[0m\u001b[0;34m\u001b[0m\u001b[0m\n\u001b[1;32m    207\u001b[0m         \u001b[0;34m\"\"\"Schedule a func to be run\"\"\"\u001b[0m\u001b[0;34m\u001b[0m\u001b[0;34m\u001b[0m\u001b[0m\n\u001b[0;32m--> 208\u001b[0;31m         \u001b[0mresult\u001b[0m \u001b[0;34m=\u001b[0m \u001b[0mImmediateResult\u001b[0m\u001b[0;34m(\u001b[0m\u001b[0mfunc\u001b[0m\u001b[0;34m)\u001b[0m\u001b[0;34m\u001b[0m\u001b[0;34m\u001b[0m\u001b[0m\n\u001b[0m\u001b[1;32m    209\u001b[0m         \u001b[0;32mif\u001b[0m \u001b[0mcallback\u001b[0m\u001b[0;34m:\u001b[0m\u001b[0;34m\u001b[0m\u001b[0;34m\u001b[0m\u001b[0m\n\u001b[1;32m    210\u001b[0m             \u001b[0mcallback\u001b[0m\u001b[0;34m(\u001b[0m\u001b[0mresult\u001b[0m\u001b[0;34m)\u001b[0m\u001b[0;34m\u001b[0m\u001b[0;34m\u001b[0m\u001b[0m\n",
      "\u001b[0;32m/opt/miniconda3/lib/python3.8/site-packages/joblib/_parallel_backends.py\u001b[0m in \u001b[0;36m__init__\u001b[0;34m(self, batch)\u001b[0m\n\u001b[1;32m    570\u001b[0m         \u001b[0;31m# Don't delay the application, to avoid keeping the input\u001b[0m\u001b[0;34m\u001b[0m\u001b[0;34m\u001b[0m\u001b[0;34m\u001b[0m\u001b[0m\n\u001b[1;32m    571\u001b[0m         \u001b[0;31m# arguments in memory\u001b[0m\u001b[0;34m\u001b[0m\u001b[0;34m\u001b[0m\u001b[0;34m\u001b[0m\u001b[0m\n\u001b[0;32m--> 572\u001b[0;31m         \u001b[0mself\u001b[0m\u001b[0;34m.\u001b[0m\u001b[0mresults\u001b[0m \u001b[0;34m=\u001b[0m \u001b[0mbatch\u001b[0m\u001b[0;34m(\u001b[0m\u001b[0;34m)\u001b[0m\u001b[0;34m\u001b[0m\u001b[0;34m\u001b[0m\u001b[0m\n\u001b[0m\u001b[1;32m    573\u001b[0m \u001b[0;34m\u001b[0m\u001b[0m\n\u001b[1;32m    574\u001b[0m     \u001b[0;32mdef\u001b[0m \u001b[0mget\u001b[0m\u001b[0;34m(\u001b[0m\u001b[0mself\u001b[0m\u001b[0;34m)\u001b[0m\u001b[0;34m:\u001b[0m\u001b[0;34m\u001b[0m\u001b[0;34m\u001b[0m\u001b[0m\n",
      "\u001b[0;32m/opt/miniconda3/lib/python3.8/site-packages/joblib/parallel.py\u001b[0m in \u001b[0;36m__call__\u001b[0;34m(self)\u001b[0m\n\u001b[1;32m    260\u001b[0m         \u001b[0;31m# change the default number of processes to -1\u001b[0m\u001b[0;34m\u001b[0m\u001b[0;34m\u001b[0m\u001b[0;34m\u001b[0m\u001b[0m\n\u001b[1;32m    261\u001b[0m         \u001b[0;32mwith\u001b[0m \u001b[0mparallel_backend\u001b[0m\u001b[0;34m(\u001b[0m\u001b[0mself\u001b[0m\u001b[0;34m.\u001b[0m\u001b[0m_backend\u001b[0m\u001b[0;34m,\u001b[0m \u001b[0mn_jobs\u001b[0m\u001b[0;34m=\u001b[0m\u001b[0mself\u001b[0m\u001b[0;34m.\u001b[0m\u001b[0m_n_jobs\u001b[0m\u001b[0;34m)\u001b[0m\u001b[0;34m:\u001b[0m\u001b[0;34m\u001b[0m\u001b[0;34m\u001b[0m\u001b[0m\n\u001b[0;32m--> 262\u001b[0;31m             return [func(*args, **kwargs)\n\u001b[0m\u001b[1;32m    263\u001b[0m                     for func, args, kwargs in self.items]\n\u001b[1;32m    264\u001b[0m \u001b[0;34m\u001b[0m\u001b[0m\n",
      "\u001b[0;32m/opt/miniconda3/lib/python3.8/site-packages/joblib/parallel.py\u001b[0m in \u001b[0;36m<listcomp>\u001b[0;34m(.0)\u001b[0m\n\u001b[1;32m    260\u001b[0m         \u001b[0;31m# change the default number of processes to -1\u001b[0m\u001b[0;34m\u001b[0m\u001b[0;34m\u001b[0m\u001b[0;34m\u001b[0m\u001b[0m\n\u001b[1;32m    261\u001b[0m         \u001b[0;32mwith\u001b[0m \u001b[0mparallel_backend\u001b[0m\u001b[0;34m(\u001b[0m\u001b[0mself\u001b[0m\u001b[0;34m.\u001b[0m\u001b[0m_backend\u001b[0m\u001b[0;34m,\u001b[0m \u001b[0mn_jobs\u001b[0m\u001b[0;34m=\u001b[0m\u001b[0mself\u001b[0m\u001b[0;34m.\u001b[0m\u001b[0m_n_jobs\u001b[0m\u001b[0;34m)\u001b[0m\u001b[0;34m:\u001b[0m\u001b[0;34m\u001b[0m\u001b[0;34m\u001b[0m\u001b[0m\n\u001b[0;32m--> 262\u001b[0;31m             return [func(*args, **kwargs)\n\u001b[0m\u001b[1;32m    263\u001b[0m                     for func, args, kwargs in self.items]\n\u001b[1;32m    264\u001b[0m \u001b[0;34m\u001b[0m\u001b[0m\n",
      "\u001b[0;32m/opt/miniconda3/lib/python3.8/site-packages/sklearn/utils/fixes.py\u001b[0m in \u001b[0;36m__call__\u001b[0;34m(self, *args, **kwargs)\u001b[0m\n\u001b[1;32m    214\u001b[0m     \u001b[0;32mdef\u001b[0m \u001b[0m__call__\u001b[0m\u001b[0;34m(\u001b[0m\u001b[0mself\u001b[0m\u001b[0;34m,\u001b[0m \u001b[0;34m*\u001b[0m\u001b[0margs\u001b[0m\u001b[0;34m,\u001b[0m \u001b[0;34m**\u001b[0m\u001b[0mkwargs\u001b[0m\u001b[0;34m)\u001b[0m\u001b[0;34m:\u001b[0m\u001b[0;34m\u001b[0m\u001b[0;34m\u001b[0m\u001b[0m\n\u001b[1;32m    215\u001b[0m         \u001b[0;32mwith\u001b[0m \u001b[0mconfig_context\u001b[0m\u001b[0;34m(\u001b[0m\u001b[0;34m**\u001b[0m\u001b[0mself\u001b[0m\u001b[0;34m.\u001b[0m\u001b[0mconfig\u001b[0m\u001b[0;34m)\u001b[0m\u001b[0;34m:\u001b[0m\u001b[0;34m\u001b[0m\u001b[0;34m\u001b[0m\u001b[0m\n\u001b[0;32m--> 216\u001b[0;31m             \u001b[0;32mreturn\u001b[0m \u001b[0mself\u001b[0m\u001b[0;34m.\u001b[0m\u001b[0mfunction\u001b[0m\u001b[0;34m(\u001b[0m\u001b[0;34m*\u001b[0m\u001b[0margs\u001b[0m\u001b[0;34m,\u001b[0m \u001b[0;34m**\u001b[0m\u001b[0mkwargs\u001b[0m\u001b[0;34m)\u001b[0m\u001b[0;34m\u001b[0m\u001b[0;34m\u001b[0m\u001b[0m\n\u001b[0m\u001b[1;32m    217\u001b[0m \u001b[0;34m\u001b[0m\u001b[0m\n\u001b[1;32m    218\u001b[0m \u001b[0;34m\u001b[0m\u001b[0m\n",
      "\u001b[0;32m/opt/miniconda3/lib/python3.8/site-packages/sklearn/model_selection/_validation.py\u001b[0m in \u001b[0;36m_fit_and_predict\u001b[0;34m(estimator, X, y, train, test, verbose, fit_params, method)\u001b[0m\n\u001b[1;32m   1042\u001b[0m         \u001b[0mestimator\u001b[0m\u001b[0;34m.\u001b[0m\u001b[0mfit\u001b[0m\u001b[0;34m(\u001b[0m\u001b[0mX_train\u001b[0m\u001b[0;34m,\u001b[0m \u001b[0;34m**\u001b[0m\u001b[0mfit_params\u001b[0m\u001b[0;34m)\u001b[0m\u001b[0;34m\u001b[0m\u001b[0;34m\u001b[0m\u001b[0m\n\u001b[1;32m   1043\u001b[0m     \u001b[0;32melse\u001b[0m\u001b[0;34m:\u001b[0m\u001b[0;34m\u001b[0m\u001b[0;34m\u001b[0m\u001b[0m\n\u001b[0;32m-> 1044\u001b[0;31m         \u001b[0mestimator\u001b[0m\u001b[0;34m.\u001b[0m\u001b[0mfit\u001b[0m\u001b[0;34m(\u001b[0m\u001b[0mX_train\u001b[0m\u001b[0;34m,\u001b[0m \u001b[0my_train\u001b[0m\u001b[0;34m,\u001b[0m \u001b[0;34m**\u001b[0m\u001b[0mfit_params\u001b[0m\u001b[0;34m)\u001b[0m\u001b[0;34m\u001b[0m\u001b[0;34m\u001b[0m\u001b[0m\n\u001b[0m\u001b[1;32m   1045\u001b[0m     \u001b[0mfunc\u001b[0m \u001b[0;34m=\u001b[0m \u001b[0mgetattr\u001b[0m\u001b[0;34m(\u001b[0m\u001b[0mestimator\u001b[0m\u001b[0;34m,\u001b[0m \u001b[0mmethod\u001b[0m\u001b[0;34m)\u001b[0m\u001b[0;34m\u001b[0m\u001b[0;34m\u001b[0m\u001b[0m\n\u001b[1;32m   1046\u001b[0m     \u001b[0mpredictions\u001b[0m \u001b[0;34m=\u001b[0m \u001b[0mfunc\u001b[0m\u001b[0;34m(\u001b[0m\u001b[0mX_test\u001b[0m\u001b[0;34m)\u001b[0m\u001b[0;34m\u001b[0m\u001b[0;34m\u001b[0m\u001b[0m\n",
      "\u001b[0;32m/opt/miniconda3/lib/python3.8/site-packages/sklearn/ensemble/_forest.py\u001b[0m in \u001b[0;36mfit\u001b[0;34m(self, X, y, sample_weight)\u001b[0m\n\u001b[1;32m    437\u001b[0m                 \u001b[0mrandom_state\u001b[0m\u001b[0;34m.\u001b[0m\u001b[0mrandint\u001b[0m\u001b[0;34m(\u001b[0m\u001b[0mMAX_INT\u001b[0m\u001b[0;34m,\u001b[0m \u001b[0msize\u001b[0m\u001b[0;34m=\u001b[0m\u001b[0mlen\u001b[0m\u001b[0;34m(\u001b[0m\u001b[0mself\u001b[0m\u001b[0;34m.\u001b[0m\u001b[0mestimators_\u001b[0m\u001b[0;34m)\u001b[0m\u001b[0;34m)\u001b[0m\u001b[0;34m\u001b[0m\u001b[0;34m\u001b[0m\u001b[0m\n\u001b[1;32m    438\u001b[0m \u001b[0;34m\u001b[0m\u001b[0m\n\u001b[0;32m--> 439\u001b[0;31m             trees = [\n\u001b[0m\u001b[1;32m    440\u001b[0m                 \u001b[0mself\u001b[0m\u001b[0;34m.\u001b[0m\u001b[0m_make_estimator\u001b[0m\u001b[0;34m(\u001b[0m\u001b[0mappend\u001b[0m\u001b[0;34m=\u001b[0m\u001b[0;32mFalse\u001b[0m\u001b[0;34m,\u001b[0m \u001b[0mrandom_state\u001b[0m\u001b[0;34m=\u001b[0m\u001b[0mrandom_state\u001b[0m\u001b[0;34m)\u001b[0m\u001b[0;34m\u001b[0m\u001b[0;34m\u001b[0m\u001b[0m\n\u001b[1;32m    441\u001b[0m                 \u001b[0;32mfor\u001b[0m \u001b[0mi\u001b[0m \u001b[0;32min\u001b[0m \u001b[0mrange\u001b[0m\u001b[0;34m(\u001b[0m\u001b[0mn_more_estimators\u001b[0m\u001b[0;34m)\u001b[0m\u001b[0;34m\u001b[0m\u001b[0;34m\u001b[0m\u001b[0m\n",
      "\u001b[0;32m/opt/miniconda3/lib/python3.8/site-packages/sklearn/ensemble/_forest.py\u001b[0m in \u001b[0;36m<listcomp>\u001b[0;34m(.0)\u001b[0m\n\u001b[1;32m    438\u001b[0m \u001b[0;34m\u001b[0m\u001b[0m\n\u001b[1;32m    439\u001b[0m             trees = [\n\u001b[0;32m--> 440\u001b[0;31m                 \u001b[0mself\u001b[0m\u001b[0;34m.\u001b[0m\u001b[0m_make_estimator\u001b[0m\u001b[0;34m(\u001b[0m\u001b[0mappend\u001b[0m\u001b[0;34m=\u001b[0m\u001b[0;32mFalse\u001b[0m\u001b[0;34m,\u001b[0m \u001b[0mrandom_state\u001b[0m\u001b[0;34m=\u001b[0m\u001b[0mrandom_state\u001b[0m\u001b[0;34m)\u001b[0m\u001b[0;34m\u001b[0m\u001b[0;34m\u001b[0m\u001b[0m\n\u001b[0m\u001b[1;32m    441\u001b[0m                 \u001b[0;32mfor\u001b[0m \u001b[0mi\u001b[0m \u001b[0;32min\u001b[0m \u001b[0mrange\u001b[0m\u001b[0;34m(\u001b[0m\u001b[0mn_more_estimators\u001b[0m\u001b[0;34m)\u001b[0m\u001b[0;34m\u001b[0m\u001b[0;34m\u001b[0m\u001b[0m\n\u001b[1;32m    442\u001b[0m             ]\n",
      "\u001b[0;32m/opt/miniconda3/lib/python3.8/site-packages/sklearn/ensemble/_base.py\u001b[0m in \u001b[0;36m_make_estimator\u001b[0;34m(self, append, random_state)\u001b[0m\n\u001b[1;32m    157\u001b[0m         \"\"\"\n\u001b[1;32m    158\u001b[0m         \u001b[0mestimator\u001b[0m \u001b[0;34m=\u001b[0m \u001b[0mclone\u001b[0m\u001b[0;34m(\u001b[0m\u001b[0mself\u001b[0m\u001b[0;34m.\u001b[0m\u001b[0mbase_estimator_\u001b[0m\u001b[0;34m)\u001b[0m\u001b[0;34m\u001b[0m\u001b[0;34m\u001b[0m\u001b[0m\n\u001b[0;32m--> 159\u001b[0;31m         \u001b[0mestimator\u001b[0m\u001b[0;34m.\u001b[0m\u001b[0mset_params\u001b[0m\u001b[0;34m(\u001b[0m\u001b[0;34m**\u001b[0m\u001b[0;34m{\u001b[0m\u001b[0mp\u001b[0m\u001b[0;34m:\u001b[0m \u001b[0mgetattr\u001b[0m\u001b[0;34m(\u001b[0m\u001b[0mself\u001b[0m\u001b[0;34m,\u001b[0m \u001b[0mp\u001b[0m\u001b[0;34m)\u001b[0m \u001b[0;32mfor\u001b[0m \u001b[0mp\u001b[0m \u001b[0;32min\u001b[0m \u001b[0mself\u001b[0m\u001b[0;34m.\u001b[0m\u001b[0mestimator_params\u001b[0m\u001b[0;34m}\u001b[0m\u001b[0;34m)\u001b[0m\u001b[0;34m\u001b[0m\u001b[0;34m\u001b[0m\u001b[0m\n\u001b[0m\u001b[1;32m    160\u001b[0m \u001b[0;34m\u001b[0m\u001b[0m\n\u001b[1;32m    161\u001b[0m         \u001b[0;31m# TODO: Remove in v1.2\u001b[0m\u001b[0;34m\u001b[0m\u001b[0;34m\u001b[0m\u001b[0;34m\u001b[0m\u001b[0m\n",
      "\u001b[0;32m/opt/miniconda3/lib/python3.8/site-packages/sklearn/base.py\u001b[0m in \u001b[0;36mset_params\u001b[0;34m(self, **params)\u001b[0m\n\u001b[1;32m    237\u001b[0m             \u001b[0;31m# Simple optimization to gain speed (inspect is slow)\u001b[0m\u001b[0;34m\u001b[0m\u001b[0;34m\u001b[0m\u001b[0;34m\u001b[0m\u001b[0m\n\u001b[1;32m    238\u001b[0m             \u001b[0;32mreturn\u001b[0m \u001b[0mself\u001b[0m\u001b[0;34m\u001b[0m\u001b[0;34m\u001b[0m\u001b[0m\n\u001b[0;32m--> 239\u001b[0;31m         \u001b[0mvalid_params\u001b[0m \u001b[0;34m=\u001b[0m \u001b[0mself\u001b[0m\u001b[0;34m.\u001b[0m\u001b[0mget_params\u001b[0m\u001b[0;34m(\u001b[0m\u001b[0mdeep\u001b[0m\u001b[0;34m=\u001b[0m\u001b[0;32mTrue\u001b[0m\u001b[0;34m)\u001b[0m\u001b[0;34m\u001b[0m\u001b[0;34m\u001b[0m\u001b[0m\n\u001b[0m\u001b[1;32m    240\u001b[0m \u001b[0;34m\u001b[0m\u001b[0m\n\u001b[1;32m    241\u001b[0m         \u001b[0mnested_params\u001b[0m \u001b[0;34m=\u001b[0m \u001b[0mdefaultdict\u001b[0m\u001b[0;34m(\u001b[0m\u001b[0mdict\u001b[0m\u001b[0;34m)\u001b[0m  \u001b[0;31m# grouped by prefix\u001b[0m\u001b[0;34m\u001b[0m\u001b[0;34m\u001b[0m\u001b[0m\n",
      "\u001b[0;32m/opt/miniconda3/lib/python3.8/site-packages/sklearn/base.py\u001b[0m in \u001b[0;36mget_params\u001b[0;34m(self, deep)\u001b[0m\n\u001b[1;32m    207\u001b[0m         \"\"\"\n\u001b[1;32m    208\u001b[0m         \u001b[0mout\u001b[0m \u001b[0;34m=\u001b[0m \u001b[0mdict\u001b[0m\u001b[0;34m(\u001b[0m\u001b[0;34m)\u001b[0m\u001b[0;34m\u001b[0m\u001b[0;34m\u001b[0m\u001b[0m\n\u001b[0;32m--> 209\u001b[0;31m         \u001b[0;32mfor\u001b[0m \u001b[0mkey\u001b[0m \u001b[0;32min\u001b[0m \u001b[0mself\u001b[0m\u001b[0;34m.\u001b[0m\u001b[0m_get_param_names\u001b[0m\u001b[0;34m(\u001b[0m\u001b[0;34m)\u001b[0m\u001b[0;34m:\u001b[0m\u001b[0;34m\u001b[0m\u001b[0;34m\u001b[0m\u001b[0m\n\u001b[0m\u001b[1;32m    210\u001b[0m             \u001b[0mvalue\u001b[0m \u001b[0;34m=\u001b[0m \u001b[0mgetattr\u001b[0m\u001b[0;34m(\u001b[0m\u001b[0mself\u001b[0m\u001b[0;34m,\u001b[0m \u001b[0mkey\u001b[0m\u001b[0;34m)\u001b[0m\u001b[0;34m\u001b[0m\u001b[0;34m\u001b[0m\u001b[0m\n\u001b[1;32m    211\u001b[0m             \u001b[0;32mif\u001b[0m \u001b[0mdeep\u001b[0m \u001b[0;32mand\u001b[0m \u001b[0mhasattr\u001b[0m\u001b[0;34m(\u001b[0m\u001b[0mvalue\u001b[0m\u001b[0;34m,\u001b[0m \u001b[0;34m\"get_params\"\u001b[0m\u001b[0;34m)\u001b[0m\u001b[0;34m:\u001b[0m\u001b[0;34m\u001b[0m\u001b[0;34m\u001b[0m\u001b[0m\n",
      "\u001b[0;32m/opt/miniconda3/lib/python3.8/site-packages/sklearn/base.py\u001b[0m in \u001b[0;36m_get_param_names\u001b[0;34m(cls)\u001b[0m\n\u001b[1;32m    174\u001b[0m         \u001b[0minit_signature\u001b[0m \u001b[0;34m=\u001b[0m \u001b[0minspect\u001b[0m\u001b[0;34m.\u001b[0m\u001b[0msignature\u001b[0m\u001b[0;34m(\u001b[0m\u001b[0minit\u001b[0m\u001b[0;34m)\u001b[0m\u001b[0;34m\u001b[0m\u001b[0;34m\u001b[0m\u001b[0m\n\u001b[1;32m    175\u001b[0m         \u001b[0;31m# Consider the constructor parameters excluding 'self'\u001b[0m\u001b[0;34m\u001b[0m\u001b[0;34m\u001b[0m\u001b[0;34m\u001b[0m\u001b[0m\n\u001b[0;32m--> 176\u001b[0;31m         parameters = [\n\u001b[0m\u001b[1;32m    177\u001b[0m             \u001b[0mp\u001b[0m\u001b[0;34m\u001b[0m\u001b[0;34m\u001b[0m\u001b[0m\n\u001b[1;32m    178\u001b[0m             \u001b[0;32mfor\u001b[0m \u001b[0mp\u001b[0m \u001b[0;32min\u001b[0m \u001b[0minit_signature\u001b[0m\u001b[0;34m.\u001b[0m\u001b[0mparameters\u001b[0m\u001b[0;34m.\u001b[0m\u001b[0mvalues\u001b[0m\u001b[0;34m(\u001b[0m\u001b[0;34m)\u001b[0m\u001b[0;34m\u001b[0m\u001b[0;34m\u001b[0m\u001b[0m\n",
      "\u001b[0;31mKeyboardInterrupt\u001b[0m: "
     ]
    }
   ],
   "source": [
    "obj_dml_plr_bonus.fit()"
   ]
  },
  {
   "cell_type": "code",
   "execution_count": null,
   "metadata": {},
   "outputs": [
    {
     "data": {
      "text/plain": [
       "array([0.98513103])"
      ]
     },
     "execution_count": 68,
     "metadata": {},
     "output_type": "execute_result"
    }
   ],
   "source": [
    "obj_dml_plr_bonus.pval"
   ]
  },
  {
   "cell_type": "code",
   "execution_count": null,
   "metadata": {},
   "outputs": [],
   "source": [
    "from src.comparison_models import tmle_test"
   ]
  },
  {
   "cell_type": "code",
   "execution_count": null,
   "metadata": {},
   "outputs": [
    {
     "data": {
      "text/plain": [
       "0.36474594203594113"
      ]
     },
     "execution_count": 70,
     "metadata": {},
     "output_type": "execute_result"
    }
   ],
   "source": [
    "tmle_test(data_test)"
   ]
  },
  {
   "cell_type": "code",
   "execution_count": null,
   "metadata": {},
   "outputs": [],
   "source": [
    "import os\n",
    "import yaml\n",
    "import seaborn as sns"
   ]
  },
  {
   "cell_type": "code",
   "execution_count": null,
   "metadata": {},
   "outputs": [],
   "source": [
    "path_to_dir = \"/Users/jakefawkes/Python/DR_distributional_test/sandbox/08-08 09:57:19\"\n",
    "os.chdir(path_to_dir)"
   ]
  },
  {
   "cell_type": "code",
   "execution_count": null,
   "metadata": {},
   "outputs": [
    {
     "data": {
      "text/plain": [
       "'/Users/jakefawkes/Python/DR_distributional_test/sandbox/08-08 09:57:19'"
      ]
     },
     "execution_count": 48,
     "metadata": {},
     "output_type": "execute_result"
    }
   ],
   "source": [
    "os.getcwd()"
   ]
  },
  {
   "cell_type": "code",
   "execution_count": null,
   "metadata": {},
   "outputs": [],
   "source": [
    "with open(\"scores.metrics\", \"r\") as f:\n",
    "    results_dict = yaml.safe_load(f)\n",
    "with open(\"cfg.yaml\", \"r\") as f:\n",
    "    cfg = yaml.safe_load(f)"
   ]
  },
  {
   "cell_type": "code",
   "execution_count": null,
   "metadata": {},
   "outputs": [],
   "source": [
    "results_dict[\"result\"] = [int(p_val <0.05) for p_val in results_dict[\"p_val\"]]"
   ]
  },
  {
   "cell_type": "code",
   "execution_count": null,
   "metadata": {},
   "outputs": [],
   "source": [
    "results_df = pd.DataFrame(results_dict)"
   ]
  },
  {
   "cell_type": "code",
   "execution_count": null,
   "metadata": {},
   "outputs": [
    {
     "data": {
      "text/html": [
       "<div>\n",
       "<style scoped>\n",
       "    .dataframe tbody tr th:only-of-type {\n",
       "        vertical-align: middle;\n",
       "    }\n",
       "\n",
       "    .dataframe tbody tr th {\n",
       "        vertical-align: top;\n",
       "    }\n",
       "\n",
       "    .dataframe thead th {\n",
       "        text-align: right;\n",
       "    }\n",
       "</style>\n",
       "<table border=\"1\" class=\"dataframe\">\n",
       "  <thead>\n",
       "    <tr style=\"text-align: right;\">\n",
       "      <th></th>\n",
       "      <th>beta_scalar</th>\n",
       "      <th>p_val</th>\n",
       "      <th>result</th>\n",
       "      <th>test_stat</th>\n",
       "    </tr>\n",
       "  </thead>\n",
       "  <tbody>\n",
       "    <tr>\n",
       "      <th>0</th>\n",
       "      <td>0</td>\n",
       "      <td>0.645000</td>\n",
       "      <td>0</td>\n",
       "      <td>DATEcme</td>\n",
       "    </tr>\n",
       "    <tr>\n",
       "      <th>1</th>\n",
       "      <td>0</td>\n",
       "      <td>0.860000</td>\n",
       "      <td>0</td>\n",
       "      <td>DATEzero</td>\n",
       "    </tr>\n",
       "    <tr>\n",
       "      <th>2</th>\n",
       "      <td>0</td>\n",
       "      <td>0.415000</td>\n",
       "      <td>0</td>\n",
       "      <td>DETTcme</td>\n",
       "    </tr>\n",
       "    <tr>\n",
       "      <th>3</th>\n",
       "      <td>0</td>\n",
       "      <td>0.390000</td>\n",
       "      <td>0</td>\n",
       "      <td>DETTzero</td>\n",
       "    </tr>\n",
       "    <tr>\n",
       "      <th>4</th>\n",
       "      <td>0</td>\n",
       "      <td>0.280816</td>\n",
       "      <td>0</td>\n",
       "      <td>TMLE</td>\n",
       "    </tr>\n",
       "    <tr>\n",
       "      <th>5</th>\n",
       "      <td>0</td>\n",
       "      <td>0.636334</td>\n",
       "      <td>0</td>\n",
       "      <td>DML</td>\n",
       "    </tr>\n",
       "    <tr>\n",
       "      <th>6</th>\n",
       "      <td>0</td>\n",
       "      <td>0.415000</td>\n",
       "      <td>0</td>\n",
       "      <td>DATEcme</td>\n",
       "    </tr>\n",
       "    <tr>\n",
       "      <th>7</th>\n",
       "      <td>0</td>\n",
       "      <td>0.520000</td>\n",
       "      <td>0</td>\n",
       "      <td>DATEzero</td>\n",
       "    </tr>\n",
       "    <tr>\n",
       "      <th>8</th>\n",
       "      <td>0</td>\n",
       "      <td>0.340000</td>\n",
       "      <td>0</td>\n",
       "      <td>DETTcme</td>\n",
       "    </tr>\n",
       "    <tr>\n",
       "      <th>9</th>\n",
       "      <td>0</td>\n",
       "      <td>0.355000</td>\n",
       "      <td>0</td>\n",
       "      <td>DETTzero</td>\n",
       "    </tr>\n",
       "    <tr>\n",
       "      <th>10</th>\n",
       "      <td>0</td>\n",
       "      <td>0.234316</td>\n",
       "      <td>0</td>\n",
       "      <td>TMLE</td>\n",
       "    </tr>\n",
       "    <tr>\n",
       "      <th>11</th>\n",
       "      <td>0</td>\n",
       "      <td>0.028177</td>\n",
       "      <td>1</td>\n",
       "      <td>DML</td>\n",
       "    </tr>\n",
       "  </tbody>\n",
       "</table>\n",
       "</div>"
      ],
      "text/plain": [
       "    beta_scalar     p_val  result test_stat\n",
       "0             0  0.645000       0   DATEcme\n",
       "1             0  0.860000       0  DATEzero\n",
       "2             0  0.415000       0   DETTcme\n",
       "3             0  0.390000       0  DETTzero\n",
       "4             0  0.280816       0      TMLE\n",
       "5             0  0.636334       0       DML\n",
       "6             0  0.415000       0   DATEcme\n",
       "7             0  0.520000       0  DATEzero\n",
       "8             0  0.340000       0   DETTcme\n",
       "9             0  0.355000       0  DETTzero\n",
       "10            0  0.234316       0      TMLE\n",
       "11            0  0.028177       1       DML"
      ]
     },
     "execution_count": 65,
     "metadata": {},
     "output_type": "execute_result"
    }
   ],
   "source": [
    "results_df"
   ]
  },
  {
   "cell_type": "code",
   "execution_count": null,
   "metadata": {},
   "outputs": [],
   "source": [
    "if cfg[\"moving_param\"][\"beta_scalar\"]:\n",
    "    moving_param = \"beta_scalar\"\n",
    "if cfg[\"moving_param\"][\"n_train_sample\"]:\n",
    "    moving_param = \"n_sample\""
   ]
  },
  {
   "cell_type": "code",
   "execution_count": null,
   "metadata": {},
   "outputs": [
    {
     "data": {
      "image/png": "[encoded data removed]",
      "text/plain": [
       "<Figure size 432x288 with 1 Axes>"
      ]
     },
     "metadata": {
      "needs_background": "light"
     },
     "output_type": "display_data"
    }
   ],
   "source": [
    "plot = sns.lineplot(data = results_df,x=moving_param,y=\"result\",hue = \"test_stat\")"
   ]
  },
  {
   "cell_type": "code",
   "execution_count": null,
   "metadata": {},
   "outputs": [],
   "source": [
    "fig = plot.get_figure()"
   ]
  },
  {
   "cell_type": "code",
   "execution_count": null,
   "metadata": {},
   "outputs": [],
   "source": [
    "fig.savefig(\"results_plot\")"
   ]
  },
  {
   "cell_type": "code",
   "execution_count": 82,
   "metadata": {},
   "outputs": [],
   "source": [
    "def load_IDHP():\n",
    "    data = pd.read_csv(\"https://raw.githubusercontent.com/AMLab-Amsterdam/CEVAE/master/datasets/IHDP/csv/ihdp_npci_1.csv\", header = None)\n",
    "    col =  [\"treatment\", \"y_factual\", \"y_cfactual\", \"mu0\", \"mu1\" ,]\n",
    "    for i in range(1,26):\n",
    "        col.append(\"x\"+str(i))\n",
    "    data.columns = col\n",
    "    data = data.astype({\"treatment\":'float'}, copy=False)\n",
    "    data\n",
    "    X = torch.tensor(data[[\"x\"+str(i) for  i in range(1,26)]].values)\n",
    "    Y = torch.tensor(data[\"y_factual\"])\n",
    "    T = torch.tensor(data[\"treatment\"])\n",
    "    Y_cf = torch.tensor(data[\"y_cfactual\"])\n",
    "    return X,Y,T,Y_cf\n",
    "\n",
    "\n",
    "        "
   ]
  },
  {
   "cell_type": "code",
   "execution_count": 154,
   "metadata": {},
   "outputs": [],
   "source": [
    "null_hypothesis = True"
   ]
  },
  {
   "cell_type": "code",
   "execution_count": 155,
   "metadata": {},
   "outputs": [],
   "source": [
    "def IDHP_data_object(null_hypothesis = False):\n",
    "    X,Y,T,Y_cf = load_IDHP()\n",
    "    if null_hypothesis:\n",
    "        rand_mat = torch.rand(a.shape)\n",
    "        k_th_quant = torch.topk(rand_mat, 1, largest = False)[0][:,-1:]\n",
    "        mask = rand_mat <= k_th_quant\n",
    "        Y = (torch.concat([Y.unsqueeze(1),Y_cf.unsqueeze(1)],axis=1))[mask]\n",
    "    perm = torch.randperm(len(Y))\n",
    "    prop = torch.randn(len(Y)) > 0 \n",
    "    X_train, Y_train, T_train = X[perm][prop], Y[perm][prop], T[perm][prop]\n",
    "    X_test, Y_test, T_test = X[perm][~prop], Y[perm][~prop], T[perm][~prop]\n",
    "    data_train = Data_object(X_train, Y_train, T_train)\n",
    "    data_test = Data_object(X_test, Y_test, T_test)\n",
    "    data_full =data_test.join(data_train)\n",
    "    return data_train, data_test, data_full"
   ]
  },
  {
   "cell_type": "code",
   "execution_count": 141,
   "metadata": {},
   "outputs": [],
   "source": [
    "IDHP_data_object(null_hypothesis = True)"
   ]
  },
  {
   "cell_type": "code",
   "execution_count": 149,
   "metadata": {},
   "outputs": [],
   "source": [
    "\n"
   ]
  },
  {
   "cell_type": "code",
   "execution_count": 151,
   "metadata": {},
   "outputs": [
    {
     "data": {
      "text/plain": [
       "tensor(388)"
      ]
     },
     "execution_count": 151,
     "metadata": {},
     "output_type": "execute_result"
    }
   ],
   "source": [
    "sum(mask[:,0])"
   ]
  },
  {
   "cell_type": "code",
   "execution_count": 81,
   "metadata": {},
   "outputs": [
    {
     "ename": "SyntaxError",
     "evalue": "unexpected EOF while parsing (3897669998.py, line 3)",
     "output_type": "error",
     "traceback": [
      "\u001b[0;36m  Cell \u001b[0;32mIn[81], line 3\u001b[0;36m\u001b[0m\n\u001b[0;31m    if random_permutation:\u001b[0m\n\u001b[0m                          ^\u001b[0m\n\u001b[0;31mSyntaxError\u001b[0m\u001b[0;31m:\u001b[0m unexpected EOF while parsing\n"
     ]
    }
   ],
   "source": [
    "\n",
    "    X,Y,T,Y_cf = load_IDHP()\n",
    "    if random_permutation:"
   ]
  },
  {
   "cell_type": "code",
   "execution_count": 128,
   "metadata": {},
   "outputs": [
    {
     "data": {
      "text/plain": [
       "tensor([ 9,  5, 14,  3,  1,  7,  7,  0])"
      ]
     },
     "execution_count": 128,
     "metadata": {},
     "output_type": "execute_result"
    }
   ],
   "source": [
    "idx"
   ]
  }
 ],
 "metadata": {
  "kernelspec": {
   "display_name": "base",
   "language": "python",
   "name": "python3"
  },
  "language_info": {
   "codemirror_mode": {
    "name": "ipython",
    "version": 3
   },
   "file_extension": ".py",
   "mimetype": "text/x-python",
   "name": "python",
   "nbconvert_exporter": "python",
   "pygments_lexer": "ipython3",
   "version": "3.8.17"
  },
  "orig_nbformat": 4
 },
 "nbformat": 4,
 "nbformat_minor": 2
}
